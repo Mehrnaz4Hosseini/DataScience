{
 "cells": [
  {
   "cell_type": "code",
   "execution_count": null,
   "id": "c042a5b6",
   "metadata": {},
   "outputs": [],
   "source": [
    "import numpy as np\n",
    "import pandas as pd\n",
    "import datetime\n",
    "import warnings\n",
    "import sys\n",
    "import re\n",
    "\n",
    "import matplotlib.pyplot as plt\n",
    "from matplotlib import colors\n",
    "from matplotlib.colors import ListedColormap\n",
    "from mpl_toolkits.mplot3d import Axes3D\n",
    "import seaborn as sns\n",
    "import plotly.express as px\n",
    "import plotly.graph_objects as go\n",
    "\n",
    "import nltk\n",
    "from nltk.tokenize import word_tokenize, TreebankWordTokenizer\n",
    "from nltk.corpus import stopwords\n",
    "from nltk.stem import WordNetLemmatizer, PorterStemmer\n",
    "from gensim.models import Word2Vec\n",
    "from gensim.utils import simple_preprocess\n",
    "from sentence_transformers import SentenceTransformer\n",
    "\n",
    "from sklearn.preprocessing import LabelEncoder, StandardScaler, normalize, label_binarize\n",
    "from sklearn.model_selection import train_test_split\n",
    "\n",
    "from sklearn.linear_model import LogisticRegression, LinearRegression\n",
    "from sklearn.ensemble import RandomForestClassifier, RandomForestRegressor\n",
    "from sklearn.svm import SVC, SVR\n",
    "import xgboost as xgb\n",
    "from xgboost import XGBClassifier\n",
    "from sklearn.metrics import (\n",
    "    accuracy_score, precision_score, recall_score, f1_score,\n",
    "    confusion_matrix, mean_absolute_error, mean_squared_error,\n",
    "    r2_score, roc_curve, auc, silhouette_score\n",
    ")\n",
    "from sklearn import metrics\n",
    "from sklearn.cluster import KMeans, DBSCAN, AgglomerativeClustering\n",
    "from sklearn.decomposition import PCA\n",
    "from yellowbrick.cluster import KElbowVisualizer\n",
    "import jdatetime\n",
    "from scipy.stats import entropy"
   ]
  },
  {
   "cell_type": "code",
   "execution_count": 2,
   "id": "27d7dfef",
   "metadata": {},
   "outputs": [
    {
     "data": {
      "text/html": [
       "<div>\n",
       "<style scoped>\n",
       "    .dataframe tbody tr th:only-of-type {\n",
       "        vertical-align: middle;\n",
       "    }\n",
       "\n",
       "    .dataframe tbody tr th {\n",
       "        vertical-align: top;\n",
       "    }\n",
       "\n",
       "    .dataframe thead th {\n",
       "        text-align: right;\n",
       "    }\n",
       "</style>\n",
       "<table border=\"1\" class=\"dataframe\">\n",
       "  <thead>\n",
       "    <tr style=\"text-align: right;\">\n",
       "      <th></th>\n",
       "      <th>review_text</th>\n",
       "      <th>review_score</th>\n",
       "    </tr>\n",
       "  </thead>\n",
       "  <tbody>\n",
       "    <tr>\n",
       "      <th>0</th>\n",
       "      <td>It&amp;#146;s the best looking, most enticingly pu...</td>\n",
       "      <td>8</td>\n",
       "    </tr>\n",
       "    <tr>\n",
       "      <th>1</th>\n",
       "      <td>The Nintendo LABO Variety Kit has some fun and...</td>\n",
       "      <td>8</td>\n",
       "    </tr>\n",
       "    <tr>\n",
       "      <th>2</th>\n",
       "      <td>But as far as sound investments go, buying up ...</td>\n",
       "      <td>8</td>\n",
       "    </tr>\n",
       "    <tr>\n",
       "      <th>3</th>\n",
       "      <td>Starts out with a bang, but then quickly falls...</td>\n",
       "      <td>7</td>\n",
       "    </tr>\n",
       "    <tr>\n",
       "      <th>4</th>\n",
       "      <td>Valkyria Revolution tells a decent tale of war...</td>\n",
       "      <td>6</td>\n",
       "    </tr>\n",
       "  </tbody>\n",
       "</table>\n",
       "</div>"
      ],
      "text/plain": [
       "                                         review_text  review_score\n",
       "0  It&#146;s the best looking, most enticingly pu...             8\n",
       "1  The Nintendo LABO Variety Kit has some fun and...             8\n",
       "2  But as far as sound investments go, buying up ...             8\n",
       "3  Starts out with a bang, but then quickly falls...             7\n",
       "4  Valkyria Revolution tells a decent tale of war...             6"
      ]
     },
     "execution_count": 2,
     "metadata": {},
     "output_type": "execute_result"
    }
   ],
   "source": [
    "labeled_data = pd.read_csv('labeled-data.csv')\n",
    "labeled_data.head()"
   ]
  },
  {
   "cell_type": "code",
   "execution_count": 3,
   "id": "367fafa2",
   "metadata": {},
   "outputs": [
    {
     "data": {
      "text/html": [
       "<div>\n",
       "<style scoped>\n",
       "    .dataframe tbody tr th:only-of-type {\n",
       "        vertical-align: middle;\n",
       "    }\n",
       "\n",
       "    .dataframe tbody tr th {\n",
       "        vertical-align: top;\n",
       "    }\n",
       "\n",
       "    .dataframe thead th {\n",
       "        text-align: right;\n",
       "    }\n",
       "</style>\n",
       "<table border=\"1\" class=\"dataframe\">\n",
       "  <thead>\n",
       "    <tr style=\"text-align: right;\">\n",
       "      <th></th>\n",
       "      <th>review_text</th>\n",
       "      <th>review_score</th>\n",
       "    </tr>\n",
       "  </thead>\n",
       "  <tbody>\n",
       "    <tr>\n",
       "      <th>0</th>\n",
       "      <td>While leaning heavily on traditional J-horror ...</td>\n",
       "      <td>NaN</td>\n",
       "    </tr>\n",
       "    <tr>\n",
       "      <th>1</th>\n",
       "      <td>Final Fantasy XIII-2 is a step in the right di...</td>\n",
       "      <td>NaN</td>\n",
       "    </tr>\n",
       "    <tr>\n",
       "      <th>2</th>\n",
       "      <td>Ultimately, this is the type of title that wil...</td>\n",
       "      <td>NaN</td>\n",
       "    </tr>\n",
       "    <tr>\n",
       "      <th>3</th>\n",
       "      <td>Super Monkey Ball Banana Mania combines 300 st...</td>\n",
       "      <td>NaN</td>\n",
       "    </tr>\n",
       "    <tr>\n",
       "      <th>4</th>\n",
       "      <td>I was hoping that Mario Party 5 would be bette...</td>\n",
       "      <td>NaN</td>\n",
       "    </tr>\n",
       "  </tbody>\n",
       "</table>\n",
       "</div>"
      ],
      "text/plain": [
       "                                         review_text  review_score\n",
       "0  While leaning heavily on traditional J-horror ...           NaN\n",
       "1  Final Fantasy XIII-2 is a step in the right di...           NaN\n",
       "2  Ultimately, this is the type of title that wil...           NaN\n",
       "3  Super Monkey Ball Banana Mania combines 300 st...           NaN\n",
       "4  I was hoping that Mario Party 5 would be bette...           NaN"
      ]
     },
     "execution_count": 3,
     "metadata": {},
     "output_type": "execute_result"
    }
   ],
   "source": [
    "unlabeled_data = pd.read_csv('unlabeled-data.csv')\n",
    "unlabeled_data.head()"
   ]
  },
  {
   "cell_type": "code",
   "execution_count": 4,
   "id": "7be15a74",
   "metadata": {},
   "outputs": [
    {
     "data": {
      "application/vnd.jupyter.widget-view+json": {
       "model_id": "752e5d1352a146c6b948f7f2fc511e70",
       "version_major": 2,
       "version_minor": 0
      },
      "text/plain": [
       "Batches:   0%|          | 0/40 [00:00<?, ?it/s]"
      ]
     },
     "metadata": {},
     "output_type": "display_data"
    },
    {
     "name": "stdout",
     "output_type": "stream",
     "text": [
      "Embedding shape: (1250, 384)\n"
     ]
    }
   ],
   "source": [
    "labeled_review = labeled_data['review_text'].astype(str).tolist()\n",
    "\n",
    "model = SentenceTransformer('all-MiniLM-L6-v2')\n",
    "labeled_embeddings_transformer = model.encode(labeled_review, show_progress_bar=True)\n",
    "\n",
    "print(\"Embedding shape:\", labeled_embeddings_transformer.shape)"
   ]
  },
  {
   "cell_type": "code",
   "execution_count": 5,
   "id": "9e53e758",
   "metadata": {},
   "outputs": [
    {
     "data": {
      "application/vnd.jupyter.widget-view+json": {
       "model_id": "a07ac34bffd14917af5f6dc016d0b05f",
       "version_major": 2,
       "version_minor": 0
      },
      "text/plain": [
       "Batches:   0%|          | 0/157 [00:00<?, ?it/s]"
      ]
     },
     "metadata": {},
     "output_type": "display_data"
    },
    {
     "name": "stdout",
     "output_type": "stream",
     "text": [
      "Embedding shape: (5000, 384)\n"
     ]
    }
   ],
   "source": [
    "unlabeled_review = unlabeled_data['review_text'].astype(str).tolist()\n",
    "\n",
    "model = SentenceTransformer('all-MiniLM-L6-v2')\n",
    "unlabeled_embeddings_transformer = model.encode(unlabeled_review, show_progress_bar=True)\n",
    "\n",
    "print(\"Embedding shape:\", unlabeled_embeddings_transformer.shape)"
   ]
  },
  {
   "cell_type": "code",
   "execution_count": null,
   "id": "59d70f6e",
   "metadata": {},
   "outputs": [],
   "source": [
    "\n",
    "\n",
    "def train_word2vec_and_embed(corpus, vector_size=100, window=5, min_count=2, sg=1):\n",
    "    tokenized_corpus = [simple_preprocess(sentence) for sentence in corpus]\n",
    "\n",
    "    model = Word2Vec(\n",
    "        sentences=tokenized_corpus,\n",
    "        vector_size=vector_size,\n",
    "        window=window,\n",
    "        min_count=min_count,\n",
    "        workers=4,\n",
    "        sg=sg\n",
    "    )\n",
    "\n",
    "    def sentence_embedding(sentence, model):\n",
    "        words = simple_preprocess(sentence)\n",
    "        word_vectors = [model.wv[word] for word in words if word in model.wv]\n",
    "        if len(word_vectors) == 0:\n",
    "            return np.zeros(model.vector_size)\n",
    "        return np.mean(word_vectors, axis=0)\n",
    "\n",
    "    sentence_embeddings = np.array([sentence_embedding(sentence, model) for sentence in corpus])\n",
    "\n",
    "    return model, sentence_embeddings\n"
   ]
  },
  {
   "cell_type": "code",
   "execution_count": 7,
   "id": "7884b007",
   "metadata": {},
   "outputs": [
    {
     "name": "stdout",
     "output_type": "stream",
     "text": [
      "Labeled embedding shape: (1250, 100)\n",
      "Unlabeled embedding shape: (5000, 100)\n"
     ]
    }
   ],
   "source": [
    "w2v_model_labeled, labeled_embeddings_w2vec = train_word2vec_and_embed(labeled_review)\n",
    "w2v_model_unlabeled, unlabeled_embeddings_w2vec = train_word2vec_and_embed(unlabeled_review)\n",
    "\n",
    "print(\"Labeled embedding shape:\", labeled_embeddings_w2vec.shape)\n",
    "print(\"Unlabeled embedding shape:\", unlabeled_embeddings_w2vec.shape)\n"
   ]
  },
  {
   "cell_type": "code",
   "execution_count": 8,
   "id": "a6dd19e9",
   "metadata": {},
   "outputs": [
    {
     "data": {
      "application/vnd.plotly.v1+json": {
       "config": {
        "plotlyServerURL": "https://plot.ly"
       },
       "data": [
        {
         "hovertemplate": "PC1=%{x}<br>PC2=%{y}<br>Score=%{marker.color}<extra></extra>",
         "legendgroup": "",
         "marker": {
          "color": {
           "bdata": "CAgIBwYHBgcGBwgIBgoICAcICAkHBQgIBwcJBwgHCQQHCAgICAgICAcJBwgICggIBwQFAwgGCAgICAcHCggHBwgHCAcIBwgIBQcJCAkFBgYGCQgGBwgHCAYIBwcFBggICAgGCQoFCggHBggGCAcGBQgKBggKBQUGCQcHBAgEBwgKCQYJCQcJBgkKAwgICAUICQoHBwYICAIGCAkICgYHBgIICggHCQYHBwQKBgQICQgJCgcJCAkICgcHBwkJBgUICQkDBwgICgkHCQgHBggGCQgIBgoGBgUGCAgHCAoJCggICAQEBAgKBAUECAgICAgDBwgGCgYICAgFBgYICgcFBwUGCQUJCAYIBwgICggHBwYICAcECAgKBggJBwgHBwgIBwgIBwgIBgkICQkFBggIBwgICAYGCAcIBwYIBQQHBgoICAkGCgcIBQQGBwgICAcICQkGBwcGCAgGCAYICQcHCAoEBgUHCAgJBggJCQgIBgQICAYHCQUJBwgIBggJCAgFCAkIBgcHBwgGBgcJBAcHBwcKCAgICQgIBwgIBwgHCQgGCAYGCAgDCAkIBQYJBggHCAcGBwgJCAgJCAgHBggKBAQGCQQHBwcICAkICAgHBwcEBwgHCAcFCQYIBQYIBgkHBggIBwgJBwgICAgDBwgHBwYIBgoICAoKBgcHCAkGBggGBQYIBggFBgkJCAgICAgGCQgICAYIBwYGBggJBAgICQkICAUECQgIBgoICQoFBgkHBggHCQQIBgQJCAkGCAUFBgcFCAYICAgHCAoIBAUFCgMFBgkHBggJBAgKCQUCCAkHCQcICgcFCAgKBgYICgcICQUICQcHBggFBQkICAgICggIBwcICQgHBwkJBAYDBwgHBgkICAcIBwgGBQcGCQgHCAgFCAcICAoHBQgJCAgICQcFCQYECAcECQcICAkJBwYHBwcGCAgICQYJBwgIBwgGCggIBgYKBggIBggHCAcGCggKCAIJCAgKCQgJCAUIBAgEBAgGCAgICQQIBQkICAgKCQcICQcEBwkHBwYJCAgJBwoHBwcJCQYGBggKCQcICAkJCAoHCAYIBgcICAgHCQYIBwcHCQgICAgHCggHBQcGBwQICQUIBwcICQgHBwYKBgkHCAgGCQgHBwcIBwcFBwgKBgQGBwgGBwUHCAgIBgYCCAgHCAgICAkIBggGBQYIBggGCAQJCAYGCQcJBAcJBQgIBwgJBwgGCgcHBgkIBwkGCgcICAgIBggDCAYKCgoHBwgJBAgJCAYGCAYJCAgHCAgHBwcGBAYIBAkHCAkHBwYGCQgICAgHBwkICQUHBggHCAkHBgkICAcIBggECAYHCQgIBwkJBgcKBwcIBgcKBgoICAkIAwgJCAgKBAYJBwcICAYJCAgJCAgIBAgHCAgICAcFCAgHBwYIBgkFBwgICAkKBwgGBQgCCAgGBwgGBwYGBQYHBwcKBgcICAgGCAoJCAkKCAgIBAgICAgDCAcGCAYGCAgGBAoHBQgIBggJBggGCQgIBwgICAUICgcFCAgIBwkICAkHCQcHBgcHBggJCQUHAwgHBwkKBwYJCAgJCAgGBggICAgHBwUGCQUJBwgICQQJBggICQgIBggICAcIBQcECAcHBgcICQYICAgECAkJBwgHCAYGCAUGCAgICQQKCAgIBgQ=",
           "dtype": "i1"
          },
          "coloraxis": "coloraxis",
          "opacity": 0.7,
          "symbol": "circle"
         },
         "mode": "markers",
         "name": "",
         "showlegend": false,
         "type": "scattergl",
         "x": {
          "bdata": "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",
          "dtype": "f4"
         },
         "xaxis": "x",
         "y": {
          "bdata": "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",
          "dtype": "f4"
         },
         "yaxis": "y"
        }
       ],
       "layout": {
        "coloraxis": {
         "colorbar": {
          "title": {
           "text": "Score"
          }
         },
         "colorscale": [
          [
           0,
           "#440154"
          ],
          [
           0.1111111111111111,
           "#482878"
          ],
          [
           0.2222222222222222,
           "#3e4989"
          ],
          [
           0.3333333333333333,
           "#31688e"
          ],
          [
           0.4444444444444444,
           "#26828e"
          ],
          [
           0.5555555555555556,
           "#1f9e89"
          ],
          [
           0.6666666666666666,
           "#35b779"
          ],
          [
           0.7777777777777778,
           "#6ece58"
          ],
          [
           0.8888888888888888,
           "#b5de2b"
          ],
          [
           1,
           "#fde725"
          ]
         ]
        },
        "legend": {
         "tracegroupgap": 0
        },
        "template": {
         "data": {
          "bar": [
           {
            "error_x": {
             "color": "#2a3f5f"
            },
            "error_y": {
             "color": "#2a3f5f"
            },
            "marker": {
             "line": {
              "color": "#E5ECF6",
              "width": 0.5
             },
             "pattern": {
              "fillmode": "overlay",
              "size": 10,
              "solidity": 0.2
             }
            },
            "type": "bar"
           }
          ],
          "barpolar": [
           {
            "marker": {
             "line": {
              "color": "#E5ECF6",
              "width": 0.5
             },
             "pattern": {
              "fillmode": "overlay",
              "size": 10,
              "solidity": 0.2
             }
            },
            "type": "barpolar"
           }
          ],
          "carpet": [
           {
            "aaxis": {
             "endlinecolor": "#2a3f5f",
             "gridcolor": "white",
             "linecolor": "white",
             "minorgridcolor": "white",
             "startlinecolor": "#2a3f5f"
            },
            "baxis": {
             "endlinecolor": "#2a3f5f",
             "gridcolor": "white",
             "linecolor": "white",
             "minorgridcolor": "white",
             "startlinecolor": "#2a3f5f"
            },
            "type": "carpet"
           }
          ],
          "choropleth": [
           {
            "colorbar": {
             "outlinewidth": 0,
             "ticks": ""
            },
            "type": "choropleth"
           }
          ],
          "contour": [
           {
            "colorbar": {
             "outlinewidth": 0,
             "ticks": ""
            },
            "colorscale": [
             [
              0,
              "#0d0887"
             ],
             [
              0.1111111111111111,
              "#46039f"
             ],
             [
              0.2222222222222222,
              "#7201a8"
             ],
             [
              0.3333333333333333,
              "#9c179e"
             ],
             [
              0.4444444444444444,
              "#bd3786"
             ],
             [
              0.5555555555555556,
              "#d8576b"
             ],
             [
              0.6666666666666666,
              "#ed7953"
             ],
             [
              0.7777777777777778,
              "#fb9f3a"
             ],
             [
              0.8888888888888888,
              "#fdca26"
             ],
             [
              1,
              "#f0f921"
             ]
            ],
            "type": "contour"
           }
          ],
          "contourcarpet": [
           {
            "colorbar": {
             "outlinewidth": 0,
             "ticks": ""
            },
            "type": "contourcarpet"
           }
          ],
          "heatmap": [
           {
            "colorbar": {
             "outlinewidth": 0,
             "ticks": ""
            },
            "colorscale": [
             [
              0,
              "#0d0887"
             ],
             [
              0.1111111111111111,
              "#46039f"
             ],
             [
              0.2222222222222222,
              "#7201a8"
             ],
             [
              0.3333333333333333,
              "#9c179e"
             ],
             [
              0.4444444444444444,
              "#bd3786"
             ],
             [
              0.5555555555555556,
              "#d8576b"
             ],
             [
              0.6666666666666666,
              "#ed7953"
             ],
             [
              0.7777777777777778,
              "#fb9f3a"
             ],
             [
              0.8888888888888888,
              "#fdca26"
             ],
             [
              1,
              "#f0f921"
             ]
            ],
            "type": "heatmap"
           }
          ],
          "histogram": [
           {
            "marker": {
             "pattern": {
              "fillmode": "overlay",
              "size": 10,
              "solidity": 0.2
             }
            },
            "type": "histogram"
           }
          ],
          "histogram2d": [
           {
            "colorbar": {
             "outlinewidth": 0,
             "ticks": ""
            },
            "colorscale": [
             [
              0,
              "#0d0887"
             ],
             [
              0.1111111111111111,
              "#46039f"
             ],
             [
              0.2222222222222222,
              "#7201a8"
             ],
             [
              0.3333333333333333,
              "#9c179e"
             ],
             [
              0.4444444444444444,
              "#bd3786"
             ],
             [
              0.5555555555555556,
              "#d8576b"
             ],
             [
              0.6666666666666666,
              "#ed7953"
             ],
             [
              0.7777777777777778,
              "#fb9f3a"
             ],
             [
              0.8888888888888888,
              "#fdca26"
             ],
             [
              1,
              "#f0f921"
             ]
            ],
            "type": "histogram2d"
           }
          ],
          "histogram2dcontour": [
           {
            "colorbar": {
             "outlinewidth": 0,
             "ticks": ""
            },
            "colorscale": [
             [
              0,
              "#0d0887"
             ],
             [
              0.1111111111111111,
              "#46039f"
             ],
             [
              0.2222222222222222,
              "#7201a8"
             ],
             [
              0.3333333333333333,
              "#9c179e"
             ],
             [
              0.4444444444444444,
              "#bd3786"
             ],
             [
              0.5555555555555556,
              "#d8576b"
             ],
             [
              0.6666666666666666,
              "#ed7953"
             ],
             [
              0.7777777777777778,
              "#fb9f3a"
             ],
             [
              0.8888888888888888,
              "#fdca26"
             ],
             [
              1,
              "#f0f921"
             ]
            ],
            "type": "histogram2dcontour"
           }
          ],
          "mesh3d": [
           {
            "colorbar": {
             "outlinewidth": 0,
             "ticks": ""
            },
            "type": "mesh3d"
           }
          ],
          "parcoords": [
           {
            "line": {
             "colorbar": {
              "outlinewidth": 0,
              "ticks": ""
             }
            },
            "type": "parcoords"
           }
          ],
          "pie": [
           {
            "automargin": true,
            "type": "pie"
           }
          ],
          "scatter": [
           {
            "fillpattern": {
             "fillmode": "overlay",
             "size": 10,
             "solidity": 0.2
            },
            "type": "scatter"
           }
          ],
          "scatter3d": [
           {
            "line": {
             "colorbar": {
              "outlinewidth": 0,
              "ticks": ""
             }
            },
            "marker": {
             "colorbar": {
              "outlinewidth": 0,
              "ticks": ""
             }
            },
            "type": "scatter3d"
           }
          ],
          "scattercarpet": [
           {
            "marker": {
             "colorbar": {
              "outlinewidth": 0,
              "ticks": ""
             }
            },
            "type": "scattercarpet"
           }
          ],
          "scattergeo": [
           {
            "marker": {
             "colorbar": {
              "outlinewidth": 0,
              "ticks": ""
             }
            },
            "type": "scattergeo"
           }
          ],
          "scattergl": [
           {
            "marker": {
             "colorbar": {
              "outlinewidth": 0,
              "ticks": ""
             }
            },
            "type": "scattergl"
           }
          ],
          "scattermap": [
           {
            "marker": {
             "colorbar": {
              "outlinewidth": 0,
              "ticks": ""
             }
            },
            "type": "scattermap"
           }
          ],
          "scattermapbox": [
           {
            "marker": {
             "colorbar": {
              "outlinewidth": 0,
              "ticks": ""
             }
            },
            "type": "scattermapbox"
           }
          ],
          "scatterpolar": [
           {
            "marker": {
             "colorbar": {
              "outlinewidth": 0,
              "ticks": ""
             }
            },
            "type": "scatterpolar"
           }
          ],
          "scatterpolargl": [
           {
            "marker": {
             "colorbar": {
              "outlinewidth": 0,
              "ticks": ""
             }
            },
            "type": "scatterpolargl"
           }
          ],
          "scatterternary": [
           {
            "marker": {
             "colorbar": {
              "outlinewidth": 0,
              "ticks": ""
             }
            },
            "type": "scatterternary"
           }
          ],
          "surface": [
           {
            "colorbar": {
             "outlinewidth": 0,
             "ticks": ""
            },
            "colorscale": [
             [
              0,
              "#0d0887"
             ],
             [
              0.1111111111111111,
              "#46039f"
             ],
             [
              0.2222222222222222,
              "#7201a8"
             ],
             [
              0.3333333333333333,
              "#9c179e"
             ],
             [
              0.4444444444444444,
              "#bd3786"
             ],
             [
              0.5555555555555556,
              "#d8576b"
             ],
             [
              0.6666666666666666,
              "#ed7953"
             ],
             [
              0.7777777777777778,
              "#fb9f3a"
             ],
             [
              0.8888888888888888,
              "#fdca26"
             ],
             [
              1,
              "#f0f921"
             ]
            ],
            "type": "surface"
           }
          ],
          "table": [
           {
            "cells": {
             "fill": {
              "color": "#EBF0F8"
             },
             "line": {
              "color": "white"
             }
            },
            "header": {
             "fill": {
              "color": "#C8D4E3"
             },
             "line": {
              "color": "white"
             }
            },
            "type": "table"
           }
          ]
         },
         "layout": {
          "annotationdefaults": {
           "arrowcolor": "#2a3f5f",
           "arrowhead": 0,
           "arrowwidth": 1
          },
          "autotypenumbers": "strict",
          "coloraxis": {
           "colorbar": {
            "outlinewidth": 0,
            "ticks": ""
           }
          },
          "colorscale": {
           "diverging": [
            [
             0,
             "#8e0152"
            ],
            [
             0.1,
             "#c51b7d"
            ],
            [
             0.2,
             "#de77ae"
            ],
            [
             0.3,
             "#f1b6da"
            ],
            [
             0.4,
             "#fde0ef"
            ],
            [
             0.5,
             "#f7f7f7"
            ],
            [
             0.6,
             "#e6f5d0"
            ],
            [
             0.7,
             "#b8e186"
            ],
            [
             0.8,
             "#7fbc41"
            ],
            [
             0.9,
             "#4d9221"
            ],
            [
             1,
             "#276419"
            ]
           ],
           "sequential": [
            [
             0,
             "#0d0887"
            ],
            [
             0.1111111111111111,
             "#46039f"
            ],
            [
             0.2222222222222222,
             "#7201a8"
            ],
            [
             0.3333333333333333,
             "#9c179e"
            ],
            [
             0.4444444444444444,
             "#bd3786"
            ],
            [
             0.5555555555555556,
             "#d8576b"
            ],
            [
             0.6666666666666666,
             "#ed7953"
            ],
            [
             0.7777777777777778,
             "#fb9f3a"
            ],
            [
             0.8888888888888888,
             "#fdca26"
            ],
            [
             1,
             "#f0f921"
            ]
           ],
           "sequentialminus": [
            [
             0,
             "#0d0887"
            ],
            [
             0.1111111111111111,
             "#46039f"
            ],
            [
             0.2222222222222222,
             "#7201a8"
            ],
            [
             0.3333333333333333,
             "#9c179e"
            ],
            [
             0.4444444444444444,
             "#bd3786"
            ],
            [
             0.5555555555555556,
             "#d8576b"
            ],
            [
             0.6666666666666666,
             "#ed7953"
            ],
            [
             0.7777777777777778,
             "#fb9f3a"
            ],
            [
             0.8888888888888888,
             "#fdca26"
            ],
            [
             1,
             "#f0f921"
            ]
           ]
          },
          "colorway": [
           "#636efa",
           "#EF553B",
           "#00cc96",
           "#ab63fa",
           "#FFA15A",
           "#19d3f3",
           "#FF6692",
           "#B6E880",
           "#FF97FF",
           "#FECB52"
          ],
          "font": {
           "color": "#2a3f5f"
          },
          "geo": {
           "bgcolor": "white",
           "lakecolor": "white",
           "landcolor": "#E5ECF6",
           "showlakes": true,
           "showland": true,
           "subunitcolor": "white"
          },
          "hoverlabel": {
           "align": "left"
          },
          "hovermode": "closest",
          "mapbox": {
           "style": "light"
          },
          "paper_bgcolor": "white",
          "plot_bgcolor": "#E5ECF6",
          "polar": {
           "angularaxis": {
            "gridcolor": "white",
            "linecolor": "white",
            "ticks": ""
           },
           "bgcolor": "#E5ECF6",
           "radialaxis": {
            "gridcolor": "white",
            "linecolor": "white",
            "ticks": ""
           }
          },
          "scene": {
           "xaxis": {
            "backgroundcolor": "#E5ECF6",
            "gridcolor": "white",
            "gridwidth": 2,
            "linecolor": "white",
            "showbackground": true,
            "ticks": "",
            "zerolinecolor": "white"
           },
           "yaxis": {
            "backgroundcolor": "#E5ECF6",
            "gridcolor": "white",
            "gridwidth": 2,
            "linecolor": "white",
            "showbackground": true,
            "ticks": "",
            "zerolinecolor": "white"
           },
           "zaxis": {
            "backgroundcolor": "#E5ECF6",
            "gridcolor": "white",
            "gridwidth": 2,
            "linecolor": "white",
            "showbackground": true,
            "ticks": "",
            "zerolinecolor": "white"
           }
          },
          "shapedefaults": {
           "line": {
            "color": "#2a3f5f"
           }
          },
          "ternary": {
           "aaxis": {
            "gridcolor": "white",
            "linecolor": "white",
            "ticks": ""
           },
           "baxis": {
            "gridcolor": "white",
            "linecolor": "white",
            "ticks": ""
           },
           "bgcolor": "#E5ECF6",
           "caxis": {
            "gridcolor": "white",
            "linecolor": "white",
            "ticks": ""
           }
          },
          "title": {
           "x": 0.05
          },
          "xaxis": {
           "automargin": true,
           "gridcolor": "white",
           "linecolor": "white",
           "ticks": "",
           "title": {
            "standoff": 15
           },
           "zerolinecolor": "white",
           "zerolinewidth": 2
          },
          "yaxis": {
           "automargin": true,
           "gridcolor": "white",
           "linecolor": "white",
           "ticks": "",
           "title": {
            "standoff": 15
           },
           "zerolinecolor": "white",
           "zerolinewidth": 2
          }
         }
        },
        "title": {
         "text": "PCA of Sentence Embeddings (Colored by Score)"
        },
        "xaxis": {
         "anchor": "y",
         "domain": [
          0,
          1
         ],
         "title": {
          "text": "PC1"
         }
        },
        "yaxis": {
         "anchor": "x",
         "domain": [
          0,
          1
         ],
         "title": {
          "text": "PC2"
         }
        }
       }
      }
     },
     "metadata": {},
     "output_type": "display_data"
    }
   ],
   "source": [
    "\n",
    "def plot_pca_embeddings(embeddings, labels, n_components=2):\n",
    "    pca = PCA(n_components=n_components)\n",
    "    reduced_embeddings = pca.fit_transform(embeddings)\n",
    "\n",
    "    df = pd.DataFrame({\n",
    "        \"PC1\": reduced_embeddings[:, 0],\n",
    "        \"PC2\": reduced_embeddings[:, 1],\n",
    "        \"Score\": labels\n",
    "    })\n",
    "\n",
    "    fig = px.scatter(\n",
    "        df, x=\"PC1\", y=\"PC2\",\n",
    "        color=\"Score\",  \n",
    "        color_continuous_scale=\"Viridis\",\n",
    "        title=\"PCA of Sentence Embeddings (Colored by Score)\",\n",
    "        opacity=0.7\n",
    "    )\n",
    "\n",
    "    fig.show()\n",
    "\n",
    "plot_pca_embeddings(labeled_embeddings_w2vec, labeled_data['review_score'])\n"
   ]
  },
  {
   "cell_type": "code",
   "execution_count": 9,
   "id": "5ee7cfb9",
   "metadata": {},
   "outputs": [
    {
     "data": {
      "application/vnd.plotly.v1+json": {
       "config": {
        "plotlyServerURL": "https://plot.ly"
       },
       "data": [
        {
         "hovertemplate": "PC1=%{x}<br>PC2=%{y}<br>Score=%{marker.color}<extra></extra>",
         "legendgroup": "",
         "marker": {
          "color": {
           "bdata": "CAgIBwYHBgcGBwgIBgoICAcICAkHBQgIBwcJBwgHCQQHCAgICAgICAcJBwgICggIBwQFAwgGCAgICAcHCggHBwgHCAcIBwgIBQcJCAkFBgYGCQgGBwgHCAYIBwcFBggICAgGCQoFCggHBggGCAcGBQgKBggKBQUGCQcHBAgEBwgKCQYJCQcJBgkKAwgICAUICQoHBwYICAIGCAkICgYHBgIICggHCQYHBwQKBgQICQgJCgcJCAkICgcHBwkJBgUICQkDBwgICgkHCQgHBggGCQgIBgoGBgUGCAgHCAoJCggICAQEBAgKBAUECAgICAgDBwgGCgYICAgFBgYICgcFBwUGCQUJCAYIBwgICggHBwYICAcECAgKBggJBwgHBwgIBwgIBwgIBgkICQkFBggIBwgICAYGCAcIBwYIBQQHBgoICAkGCgcIBQQGBwgICAcICQkGBwcGCAgGCAYICQcHCAoEBgUHCAgJBggJCQgIBgQICAYHCQUJBwgIBggJCAgFCAkIBgcHBwgGBgcJBAcHBwcKCAgICQgIBwgIBwgHCQgGCAYGCAgDCAkIBQYJBggHCAcGBwgJCAgJCAgHBggKBAQGCQQHBwcICAkICAgHBwcEBwgHCAcFCQYIBQYIBgkHBggIBwgJBwgICAgDBwgHBwYIBgoICAoKBgcHCAkGBggGBQYIBggFBgkJCAgICAgGCQgICAYIBwYGBggJBAgICQkICAUECQgIBgoICQoFBgkHBggHCQQIBgQJCAkGCAUFBgcFCAYICAgHCAoIBAUFCgMFBgkHBggJBAgKCQUCCAkHCQcICgcFCAgKBgYICgcICQUICQcHBggFBQkICAgICggIBwcICQgHBwkJBAYDBwgHBgkICAcIBwgGBQcGCQgHCAgFCAcICAoHBQgJCAgICQcFCQYECAcECQcICAkJBwYHBwcGCAgICQYJBwgIBwgGCggIBgYKBggIBggHCAcGCggKCAIJCAgKCQgJCAUIBAgEBAgGCAgICQQIBQkICAgKCQcICQcEBwkHBwYJCAgJBwoHBwcJCQYGBggKCQcICAkJCAoHCAYIBgcICAgHCQYIBwcHCQgICAgHCggHBQcGBwQICQUIBwcICQgHBwYKBgkHCAgGCQgHBwcIBwcFBwgKBgQGBwgGBwUHCAgIBgYCCAgHCAgICAkIBggGBQYIBggGCAQJCAYGCQcJBAcJBQgIBwgJBwgGCgcHBgkIBwkGCgcICAgIBggDCAYKCgoHBwgJBAgJCAYGCAYJCAgHCAgHBwcGBAYIBAkHCAkHBwYGCQgICAgHBwkICQUHBggHCAkHBgkICAcIBggECAYHCQgIBwkJBgcKBwcIBgcKBgoICAkIAwgJCAgKBAYJBwcICAYJCAgJCAgIBAgHCAgICAcFCAgHBwYIBgkFBwgICAkKBwgGBQgCCAgGBwgGBwYGBQYHBwcKBgcICAgGCAoJCAkKCAgIBAgICAgDCAcGCAYGCAgGBAoHBQgIBggJBggGCQgIBwgICAUICgcFCAgIBwkICAkHCQcHBgcHBggJCQUHAwgHBwkKBwYJCAgJCAgGBggICAgHBwUGCQUJBwgICQQJBggICQgIBggICAcIBQcECAcHBgcICQYICAgECAkJBwgHCAYGCAUGCAgICQQKCAgIBgQ=",
           "dtype": "i1"
          },
          "coloraxis": "coloraxis",
          "opacity": 0.7,
          "symbol": "circle"
         },
         "mode": "markers",
         "name": "",
         "showlegend": false,
         "type": "scattergl",
         "x": {
          "bdata": "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",
          "dtype": "f4"
         },
         "xaxis": "x",
         "y": {
          "bdata": "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",
          "dtype": "f4"
         },
         "yaxis": "y"
        }
       ],
       "layout": {
        "coloraxis": {
         "colorbar": {
          "title": {
           "text": "Score"
          }
         },
         "colorscale": [
          [
           0,
           "#440154"
          ],
          [
           0.1111111111111111,
           "#482878"
          ],
          [
           0.2222222222222222,
           "#3e4989"
          ],
          [
           0.3333333333333333,
           "#31688e"
          ],
          [
           0.4444444444444444,
           "#26828e"
          ],
          [
           0.5555555555555556,
           "#1f9e89"
          ],
          [
           0.6666666666666666,
           "#35b779"
          ],
          [
           0.7777777777777778,
           "#6ece58"
          ],
          [
           0.8888888888888888,
           "#b5de2b"
          ],
          [
           1,
           "#fde725"
          ]
         ]
        },
        "legend": {
         "tracegroupgap": 0
        },
        "template": {
         "data": {
          "bar": [
           {
            "error_x": {
             "color": "#2a3f5f"
            },
            "error_y": {
             "color": "#2a3f5f"
            },
            "marker": {
             "line": {
              "color": "#E5ECF6",
              "width": 0.5
             },
             "pattern": {
              "fillmode": "overlay",
              "size": 10,
              "solidity": 0.2
             }
            },
            "type": "bar"
           }
          ],
          "barpolar": [
           {
            "marker": {
             "line": {
              "color": "#E5ECF6",
              "width": 0.5
             },
             "pattern": {
              "fillmode": "overlay",
              "size": 10,
              "solidity": 0.2
             }
            },
            "type": "barpolar"
           }
          ],
          "carpet": [
           {
            "aaxis": {
             "endlinecolor": "#2a3f5f",
             "gridcolor": "white",
             "linecolor": "white",
             "minorgridcolor": "white",
             "startlinecolor": "#2a3f5f"
            },
            "baxis": {
             "endlinecolor": "#2a3f5f",
             "gridcolor": "white",
             "linecolor": "white",
             "minorgridcolor": "white",
             "startlinecolor": "#2a3f5f"
            },
            "type": "carpet"
           }
          ],
          "choropleth": [
           {
            "colorbar": {
             "outlinewidth": 0,
             "ticks": ""
            },
            "type": "choropleth"
           }
          ],
          "contour": [
           {
            "colorbar": {
             "outlinewidth": 0,
             "ticks": ""
            },
            "colorscale": [
             [
              0,
              "#0d0887"
             ],
             [
              0.1111111111111111,
              "#46039f"
             ],
             [
              0.2222222222222222,
              "#7201a8"
             ],
             [
              0.3333333333333333,
              "#9c179e"
             ],
             [
              0.4444444444444444,
              "#bd3786"
             ],
             [
              0.5555555555555556,
              "#d8576b"
             ],
             [
              0.6666666666666666,
              "#ed7953"
             ],
             [
              0.7777777777777778,
              "#fb9f3a"
             ],
             [
              0.8888888888888888,
              "#fdca26"
             ],
             [
              1,
              "#f0f921"
             ]
            ],
            "type": "contour"
           }
          ],
          "contourcarpet": [
           {
            "colorbar": {
             "outlinewidth": 0,
             "ticks": ""
            },
            "type": "contourcarpet"
           }
          ],
          "heatmap": [
           {
            "colorbar": {
             "outlinewidth": 0,
             "ticks": ""
            },
            "colorscale": [
             [
              0,
              "#0d0887"
             ],
             [
              0.1111111111111111,
              "#46039f"
             ],
             [
              0.2222222222222222,
              "#7201a8"
             ],
             [
              0.3333333333333333,
              "#9c179e"
             ],
             [
              0.4444444444444444,
              "#bd3786"
             ],
             [
              0.5555555555555556,
              "#d8576b"
             ],
             [
              0.6666666666666666,
              "#ed7953"
             ],
             [
              0.7777777777777778,
              "#fb9f3a"
             ],
             [
              0.8888888888888888,
              "#fdca26"
             ],
             [
              1,
              "#f0f921"
             ]
            ],
            "type": "heatmap"
           }
          ],
          "histogram": [
           {
            "marker": {
             "pattern": {
              "fillmode": "overlay",
              "size": 10,
              "solidity": 0.2
             }
            },
            "type": "histogram"
           }
          ],
          "histogram2d": [
           {
            "colorbar": {
             "outlinewidth": 0,
             "ticks": ""
            },
            "colorscale": [
             [
              0,
              "#0d0887"
             ],
             [
              0.1111111111111111,
              "#46039f"
             ],
             [
              0.2222222222222222,
              "#7201a8"
             ],
             [
              0.3333333333333333,
              "#9c179e"
             ],
             [
              0.4444444444444444,
              "#bd3786"
             ],
             [
              0.5555555555555556,
              "#d8576b"
             ],
             [
              0.6666666666666666,
              "#ed7953"
             ],
             [
              0.7777777777777778,
              "#fb9f3a"
             ],
             [
              0.8888888888888888,
              "#fdca26"
             ],
             [
              1,
              "#f0f921"
             ]
            ],
            "type": "histogram2d"
           }
          ],
          "histogram2dcontour": [
           {
            "colorbar": {
             "outlinewidth": 0,
             "ticks": ""
            },
            "colorscale": [
             [
              0,
              "#0d0887"
             ],
             [
              0.1111111111111111,
              "#46039f"
             ],
             [
              0.2222222222222222,
              "#7201a8"
             ],
             [
              0.3333333333333333,
              "#9c179e"
             ],
             [
              0.4444444444444444,
              "#bd3786"
             ],
             [
              0.5555555555555556,
              "#d8576b"
             ],
             [
              0.6666666666666666,
              "#ed7953"
             ],
             [
              0.7777777777777778,
              "#fb9f3a"
             ],
             [
              0.8888888888888888,
              "#fdca26"
             ],
             [
              1,
              "#f0f921"
             ]
            ],
            "type": "histogram2dcontour"
           }
          ],
          "mesh3d": [
           {
            "colorbar": {
             "outlinewidth": 0,
             "ticks": ""
            },
            "type": "mesh3d"
           }
          ],
          "parcoords": [
           {
            "line": {
             "colorbar": {
              "outlinewidth": 0,
              "ticks": ""
             }
            },
            "type": "parcoords"
           }
          ],
          "pie": [
           {
            "automargin": true,
            "type": "pie"
           }
          ],
          "scatter": [
           {
            "fillpattern": {
             "fillmode": "overlay",
             "size": 10,
             "solidity": 0.2
            },
            "type": "scatter"
           }
          ],
          "scatter3d": [
           {
            "line": {
             "colorbar": {
              "outlinewidth": 0,
              "ticks": ""
             }
            },
            "marker": {
             "colorbar": {
              "outlinewidth": 0,
              "ticks": ""
             }
            },
            "type": "scatter3d"
           }
          ],
          "scattercarpet": [
           {
            "marker": {
             "colorbar": {
              "outlinewidth": 0,
              "ticks": ""
             }
            },
            "type": "scattercarpet"
           }
          ],
          "scattergeo": [
           {
            "marker": {
             "colorbar": {
              "outlinewidth": 0,
              "ticks": ""
             }
            },
            "type": "scattergeo"
           }
          ],
          "scattergl": [
           {
            "marker": {
             "colorbar": {
              "outlinewidth": 0,
              "ticks": ""
             }
            },
            "type": "scattergl"
           }
          ],
          "scattermap": [
           {
            "marker": {
             "colorbar": {
              "outlinewidth": 0,
              "ticks": ""
             }
            },
            "type": "scattermap"
           }
          ],
          "scattermapbox": [
           {
            "marker": {
             "colorbar": {
              "outlinewidth": 0,
              "ticks": ""
             }
            },
            "type": "scattermapbox"
           }
          ],
          "scatterpolar": [
           {
            "marker": {
             "colorbar": {
              "outlinewidth": 0,
              "ticks": ""
             }
            },
            "type": "scatterpolar"
           }
          ],
          "scatterpolargl": [
           {
            "marker": {
             "colorbar": {
              "outlinewidth": 0,
              "ticks": ""
             }
            },
            "type": "scatterpolargl"
           }
          ],
          "scatterternary": [
           {
            "marker": {
             "colorbar": {
              "outlinewidth": 0,
              "ticks": ""
             }
            },
            "type": "scatterternary"
           }
          ],
          "surface": [
           {
            "colorbar": {
             "outlinewidth": 0,
             "ticks": ""
            },
            "colorscale": [
             [
              0,
              "#0d0887"
             ],
             [
              0.1111111111111111,
              "#46039f"
             ],
             [
              0.2222222222222222,
              "#7201a8"
             ],
             [
              0.3333333333333333,
              "#9c179e"
             ],
             [
              0.4444444444444444,
              "#bd3786"
             ],
             [
              0.5555555555555556,
              "#d8576b"
             ],
             [
              0.6666666666666666,
              "#ed7953"
             ],
             [
              0.7777777777777778,
              "#fb9f3a"
             ],
             [
              0.8888888888888888,
              "#fdca26"
             ],
             [
              1,
              "#f0f921"
             ]
            ],
            "type": "surface"
           }
          ],
          "table": [
           {
            "cells": {
             "fill": {
              "color": "#EBF0F8"
             },
             "line": {
              "color": "white"
             }
            },
            "header": {
             "fill": {
              "color": "#C8D4E3"
             },
             "line": {
              "color": "white"
             }
            },
            "type": "table"
           }
          ]
         },
         "layout": {
          "annotationdefaults": {
           "arrowcolor": "#2a3f5f",
           "arrowhead": 0,
           "arrowwidth": 1
          },
          "autotypenumbers": "strict",
          "coloraxis": {
           "colorbar": {
            "outlinewidth": 0,
            "ticks": ""
           }
          },
          "colorscale": {
           "diverging": [
            [
             0,
             "#8e0152"
            ],
            [
             0.1,
             "#c51b7d"
            ],
            [
             0.2,
             "#de77ae"
            ],
            [
             0.3,
             "#f1b6da"
            ],
            [
             0.4,
             "#fde0ef"
            ],
            [
             0.5,
             "#f7f7f7"
            ],
            [
             0.6,
             "#e6f5d0"
            ],
            [
             0.7,
             "#b8e186"
            ],
            [
             0.8,
             "#7fbc41"
            ],
            [
             0.9,
             "#4d9221"
            ],
            [
             1,
             "#276419"
            ]
           ],
           "sequential": [
            [
             0,
             "#0d0887"
            ],
            [
             0.1111111111111111,
             "#46039f"
            ],
            [
             0.2222222222222222,
             "#7201a8"
            ],
            [
             0.3333333333333333,
             "#9c179e"
            ],
            [
             0.4444444444444444,
             "#bd3786"
            ],
            [
             0.5555555555555556,
             "#d8576b"
            ],
            [
             0.6666666666666666,
             "#ed7953"
            ],
            [
             0.7777777777777778,
             "#fb9f3a"
            ],
            [
             0.8888888888888888,
             "#fdca26"
            ],
            [
             1,
             "#f0f921"
            ]
           ],
           "sequentialminus": [
            [
             0,
             "#0d0887"
            ],
            [
             0.1111111111111111,
             "#46039f"
            ],
            [
             0.2222222222222222,
             "#7201a8"
            ],
            [
             0.3333333333333333,
             "#9c179e"
            ],
            [
             0.4444444444444444,
             "#bd3786"
            ],
            [
             0.5555555555555556,
             "#d8576b"
            ],
            [
             0.6666666666666666,
             "#ed7953"
            ],
            [
             0.7777777777777778,
             "#fb9f3a"
            ],
            [
             0.8888888888888888,
             "#fdca26"
            ],
            [
             1,
             "#f0f921"
            ]
           ]
          },
          "colorway": [
           "#636efa",
           "#EF553B",
           "#00cc96",
           "#ab63fa",
           "#FFA15A",
           "#19d3f3",
           "#FF6692",
           "#B6E880",
           "#FF97FF",
           "#FECB52"
          ],
          "font": {
           "color": "#2a3f5f"
          },
          "geo": {
           "bgcolor": "white",
           "lakecolor": "white",
           "landcolor": "#E5ECF6",
           "showlakes": true,
           "showland": true,
           "subunitcolor": "white"
          },
          "hoverlabel": {
           "align": "left"
          },
          "hovermode": "closest",
          "mapbox": {
           "style": "light"
          },
          "paper_bgcolor": "white",
          "plot_bgcolor": "#E5ECF6",
          "polar": {
           "angularaxis": {
            "gridcolor": "white",
            "linecolor": "white",
            "ticks": ""
           },
           "bgcolor": "#E5ECF6",
           "radialaxis": {
            "gridcolor": "white",
            "linecolor": "white",
            "ticks": ""
           }
          },
          "scene": {
           "xaxis": {
            "backgroundcolor": "#E5ECF6",
            "gridcolor": "white",
            "gridwidth": 2,
            "linecolor": "white",
            "showbackground": true,
            "ticks": "",
            "zerolinecolor": "white"
           },
           "yaxis": {
            "backgroundcolor": "#E5ECF6",
            "gridcolor": "white",
            "gridwidth": 2,
            "linecolor": "white",
            "showbackground": true,
            "ticks": "",
            "zerolinecolor": "white"
           },
           "zaxis": {
            "backgroundcolor": "#E5ECF6",
            "gridcolor": "white",
            "gridwidth": 2,
            "linecolor": "white",
            "showbackground": true,
            "ticks": "",
            "zerolinecolor": "white"
           }
          },
          "shapedefaults": {
           "line": {
            "color": "#2a3f5f"
           }
          },
          "ternary": {
           "aaxis": {
            "gridcolor": "white",
            "linecolor": "white",
            "ticks": ""
           },
           "baxis": {
            "gridcolor": "white",
            "linecolor": "white",
            "ticks": ""
           },
           "bgcolor": "#E5ECF6",
           "caxis": {
            "gridcolor": "white",
            "linecolor": "white",
            "ticks": ""
           }
          },
          "title": {
           "x": 0.05
          },
          "xaxis": {
           "automargin": true,
           "gridcolor": "white",
           "linecolor": "white",
           "ticks": "",
           "title": {
            "standoff": 15
           },
           "zerolinecolor": "white",
           "zerolinewidth": 2
          },
          "yaxis": {
           "automargin": true,
           "gridcolor": "white",
           "linecolor": "white",
           "ticks": "",
           "title": {
            "standoff": 15
           },
           "zerolinecolor": "white",
           "zerolinewidth": 2
          }
         }
        },
        "title": {
         "text": "PCA of Sentence Embeddings (Colored by Score)"
        },
        "xaxis": {
         "anchor": "y",
         "domain": [
          0,
          1
         ],
         "title": {
          "text": "PC1"
         }
        },
        "yaxis": {
         "anchor": "x",
         "domain": [
          0,
          1
         ],
         "title": {
          "text": "PC2"
         }
        }
       }
      }
     },
     "metadata": {},
     "output_type": "display_data"
    }
   ],
   "source": [
    "plot_pca_embeddings(labeled_embeddings_transformer, labeled_data['review_score'])\n"
   ]
  },
  {
   "cell_type": "markdown",
   "id": "1353f564",
   "metadata": {},
   "source": [
    "## Why Might Not Observe Clustering or Clear Patterns?\n",
    "\n",
    "### Complexity of the Model: \n",
    "Word2Vec generates embeddings based on word co-occurrence, but it doesn't necessarily capture all the fine-grained contextual relationships needed to form clear clusters when using PCA for dimensionality reduction. Sentence embeddings, especially if averaged over all words, might not fully capture nuanced sentence-level semantics.\n",
    "\n",
    "### Non-Linearities in Data: \n",
    "PCA is a linear technique and may fail to capture non-linear relationships in high-dimensional data. If the relationship between the sentence embeddings and their scores is non-linear, PCA might not be the best tool for dimensionality reduction. In this case, methods like t-SNE or UMAP might provide better results for visualization."
   ]
  },
  {
   "cell_type": "code",
   "execution_count": null,
   "id": "a7c6f6ed",
   "metadata": {},
   "outputs": [],
   "source": [
    "def train_and_evaluate(labeled_embeddings, labels, sample_sizes=None):\n",
    "    labels = labels - 2\n",
    "\n",
    "    X_train, X_temp, y_train, y_temp = train_test_split(\n",
    "        labeled_embeddings, labels, test_size=0.2, random_state=42\n",
    "    )\n",
    "    X_val, X_test, y_val, y_test = train_test_split(\n",
    "        X_temp, y_temp, test_size=0.5, random_state=42\n",
    "    )\n",
    "\n",
    "    classifiers = {\n",
    "        \"Logistic Regression\": LogisticRegression(max_iter=1000, multi_class=\"multinomial\", class_weight=\"balanced\"),\n",
    "        \"Random Forest Classifier\": RandomForestClassifier(n_estimators=100, random_state=42, class_weight=\"balanced\"),\n",
    "        \"Support Vector Classifier\": SVC(probability=True, class_weight=\"balanced\"),\n",
    "        \"XGBoost Classifier\": xgb.XGBClassifier(eval_metric='mlogloss')\n",
    "    }\n",
    "\n",
    "    classification_results = {}\n",
    "    f1_scores = []\n",
    "\n",
    "    accuracy_per_round = []\n",
    "    f1_per_round = []\n",
    "    labeled_sample_counts = []\n",
    "\n",
    "    for name, clf in classifiers.items():\n",
    "        print(f\"Training {name}...\")\n",
    "        clf.fit(X_train, y_train)\n",
    "        y_pred_val = clf.predict(X_val)\n",
    "        y_pred_test = clf.predict(X_test)\n",
    "\n",
    "        val_acc = accuracy_score(y_val, y_pred_val)\n",
    "        val_prec = precision_score(y_val, y_pred_val, average=\"macro\", zero_division=0)\n",
    "        val_rec = recall_score(y_val, y_pred_val, average=\"macro\", zero_division=0)\n",
    "        val_f1 = f1_score(y_val, y_pred_val, average=\"macro\", zero_division=0)\n",
    "\n",
    "        test_acc = accuracy_score(y_test, y_pred_test)\n",
    "        test_prec = precision_score(y_test, y_pred_test, average=\"macro\", zero_division=0)\n",
    "        test_rec = recall_score(y_test, y_pred_test, average=\"macro\", zero_division=0)\n",
    "        test_f1 = f1_score(y_test, y_pred_test, average=\"macro\", zero_division=0)\n",
    "        cm = confusion_matrix(y_test, y_pred_test)\n",
    "\n",
    "        classification_results[name] = {\n",
    "            \"Validation Accuracy\": val_acc,\n",
    "            \"Validation Precision (macro)\": val_prec,\n",
    "            \"Validation Recall (macro)\": val_rec,\n",
    "            \"Validation F1-score (macro)\": val_f1,\n",
    "            \"Test Accuracy\": test_acc,\n",
    "            \"Test Precision (macro)\": test_prec,\n",
    "            \"Test Recall (macro)\": test_rec,\n",
    "            \"Test F1-score (macro)\": test_f1,\n",
    "            \"Confusion Matrix\": cm\n",
    "        }\n",
    "\n",
    "        f1_scores.append(test_f1)\n",
    "\n",
    "        accuracy_per_round.append(test_acc)\n",
    "        f1_per_round.append(test_f1)\n",
    "        labeled_sample_counts.append(len(y_train)) \n",
    "\n",
    "        print(f\"\\nMetrics for {name}:\")\n",
    "        print(f\"Validation Accuracy: {val_acc:.4f}\")\n",
    "        print(f\"Validation Precision (macro): {val_prec:.4f}\")\n",
    "        print(f\"Validation Recall (macro): {val_rec:.4f}\")\n",
    "        print(f\"Validation F1-score (macro): {val_f1:.4f}\")\n",
    "        print(f\"Test Accuracy: {test_acc:.4f}\")\n",
    "        print(f\"Test Precision (macro): {test_prec:.4f}\")\n",
    "        print(f\"Test Recall (macro): {test_rec:.4f}\")\n",
    "        print(f\"Test F1-score (macro): {test_f1:.4f}\")\n",
    "        print(f\"Confusion Matrix:\\n{cm}\\n\")\n",
    "\n",
    "    regressors = {\n",
    "        \"Linear Regression\": LinearRegression(),\n",
    "        \"Random Forest Regressor\": RandomForestRegressor(n_estimators=100, random_state=42),\n",
    "        \"Support Vector Regressor\": SVR(),\n",
    "        \"XGBoost Regressor\": xgb.XGBRegressor(eval_metric='rmse')\n",
    "    }\n",
    "\n",
    "    regression_results = {}\n",
    "    mae_scores = []\n",
    "\n",
    "    for name, reg in regressors.items():\n",
    "        print(f\"Training {name}...\")\n",
    "        reg.fit(X_train, y_train)\n",
    "        y_pred_val = reg.predict(X_val)\n",
    "        y_pred_clipped = np.clip(y_pred_val, 1, 10)\n",
    "        y_pred_rounded = np.round(y_pred_clipped)\n",
    "\n",
    "        val_mae = mean_absolute_error(y_val, y_pred_rounded)\n",
    "        val_mse = mean_squared_error(y_val, y_pred_rounded)\n",
    "        val_rmse = np.sqrt(val_mse)\n",
    "        val_r2 = r2_score(y_val, y_pred_rounded)\n",
    "\n",
    "        y_pred_test = reg.predict(X_test)\n",
    "        y_pred_clipped_test = np.clip(y_pred_test, 1, 10)\n",
    "        y_pred_rounded_test = np.round(y_pred_clipped_test)\n",
    "        test_mae = mean_absolute_error(y_test, y_pred_rounded_test)\n",
    "        test_mse = mean_squared_error(y_test, y_pred_rounded_test)\n",
    "        test_rmse = np.sqrt(test_mse)\n",
    "        test_r2 = r2_score(y_test, y_pred_rounded_test)\n",
    "\n",
    "        regression_results[name] = {\n",
    "            \"Validation MAE\": val_mae,\n",
    "            \"Validation MSE\": val_mse,\n",
    "            \"Validation RMSE\": val_rmse,\n",
    "            \"Validation R2\": val_r2,\n",
    "            \"Test MAE\": test_mae,\n",
    "            \"Test MSE\": test_mse,\n",
    "            \"Test RMSE\": test_rmse,\n",
    "            \"Test R2\": test_r2\n",
    "        }\n",
    "\n",
    "        mae_scores.append(test_mae)\n",
    "\n",
    "        print(f\"\\nMetrics for {name}:\")\n",
    "        print(f\"Validation MAE: {val_mae:.4f}\")\n",
    "        print(f\"Validation MSE: {val_mse:.4f}\")\n",
    "        print(f\"Validation RMSE: {val_rmse:.4f}\")\n",
    "        print(f\"Validation R2: {val_r2:.4f}\")\n",
    "        print(f\"Test MAE: {test_mae:.4f}\")\n",
    "        print(f\"Test MSE: {test_mse:.4f}\")\n",
    "        print(f\"Test RMSE: {test_rmse:.4f}\")\n",
    "        print(f\"Test R2: {test_r2:.4f}\\n\")\n",
    "\n",
    "    class_names = sorted(set(labels))\n",
    "    y_test_bin = label_binarize(y_test, classes=range(len(class_names)))\n",
    "    n_classes = y_test_bin.shape[1]\n",
    "\n",
    "    fig, axes = plt.subplots(2, 2, figsize=(14, 10))\n",
    "    axes = axes.flatten()\n",
    "    for ax, (name, clf) in zip(axes, classifiers.items()):\n",
    "        if hasattr(clf, \"predict_proba\"):\n",
    "            y_score = clf.predict_proba(X_test)\n",
    "        elif hasattr(clf, \"decision_function\"):\n",
    "            y_score = clf.decision_function(X_test)\n",
    "        else:\n",
    "            continue\n",
    "\n",
    "        for i in range(n_classes):\n",
    "            fpr, tpr, _ = roc_curve(y_test_bin[:, i], y_score[:, i])\n",
    "            roc_auc = auc(fpr, tpr)\n",
    "            ax.plot(fpr, tpr, label=f\"Class {class_names[i]} AUC={roc_auc:.2f}\")\n",
    "\n",
    "        ax.plot([0, 1], [0, 1], 'k--')\n",
    "        ax.set_title(f\"ROC Curve: {name}\")\n",
    "        ax.set_xlabel(\"FPR\")\n",
    "        ax.set_ylabel(\"TPR\")\n",
    "        ax.legend()\n",
    "        ax.grid(True)\n",
    "\n",
    "    plt.tight_layout()\n",
    "    plt.show()\n",
    "\n",
    "   \n",
    "    plt.figure(figsize=(8, 5))\n",
    "    plt.plot(labeled_sample_counts, accuracy_per_round, marker='o', label='Test Accuracy')\n",
    "    plt.plot(labeled_sample_counts, f1_per_round, marker='o', label='Test F1-Score', linestyle='--')\n",
    "    plt.xlabel(\"Number of Labeled Samples\")\n",
    "    plt.ylabel(\"Score\")\n",
    "    plt.title(\"Learning Curves (Accuracy & F1-Score)\")\n",
    "    plt.legend()\n",
    "    plt.grid(True)\n",
    "    plt.show()\n",
    "\n",
    "    plot_results_with_plotly(classification_results, regression_results)\n",
    "\n",
    "def plot_results_with_plotly(classification_results, regression_results):\n",
    "    classification_metrics = ['Validation Accuracy', 'Validation Precision (macro)', 'Validation Recall (macro)', 'Validation F1-score (macro)', 'Test Accuracy', 'Test Precision (macro)', 'Test Recall (macro)', 'Test F1-score (macro)']\n",
    "    classification_df = pd.DataFrame({key: [val[key] for key in classification_metrics] for key, val in classification_results.items()}, index=classification_metrics)\n",
    "\n",
    "    fig_class = px.bar(\n",
    "        classification_df.T,\n",
    "        barmode='group',\n",
    "        title=\"Classification Metrics Comparison\",\n",
    "        labels={'value': 'Scores', 'variable': 'Models', 'index': 'Metrics'},\n",
    "        color_discrete_sequence=px.colors.qualitative.Set1\n",
    "    )\n",
    "    fig_class.update_layout(xaxis_tickangle=-45)\n",
    "    fig_class.show()\n",
    "\n",
    "    regression_metrics = ['Validation MAE', 'Validation MSE', 'Validation RMSE', 'Validation R2', 'Test MAE', 'Test MSE', 'Test RMSE', 'Test R2']\n",
    "    regression_df = pd.DataFrame({key: [val[key] for key in regression_metrics] for key, val in regression_results.items()}, index=regression_metrics)\n",
    "\n",
    "    fig_reg = px.bar(\n",
    "        regression_df.T,\n",
    "        barmode='group',\n",
    "        title=\"Regression Metrics Comparison\",\n",
    "        labels={'value': 'Scores', 'variable': 'Models', 'index': 'Metrics'},\n",
    "        color_discrete_sequence=px.colors.qualitative.Set2\n",
    "    )\n",
    "    fig_reg.update_layout(xaxis_tickangle=-45)\n",
    "    fig_reg.show()\n"
   ]
  },
  {
   "cell_type": "code",
   "execution_count": 57,
   "id": "0d9f9c6b",
   "metadata": {},
   "outputs": [
    {
     "name": "stdout",
     "output_type": "stream",
     "text": [
      "Training Logistic Regression...\n"
     ]
    },
    {
     "name": "stderr",
     "output_type": "stream",
     "text": [
      "c:\\Users\\Helia\\AppData\\Local\\Programs\\Python\\Python39\\lib\\site-packages\\sklearn\\linear_model\\_logistic.py:1247: FutureWarning:\n",
      "\n",
      "'multi_class' was deprecated in version 1.5 and will be removed in 1.7. From then on, it will always use 'multinomial'. Leave it to its default value to avoid this warning.\n",
      "\n"
     ]
    },
    {
     "name": "stdout",
     "output_type": "stream",
     "text": [
      "\n",
      "Metrics for Logistic Regression:\n",
      "Validation Accuracy: 0.3040\n",
      "Validation Precision (macro): 0.2406\n",
      "Validation Recall (macro): 0.2979\n",
      "Validation F1-score (macro): 0.2478\n",
      "Test Accuracy: 0.2240\n",
      "Test Precision (macro): 0.1819\n",
      "Test Recall (macro): 0.2180\n",
      "Test F1-score (macro): 0.1879\n",
      "Confusion Matrix:\n",
      "[[ 0  0  0  0  0  1  0  0  0]\n",
      " [ 0  0  0  0  2  0  0  0  0]\n",
      " [ 0  1  2  1  1  0  0  1  0]\n",
      " [ 0  0  0  1  2  1  1  0  0]\n",
      " [ 0  1  2  4  8  6  2  0  0]\n",
      " [ 0  0  0  2  9  6  5  2  0]\n",
      " [ 0  0  1  2  4 10  3 14  6]\n",
      " [ 0  0  0  0  2  0  3  3  7]\n",
      " [ 0  0  0  2  0  1  1  0  5]]\n",
      "\n",
      "Training Random Forest Classifier...\n",
      "\n",
      "Metrics for Random Forest Classifier:\n",
      "Validation Accuracy: 0.3120\n",
      "Validation Precision (macro): 0.1028\n",
      "Validation Recall (macro): 0.1426\n",
      "Validation F1-score (macro): 0.0918\n",
      "Test Accuracy: 0.3200\n",
      "Test Precision (macro): 0.2574\n",
      "Test Recall (macro): 0.1253\n",
      "Test F1-score (macro): 0.0889\n",
      "Confusion Matrix:\n",
      "[[ 0  0  0  0  0  0  1  0  0]\n",
      " [ 0  0  0  0  0  0  2  0  0]\n",
      " [ 0  0  0  0  1  0  5  0  0]\n",
      " [ 0  0  0  0  0  0  5  0  0]\n",
      " [ 0  0  0  0  0  0 23  0  0]\n",
      " [ 0  0  0  0  0  0 24  0  0]\n",
      " [ 0  0  0  0  0  2 38  0  0]\n",
      " [ 0  0  0  0  0  0 14  1  0]\n",
      " [ 0  0  0  0  0  0  8  0  1]]\n",
      "\n",
      "Training Support Vector Classifier...\n",
      "\n",
      "Metrics for Support Vector Classifier:\n",
      "Validation Accuracy: 0.3520\n",
      "Validation Precision (macro): 0.3977\n",
      "Validation Recall (macro): 0.2984\n",
      "Validation F1-score (macro): 0.3093\n",
      "Test Accuracy: 0.2720\n",
      "Test Precision (macro): 0.2337\n",
      "Test Recall (macro): 0.1615\n",
      "Test F1-score (macro): 0.1729\n",
      "Confusion Matrix:\n",
      "[[ 0  0  0  0  0  1  0  0  0]\n",
      " [ 0  0  0  0  1  1  0  0  0]\n",
      " [ 0  1  1  1  1  2  0  0  0]\n",
      " [ 0  0  0  0  1  3  1  0  0]\n",
      " [ 0  0  1  3  5  9  4  1  0]\n",
      " [ 0  0  0  1  8  7  7  1  0]\n",
      " [ 0  0  0  1  5 11 16  7  0]\n",
      " [ 0  0  0  0  2  2  6  4  1]\n",
      " [ 0  0  0  0  0  4  2  2  1]]\n",
      "\n",
      "Training XGBoost Classifier...\n",
      "\n",
      "Metrics for XGBoost Classifier:\n",
      "Validation Accuracy: 0.3440\n",
      "Validation Precision (macro): 0.2806\n",
      "Validation Recall (macro): 0.2293\n",
      "Validation F1-score (macro): 0.2228\n",
      "Test Accuracy: 0.3600\n",
      "Test Precision (macro): 0.2183\n",
      "Test Recall (macro): 0.1678\n",
      "Test F1-score (macro): 0.1632\n",
      "Confusion Matrix:\n",
      "[[ 0  0  0  0  0  0  1  0  0]\n",
      " [ 0  0  0  0  0  0  2  0  0]\n",
      " [ 0  0  0  0  2  1  3  0  0]\n",
      " [ 0  0  0  0  2  1  2  0  0]\n",
      " [ 0  0  0  1  4  3 14  1  0]\n",
      " [ 0  0  1  0  1  6 15  0  1]\n",
      " [ 0  0  0  0  2  6 31  1  0]\n",
      " [ 0  0  0  0  1  0 11  3  0]\n",
      " [ 0  0  0  0  0  1  5  2  1]]\n",
      "\n",
      "Training Linear Regression...\n",
      "\n",
      "Metrics for Linear Regression:\n",
      "Validation MAE: 1.1120\n",
      "Validation MSE: 1.9760\n",
      "Validation RMSE: 1.4057\n",
      "Validation R2: 0.1655\n",
      "Test MAE: 1.3280\n",
      "Test MSE: 3.1840\n",
      "Test RMSE: 1.7844\n",
      "Test R2: -0.2198\n",
      "\n",
      "Training Random Forest Regressor...\n",
      "\n",
      "Metrics for Random Forest Regressor:\n",
      "Validation MAE: 1.0000\n",
      "Validation MSE: 1.8960\n",
      "Validation RMSE: 1.3770\n",
      "Validation R2: 0.1993\n",
      "Test MAE: 1.1520\n",
      "Test MSE: 2.3680\n",
      "Test RMSE: 1.5388\n",
      "Test R2: 0.0928\n",
      "\n",
      "Training Support Vector Regressor...\n",
      "\n",
      "Metrics for Support Vector Regressor:\n",
      "Validation MAE: 0.9200\n",
      "Validation MSE: 1.6560\n",
      "Validation RMSE: 1.2869\n",
      "Validation R2: 0.3007\n",
      "Test MAE: 0.9200\n",
      "Test MSE: 1.8000\n",
      "Test RMSE: 1.3416\n",
      "Test R2: 0.3104\n",
      "\n",
      "Training XGBoost Regressor...\n",
      "\n",
      "Metrics for XGBoost Regressor:\n",
      "Validation MAE: 1.0480\n",
      "Validation MSE: 2.0560\n",
      "Validation RMSE: 1.4339\n",
      "Validation R2: 0.1318\n",
      "Test MAE: 1.0720\n",
      "Test MSE: 2.1920\n",
      "Test RMSE: 1.4805\n",
      "Test R2: 0.1603\n",
      "\n"
     ]
    },
    {
     "data": {
      "image/png": "[encoded data removed]",
      "text/plain": [
       "<Figure size 1400x1000 with 4 Axes>"
      ]
     },
     "metadata": {},
     "output_type": "display_data"
    },
    {
     "data": {
      "image/png": "[encoded data removed]",
      "text/plain": [
       "<Figure size 800x500 with 1 Axes>"
      ]
     },
     "metadata": {},
     "output_type": "display_data"
    },
    {
     "data": {
      "application/vnd.plotly.v1+json": {
       "config": {
        "plotlyServerURL": "https://plot.ly"
       },
       "data": [
        {
         "alignmentgroup": "True",
         "hovertemplate": "Models=Validation Accuracy<br>Metrics=%{x}<br>Scores=%{y}<extra></extra>",
         "legendgroup": "Validation Accuracy",
         "marker": {
          "color": "rgb(228,26,28)",
          "pattern": {
           "shape": ""
          }
         },
         "name": "Validation Accuracy",
         "offsetgroup": "Validation Accuracy",
         "orientation": "v",
         "showlegend": true,
         "textposition": "auto",
         "type": "bar",
         "x": [
          "Logistic Regression",
          "Random Forest Classifier",
          "Support Vector Classifier",
          "XGBoost Classifier"
         ],
         "xaxis": "x",
         "y": {
          "bdata": "2/l+arx00z8rhxbZzvfTP7pJDAIrh9Y/arx0kxgE1j8=",
          "dtype": "f8"
         },
         "yaxis": "y"
        },
        {
         "alignmentgroup": "True",
         "hovertemplate": "Models=Validation Precision (macro)<br>Metrics=%{x}<br>Scores=%{y}<extra></extra>",
         "legendgroup": "Validation Precision (macro)",
         "marker": {
          "color": "rgb(55,126,184)",
          "pattern": {
           "shape": ""
          }
         },
         "name": "Validation Precision (macro)",
         "offsetgroup": "Validation Precision (macro)",
         "orientation": "v",
         "showlegend": true,
         "textposition": "auto",
         "type": "bar",
         "x": [
          "Logistic Regression",
          "Random Forest Classifier",
          "Support Vector Classifier",
          "XGBoost Classifier"
         ],
         "xaxis": "x",
         "y": {
          "bdata": "HHm05LvKzj8wj60IGk66PzL+fs7cc9k/tPbVm8700T8=",
          "dtype": "f8"
         },
         "yaxis": "y"
        },
        {
         "alignmentgroup": "True",
         "hovertemplate": "Models=Validation Recall (macro)<br>Metrics=%{x}<br>Scores=%{y}<extra></extra>",
         "legendgroup": "Validation Recall (macro)",
         "marker": {
          "color": "rgb(77,175,74)",
          "pattern": {
           "shape": ""
          }
         },
         "name": "Validation Recall (macro)",
         "offsetgroup": "Validation Recall (macro)",
         "orientation": "v",
         "showlegend": true,
         "textposition": "auto",
         "type": "bar",
         "x": [
          "Logistic Regression",
          "Random Forest Classifier",
          "Support Vector Classifier",
          "XGBoost Classifier"
         ],
         "xaxis": "x",
         "y": {
          "bdata": "EzEREzER0z8apEEapEHCP4/xGI/xGNM/aL6g9OxazT8=",
          "dtype": "f8"
         },
         "yaxis": "y"
        },
        {
         "alignmentgroup": "True",
         "hovertemplate": "Models=Validation F1-score (macro)<br>Metrics=%{x}<br>Scores=%{y}<extra></extra>",
         "legendgroup": "Validation F1-score (macro)",
         "marker": {
          "color": "rgb(152,78,163)",
          "pattern": {
           "shape": ""
          }
         },
         "name": "Validation F1-score (macro)",
         "offsetgroup": "Validation F1-score (macro)",
         "orientation": "v",
         "showlegend": true,
         "textposition": "auto",
         "type": "bar",
         "x": [
          "Logistic Regression",
          "Random Forest Classifier",
          "Support Vector Classifier",
          "XGBoost Classifier"
         ],
         "xaxis": "x",
         "y": {
          "bdata": "hXOYB3u2zz+JnCDcjX23Pxr3eAX+y9M/WGCD5tuDzD8=",
          "dtype": "f8"
         },
         "yaxis": "y"
        },
        {
         "alignmentgroup": "True",
         "hovertemplate": "Models=Test Accuracy<br>Metrics=%{x}<br>Scores=%{y}<extra></extra>",
         "legendgroup": "Test Accuracy",
         "marker": {
          "color": "rgb(255,127,0)",
          "pattern": {
           "shape": ""
          }
         },
         "name": "Test Accuracy",
         "offsetgroup": "Test Accuracy",
         "orientation": "v",
         "showlegend": true,
         "textposition": "auto",
         "type": "bar",
         "x": [
          "Logistic Regression",
          "Random Forest Classifier",
          "Support Vector Classifier",
          "XGBoost Classifier"
         ],
         "xaxis": "x",
         "y": {
          "bdata": "eekmMQiszD97FK5H4XrUP5zEILByaNE/CtejcD0K1z8=",
          "dtype": "f8"
         },
         "yaxis": "y"
        },
        {
         "alignmentgroup": "True",
         "hovertemplate": "Models=Test Precision (macro)<br>Metrics=%{x}<br>Scores=%{y}<extra></extra>",
         "legendgroup": "Test Precision (macro)",
         "marker": {
          "color": "rgb(255,255,51)",
          "pattern": {
           "shape": ""
          }
         },
         "name": "Test Precision (macro)",
         "offsetgroup": "Test Precision (macro)",
         "orientation": "v",
         "showlegend": true,
         "textposition": "auto",
         "type": "bar",
         "x": [
          "Logistic Regression",
          "Random Forest Classifier",
          "Support Vector Classifier",
          "XGBoost Classifier"
         ],
         "xaxis": "x",
         "y": {
          "bdata": "m5az2H9Hxz+VByTrXHnQP2RVv1qe6s0//L7v+77vyz8=",
          "dtype": "f8"
         },
         "yaxis": "y"
        },
        {
         "alignmentgroup": "True",
         "hovertemplate": "Models=Test Recall (macro)<br>Metrics=%{x}<br>Scores=%{y}<extra></extra>",
         "legendgroup": "Test Recall (macro)",
         "marker": {
          "color": "rgb(166,86,40)",
          "pattern": {
           "shape": ""
          }
         },
         "name": "Test Recall (macro)",
         "offsetgroup": "Test Recall (macro)",
         "orientation": "v",
         "showlegend": true,
         "textposition": "auto",
         "type": "bar",
         "x": [
          "Logistic Regression",
          "Random Forest Classifier",
          "Support Vector Classifier",
          "XGBoost Classifier"
         ],
         "xaxis": "x",
         "y": {
          "bdata": "5ATa4WLmyz/3VZgTHQrAP3zBgHEKrMQ/3PrIhdR5xT8=",
          "dtype": "f8"
         },
         "yaxis": "y"
        },
        {
         "alignmentgroup": "True",
         "hovertemplate": "Models=Test F1-score (macro)<br>Metrics=%{x}<br>Scores=%{y}<extra></extra>",
         "legendgroup": "Test F1-score (macro)",
         "marker": {
          "color": "rgb(247,129,191)",
          "pattern": {
           "shape": ""
          }
         },
         "name": "Test F1-score (macro)",
         "offsetgroup": "Test F1-score (macro)",
         "orientation": "v",
         "showlegend": true,
         "textposition": "auto",
         "type": "bar",
         "x": [
          "Logistic Regression",
          "Random Forest Classifier",
          "Support Vector Classifier",
          "XGBoost Classifier"
         ],
         "xaxis": "x",
         "y": {
          "bdata": "BQmvxAAMyD8XbMEWbMG2P/HxyLgNIMY/m8KG4NnjxD8=",
          "dtype": "f8"
         },
         "yaxis": "y"
        }
       ],
       "layout": {
        "barmode": "group",
        "legend": {
         "title": {
          "text": "Models"
         },
         "tracegroupgap": 0
        },
        "template": {
         "data": {
          "bar": [
           {
            "error_x": {
             "color": "#2a3f5f"
            },
            "error_y": {
             "color": "#2a3f5f"
            },
            "marker": {
             "line": {
              "color": "#E5ECF6",
              "width": 0.5
             },
             "pattern": {
              "fillmode": "overlay",
              "size": 10,
              "solidity": 0.2
             }
            },
            "type": "bar"
           }
          ],
          "barpolar": [
           {
            "marker": {
             "line": {
              "color": "#E5ECF6",
              "width": 0.5
             },
             "pattern": {
              "fillmode": "overlay",
              "size": 10,
              "solidity": 0.2
             }
            },
            "type": "barpolar"
           }
          ],
          "carpet": [
           {
            "aaxis": {
             "endlinecolor": "#2a3f5f",
             "gridcolor": "white",
             "linecolor": "white",
             "minorgridcolor": "white",
             "startlinecolor": "#2a3f5f"
            },
            "baxis": {
             "endlinecolor": "#2a3f5f",
             "gridcolor": "white",
             "linecolor": "white",
             "minorgridcolor": "white",
             "startlinecolor": "#2a3f5f"
            },
            "type": "carpet"
           }
          ],
          "choropleth": [
           {
            "colorbar": {
             "outlinewidth": 0,
             "ticks": ""
            },
            "type": "choropleth"
           }
          ],
          "contour": [
           {
            "colorbar": {
             "outlinewidth": 0,
             "ticks": ""
            },
            "colorscale": [
             [
              0,
              "#0d0887"
             ],
             [
              0.1111111111111111,
              "#46039f"
             ],
             [
              0.2222222222222222,
              "#7201a8"
             ],
             [
              0.3333333333333333,
              "#9c179e"
             ],
             [
              0.4444444444444444,
              "#bd3786"
             ],
             [
              0.5555555555555556,
              "#d8576b"
             ],
             [
              0.6666666666666666,
              "#ed7953"
             ],
             [
              0.7777777777777778,
              "#fb9f3a"
             ],
             [
              0.8888888888888888,
              "#fdca26"
             ],
             [
              1,
              "#f0f921"
             ]
            ],
            "type": "contour"
           }
          ],
          "contourcarpet": [
           {
            "colorbar": {
             "outlinewidth": 0,
             "ticks": ""
            },
            "type": "contourcarpet"
           }
          ],
          "heatmap": [
           {
            "colorbar": {
             "outlinewidth": 0,
             "ticks": ""
            },
            "colorscale": [
             [
              0,
              "#0d0887"
             ],
             [
              0.1111111111111111,
              "#46039f"
             ],
             [
              0.2222222222222222,
              "#7201a8"
             ],
             [
              0.3333333333333333,
              "#9c179e"
             ],
             [
              0.4444444444444444,
              "#bd3786"
             ],
             [
              0.5555555555555556,
              "#d8576b"
             ],
             [
              0.6666666666666666,
              "#ed7953"
             ],
             [
              0.7777777777777778,
              "#fb9f3a"
             ],
             [
              0.8888888888888888,
              "#fdca26"
             ],
             [
              1,
              "#f0f921"
             ]
            ],
            "type": "heatmap"
           }
          ],
          "histogram": [
           {
            "marker": {
             "pattern": {
              "fillmode": "overlay",
              "size": 10,
              "solidity": 0.2
             }
            },
            "type": "histogram"
           }
          ],
          "histogram2d": [
           {
            "colorbar": {
             "outlinewidth": 0,
             "ticks": ""
            },
            "colorscale": [
             [
              0,
              "#0d0887"
             ],
             [
              0.1111111111111111,
              "#46039f"
             ],
             [
              0.2222222222222222,
              "#7201a8"
             ],
             [
              0.3333333333333333,
              "#9c179e"
             ],
             [
              0.4444444444444444,
              "#bd3786"
             ],
             [
              0.5555555555555556,
              "#d8576b"
             ],
             [
              0.6666666666666666,
              "#ed7953"
             ],
             [
              0.7777777777777778,
              "#fb9f3a"
             ],
             [
              0.8888888888888888,
              "#fdca26"
             ],
             [
              1,
              "#f0f921"
             ]
            ],
            "type": "histogram2d"
           }
          ],
          "histogram2dcontour": [
           {
            "colorbar": {
             "outlinewidth": 0,
             "ticks": ""
            },
            "colorscale": [
             [
              0,
              "#0d0887"
             ],
             [
              0.1111111111111111,
              "#46039f"
             ],
             [
              0.2222222222222222,
              "#7201a8"
             ],
             [
              0.3333333333333333,
              "#9c179e"
             ],
             [
              0.4444444444444444,
              "#bd3786"
             ],
             [
              0.5555555555555556,
              "#d8576b"
             ],
             [
              0.6666666666666666,
              "#ed7953"
             ],
             [
              0.7777777777777778,
              "#fb9f3a"
             ],
             [
              0.8888888888888888,
              "#fdca26"
             ],
             [
              1,
              "#f0f921"
             ]
            ],
            "type": "histogram2dcontour"
           }
          ],
          "mesh3d": [
           {
            "colorbar": {
             "outlinewidth": 0,
             "ticks": ""
            },
            "type": "mesh3d"
           }
          ],
          "parcoords": [
           {
            "line": {
             "colorbar": {
              "outlinewidth": 0,
              "ticks": ""
             }
            },
            "type": "parcoords"
           }
          ],
          "pie": [
           {
            "automargin": true,
            "type": "pie"
           }
          ],
          "scatter": [
           {
            "fillpattern": {
             "fillmode": "overlay",
             "size": 10,
             "solidity": 0.2
            },
            "type": "scatter"
           }
          ],
          "scatter3d": [
           {
            "line": {
             "colorbar": {
              "outlinewidth": 0,
              "ticks": ""
             }
            },
            "marker": {
             "colorbar": {
              "outlinewidth": 0,
              "ticks": ""
             }
            },
            "type": "scatter3d"
           }
          ],
          "scattercarpet": [
           {
            "marker": {
             "colorbar": {
              "outlinewidth": 0,
              "ticks": ""
             }
            },
            "type": "scattercarpet"
           }
          ],
          "scattergeo": [
           {
            "marker": {
             "colorbar": {
              "outlinewidth": 0,
              "ticks": ""
             }
            },
            "type": "scattergeo"
           }
          ],
          "scattergl": [
           {
            "marker": {
             "colorbar": {
              "outlinewidth": 0,
              "ticks": ""
             }
            },
            "type": "scattergl"
           }
          ],
          "scattermap": [
           {
            "marker": {
             "colorbar": {
              "outlinewidth": 0,
              "ticks": ""
             }
            },
            "type": "scattermap"
           }
          ],
          "scattermapbox": [
           {
            "marker": {
             "colorbar": {
              "outlinewidth": 0,
              "ticks": ""
             }
            },
            "type": "scattermapbox"
           }
          ],
          "scatterpolar": [
           {
            "marker": {
             "colorbar": {
              "outlinewidth": 0,
              "ticks": ""
             }
            },
            "type": "scatterpolar"
           }
          ],
          "scatterpolargl": [
           {
            "marker": {
             "colorbar": {
              "outlinewidth": 0,
              "ticks": ""
             }
            },
            "type": "scatterpolargl"
           }
          ],
          "scatterternary": [
           {
            "marker": {
             "colorbar": {
              "outlinewidth": 0,
              "ticks": ""
             }
            },
            "type": "scatterternary"
           }
          ],
          "surface": [
           {
            "colorbar": {
             "outlinewidth": 0,
             "ticks": ""
            },
            "colorscale": [
             [
              0,
              "#0d0887"
             ],
             [
              0.1111111111111111,
              "#46039f"
             ],
             [
              0.2222222222222222,
              "#7201a8"
             ],
             [
              0.3333333333333333,
              "#9c179e"
             ],
             [
              0.4444444444444444,
              "#bd3786"
             ],
             [
              0.5555555555555556,
              "#d8576b"
             ],
             [
              0.6666666666666666,
              "#ed7953"
             ],
             [
              0.7777777777777778,
              "#fb9f3a"
             ],
             [
              0.8888888888888888,
              "#fdca26"
             ],
             [
              1,
              "#f0f921"
             ]
            ],
            "type": "surface"
           }
          ],
          "table": [
           {
            "cells": {
             "fill": {
              "color": "#EBF0F8"
             },
             "line": {
              "color": "white"
             }
            },
            "header": {
             "fill": {
              "color": "#C8D4E3"
             },
             "line": {
              "color": "white"
             }
            },
            "type": "table"
           }
          ]
         },
         "layout": {
          "annotationdefaults": {
           "arrowcolor": "#2a3f5f",
           "arrowhead": 0,
           "arrowwidth": 1
          },
          "autotypenumbers": "strict",
          "coloraxis": {
           "colorbar": {
            "outlinewidth": 0,
            "ticks": ""
           }
          },
          "colorscale": {
           "diverging": [
            [
             0,
             "#8e0152"
            ],
            [
             0.1,
             "#c51b7d"
            ],
            [
             0.2,
             "#de77ae"
            ],
            [
             0.3,
             "#f1b6da"
            ],
            [
             0.4,
             "#fde0ef"
            ],
            [
             0.5,
             "#f7f7f7"
            ],
            [
             0.6,
             "#e6f5d0"
            ],
            [
             0.7,
             "#b8e186"
            ],
            [
             0.8,
             "#7fbc41"
            ],
            [
             0.9,
             "#4d9221"
            ],
            [
             1,
             "#276419"
            ]
           ],
           "sequential": [
            [
             0,
             "#0d0887"
            ],
            [
             0.1111111111111111,
             "#46039f"
            ],
            [
             0.2222222222222222,
             "#7201a8"
            ],
            [
             0.3333333333333333,
             "#9c179e"
            ],
            [
             0.4444444444444444,
             "#bd3786"
            ],
            [
             0.5555555555555556,
             "#d8576b"
            ],
            [
             0.6666666666666666,
             "#ed7953"
            ],
            [
             0.7777777777777778,
             "#fb9f3a"
            ],
            [
             0.8888888888888888,
             "#fdca26"
            ],
            [
             1,
             "#f0f921"
            ]
           ],
           "sequentialminus": [
            [
             0,
             "#0d0887"
            ],
            [
             0.1111111111111111,
             "#46039f"
            ],
            [
             0.2222222222222222,
             "#7201a8"
            ],
            [
             0.3333333333333333,
             "#9c179e"
            ],
            [
             0.4444444444444444,
             "#bd3786"
            ],
            [
             0.5555555555555556,
             "#d8576b"
            ],
            [
             0.6666666666666666,
             "#ed7953"
            ],
            [
             0.7777777777777778,
             "#fb9f3a"
            ],
            [
             0.8888888888888888,
             "#fdca26"
            ],
            [
             1,
             "#f0f921"
            ]
           ]
          },
          "colorway": [
           "#636efa",
           "#EF553B",
           "#00cc96",
           "#ab63fa",
           "#FFA15A",
           "#19d3f3",
           "#FF6692",
           "#B6E880",
           "#FF97FF",
           "#FECB52"
          ],
          "font": {
           "color": "#2a3f5f"
          },
          "geo": {
           "bgcolor": "white",
           "lakecolor": "white",
           "landcolor": "#E5ECF6",
           "showlakes": true,
           "showland": true,
           "subunitcolor": "white"
          },
          "hoverlabel": {
           "align": "left"
          },
          "hovermode": "closest",
          "mapbox": {
           "style": "light"
          },
          "paper_bgcolor": "white",
          "plot_bgcolor": "#E5ECF6",
          "polar": {
           "angularaxis": {
            "gridcolor": "white",
            "linecolor": "white",
            "ticks": ""
           },
           "bgcolor": "#E5ECF6",
           "radialaxis": {
            "gridcolor": "white",
            "linecolor": "white",
            "ticks": ""
           }
          },
          "scene": {
           "xaxis": {
            "backgroundcolor": "#E5ECF6",
            "gridcolor": "white",
            "gridwidth": 2,
            "linecolor": "white",
            "showbackground": true,
            "ticks": "",
            "zerolinecolor": "white"
           },
           "yaxis": {
            "backgroundcolor": "#E5ECF6",
            "gridcolor": "white",
            "gridwidth": 2,
            "linecolor": "white",
            "showbackground": true,
            "ticks": "",
            "zerolinecolor": "white"
           },
           "zaxis": {
            "backgroundcolor": "#E5ECF6",
            "gridcolor": "white",
            "gridwidth": 2,
            "linecolor": "white",
            "showbackground": true,
            "ticks": "",
            "zerolinecolor": "white"
           }
          },
          "shapedefaults": {
           "line": {
            "color": "#2a3f5f"
           }
          },
          "ternary": {
           "aaxis": {
            "gridcolor": "white",
            "linecolor": "white",
            "ticks": ""
           },
           "baxis": {
            "gridcolor": "white",
            "linecolor": "white",
            "ticks": ""
           },
           "bgcolor": "#E5ECF6",
           "caxis": {
            "gridcolor": "white",
            "linecolor": "white",
            "ticks": ""
           }
          },
          "title": {
           "x": 0.05
          },
          "xaxis": {
           "automargin": true,
           "gridcolor": "white",
           "linecolor": "white",
           "ticks": "",
           "title": {
            "standoff": 15
           },
           "zerolinecolor": "white",
           "zerolinewidth": 2
          },
          "yaxis": {
           "automargin": true,
           "gridcolor": "white",
           "linecolor": "white",
           "ticks": "",
           "title": {
            "standoff": 15
           },
           "zerolinecolor": "white",
           "zerolinewidth": 2
          }
         }
        },
        "title": {
         "text": "Classification Metrics Comparison"
        },
        "xaxis": {
         "anchor": "y",
         "domain": [
          0,
          1
         ],
         "tickangle": -45,
         "title": {
          "text": "Metrics"
         }
        },
        "yaxis": {
         "anchor": "x",
         "domain": [
          0,
          1
         ],
         "title": {
          "text": "Scores"
         }
        }
       }
      }
     },
     "metadata": {},
     "output_type": "display_data"
    },
    {
     "data": {
      "application/vnd.plotly.v1+json": {
       "config": {
        "plotlyServerURL": "https://plot.ly"
       },
       "data": [
        {
         "alignmentgroup": "True",
         "hovertemplate": "Models=Validation MAE<br>Metrics=%{x}<br>Scores=%{y}<extra></extra>",
         "legendgroup": "Validation MAE",
         "marker": {
          "color": "rgb(102,194,165)",
          "pattern": {
           "shape": ""
          }
         },
         "name": "Validation MAE",
         "offsetgroup": "Validation MAE",
         "orientation": "v",
         "showlegend": true,
         "textposition": "auto",
         "type": "bar",
         "x": [
          "Linear Regression",
          "Random Forest Regressor",
          "Support Vector Regressor",
          "XGBoost Regressor"
         ],
         "xaxis": "x",
         "y": {
          "bdata": "AAAAgMDK8T8AAAAAAADwP3E9CtejcO0/AAAAoJvE8D8=",
          "dtype": "f8"
         },
         "yaxis": "y"
        },
        {
         "alignmentgroup": "True",
         "hovertemplate": "Models=Validation MSE<br>Metrics=%{x}<br>Scores=%{y}<extra></extra>",
         "legendgroup": "Validation MSE",
         "marker": {
          "color": "rgb(252,141,98)",
          "pattern": {
           "shape": ""
          }
         },
         "name": "Validation MSE",
         "offsetgroup": "Validation MSE",
         "orientation": "v",
         "showlegend": true,
         "textposition": "auto",
         "type": "bar",
         "x": [
          "Linear Regression",
          "Random Forest Regressor",
          "Support Vector Regressor",
          "XGBoost Regressor"
         ],
         "xaxis": "x",
         "y": {
          "bdata": "AAAAILKd/z+8dJMYBFb+P+XQItv5fvo/AAAAILByAEA=",
          "dtype": "f8"
         },
         "yaxis": "y"
        },
        {
         "alignmentgroup": "True",
         "hovertemplate": "Models=Validation RMSE<br>Metrics=%{x}<br>Scores=%{y}<extra></extra>",
         "legendgroup": "Validation RMSE",
         "marker": {
          "color": "rgb(141,160,203)",
          "pattern": {
           "shape": ""
          }
         },
         "name": "Validation RMSE",
         "offsetgroup": "Validation RMSE",
         "orientation": "v",
         "showlegend": true,
         "textposition": "auto",
         "type": "bar",
         "x": [
          "Linear Regression",
          "Random Forest Regressor",
          "Support Vector Regressor",
          "XGBoost Regressor"
         ],
         "xaxis": "x",
         "y": {
          "bdata": "YdfqEMJ99j+ajuwIAAj2P/j8uPv2lvQ/M2p80Sfx9j8=",
          "dtype": "f8"
         },
         "yaxis": "y"
        },
        {
         "alignmentgroup": "True",
         "hovertemplate": "Models=Validation R2<br>Metrics=%{x}<br>Scores=%{y}<extra></extra>",
         "legendgroup": "Validation R2",
         "marker": {
          "color": "rgb(231,138,195)",
          "pattern": {
           "shape": ""
          }
         },
         "name": "Validation R2",
         "offsetgroup": "Validation R2",
         "orientation": "v",
         "showlegend": true,
         "textposition": "auto",
         "type": "bar",
         "x": [
          "Linear Regression",
          "Random Forest Regressor",
          "Support Vector Regressor",
          "XGBoost Regressor"
         ],
         "xaxis": "x",
         "y": {
          "bdata": "AAAAAG4wxT84mCKfdYPJP+SzbjBFPtM/AAAAAGfdwD8=",
          "dtype": "f8"
         },
         "yaxis": "y"
        },
        {
         "alignmentgroup": "True",
         "hovertemplate": "Models=Test MAE<br>Metrics=%{x}<br>Scores=%{y}<extra></extra>",
         "legendgroup": "Test MAE",
         "marker": {
          "color": "rgb(166,216,84)",
          "pattern": {
           "shape": ""
          }
         },
         "name": "Test MAE",
         "offsetgroup": "Test MAE",
         "orientation": "v",
         "showlegend": true,
         "textposition": "auto",
         "type": "bar",
         "x": [
          "Linear Regression",
          "Random Forest Regressor",
          "Support Vector Regressor",
          "XGBoost Regressor"
         ],
         "xaxis": "x",
         "y": {
          "bdata": "AAAA4Hw/9T8730+Nl27yP3E9CtejcO0/AAAAgOkm8T8=",
          "dtype": "f8"
         },
         "yaxis": "y"
        },
        {
         "alignmentgroup": "True",
         "hovertemplate": "Models=Test MSE<br>Metrics=%{x}<br>Scores=%{y}<extra></extra>",
         "legendgroup": "Test MSE",
         "marker": {
          "color": "rgb(255,217,47)",
          "pattern": {
           "shape": ""
          }
         },
         "name": "Test MSE",
         "offsetgroup": "Test MSE",
         "orientation": "v",
         "showlegend": true,
         "textposition": "auto",
         "type": "bar",
         "x": [
          "Linear Regression",
          "Random Forest Regressor",
          "Support Vector Regressor",
          "XGBoost Regressor"
         ],
         "xaxis": "x",
         "y": {
          "bdata": "AAAAANV4CUCLbOf7qfECQM3MzMzMzPw/AAAAQDeJAUA=",
          "dtype": "f8"
         },
         "yaxis": "y"
        },
        {
         "alignmentgroup": "True",
         "hovertemplate": "Models=Test RMSE<br>Metrics=%{x}<br>Scores=%{y}<extra></extra>",
         "legendgroup": "Test RMSE",
         "marker": {
          "color": "rgb(229,196,148)",
          "pattern": {
           "shape": ""
          }
         },
         "name": "Test RMSE",
         "offsetgroup": "Test RMSE",
         "orientation": "v",
         "showlegend": true,
         "textposition": "auto",
         "type": "bar",
         "x": [
          "Linear Regression",
          "Random Forest Regressor",
          "Support Vector Regressor",
          "XGBoost Regressor"
         ],
         "xaxis": "x",
         "y": {
          "bdata": "5RSuhs6M/D9UuVr3DJ/4P2PyT1Rcd/U/TFCvJEuw9z8=",
          "dtype": "f8"
         },
         "yaxis": "y"
        },
        {
         "alignmentgroup": "True",
         "hovertemplate": "Models=Test R2<br>Metrics=%{x}<br>Scores=%{y}<extra></extra>",
         "legendgroup": "Test R2",
         "marker": {
          "color": "rgb(179,179,179)",
          "pattern": {
           "shape": ""
          }
         },
         "name": "Test R2",
         "offsetgroup": "Test R2",
         "orientation": "v",
         "showlegend": true,
         "textposition": "auto",
         "type": "bar",
         "x": [
          "Linear Regression",
          "Random Forest Regressor",
          "Support Vector Regressor",
          "XGBoost Regressor"
         ],
         "xaxis": "x",
         "y": {
          "bdata": "AAAAAMwhzL9QxA9YccO3P2Q2W24B3tM/AAAAgBqDxD8=",
          "dtype": "f8"
         },
         "yaxis": "y"
        }
       ],
       "layout": {
        "barmode": "group",
        "legend": {
         "title": {
          "text": "Models"
         },
         "tracegroupgap": 0
        },
        "template": {
         "data": {
          "bar": [
           {
            "error_x": {
             "color": "#2a3f5f"
            },
            "error_y": {
             "color": "#2a3f5f"
            },
            "marker": {
             "line": {
              "color": "#E5ECF6",
              "width": 0.5
             },
             "pattern": {
              "fillmode": "overlay",
              "size": 10,
              "solidity": 0.2
             }
            },
            "type": "bar"
           }
          ],
          "barpolar": [
           {
            "marker": {
             "line": {
              "color": "#E5ECF6",
              "width": 0.5
             },
             "pattern": {
              "fillmode": "overlay",
              "size": 10,
              "solidity": 0.2
             }
            },
            "type": "barpolar"
           }
          ],
          "carpet": [
           {
            "aaxis": {
             "endlinecolor": "#2a3f5f",
             "gridcolor": "white",
             "linecolor": "white",
             "minorgridcolor": "white",
             "startlinecolor": "#2a3f5f"
            },
            "baxis": {
             "endlinecolor": "#2a3f5f",
             "gridcolor": "white",
             "linecolor": "white",
             "minorgridcolor": "white",
             "startlinecolor": "#2a3f5f"
            },
            "type": "carpet"
           }
          ],
          "choropleth": [
           {
            "colorbar": {
             "outlinewidth": 0,
             "ticks": ""
            },
            "type": "choropleth"
           }
          ],
          "contour": [
           {
            "colorbar": {
             "outlinewidth": 0,
             "ticks": ""
            },
            "colorscale": [
             [
              0,
              "#0d0887"
             ],
             [
              0.1111111111111111,
              "#46039f"
             ],
             [
              0.2222222222222222,
              "#7201a8"
             ],
             [
              0.3333333333333333,
              "#9c179e"
             ],
             [
              0.4444444444444444,
              "#bd3786"
             ],
             [
              0.5555555555555556,
              "#d8576b"
             ],
             [
              0.6666666666666666,
              "#ed7953"
             ],
             [
              0.7777777777777778,
              "#fb9f3a"
             ],
             [
              0.8888888888888888,
              "#fdca26"
             ],
             [
              1,
              "#f0f921"
             ]
            ],
            "type": "contour"
           }
          ],
          "contourcarpet": [
           {
            "colorbar": {
             "outlinewidth": 0,
             "ticks": ""
            },
            "type": "contourcarpet"
           }
          ],
          "heatmap": [
           {
            "colorbar": {
             "outlinewidth": 0,
             "ticks": ""
            },
            "colorscale": [
             [
              0,
              "#0d0887"
             ],
             [
              0.1111111111111111,
              "#46039f"
             ],
             [
              0.2222222222222222,
              "#7201a8"
             ],
             [
              0.3333333333333333,
              "#9c179e"
             ],
             [
              0.4444444444444444,
              "#bd3786"
             ],
             [
              0.5555555555555556,
              "#d8576b"
             ],
             [
              0.6666666666666666,
              "#ed7953"
             ],
             [
              0.7777777777777778,
              "#fb9f3a"
             ],
             [
              0.8888888888888888,
              "#fdca26"
             ],
             [
              1,
              "#f0f921"
             ]
            ],
            "type": "heatmap"
           }
          ],
          "histogram": [
           {
            "marker": {
             "pattern": {
              "fillmode": "overlay",
              "size": 10,
              "solidity": 0.2
             }
            },
            "type": "histogram"
           }
          ],
          "histogram2d": [
           {
            "colorbar": {
             "outlinewidth": 0,
             "ticks": ""
            },
            "colorscale": [
             [
              0,
              "#0d0887"
             ],
             [
              0.1111111111111111,
              "#46039f"
             ],
             [
              0.2222222222222222,
              "#7201a8"
             ],
             [
              0.3333333333333333,
              "#9c179e"
             ],
             [
              0.4444444444444444,
              "#bd3786"
             ],
             [
              0.5555555555555556,
              "#d8576b"
             ],
             [
              0.6666666666666666,
              "#ed7953"
             ],
             [
              0.7777777777777778,
              "#fb9f3a"
             ],
             [
              0.8888888888888888,
              "#fdca26"
             ],
             [
              1,
              "#f0f921"
             ]
            ],
            "type": "histogram2d"
           }
          ],
          "histogram2dcontour": [
           {
            "colorbar": {
             "outlinewidth": 0,
             "ticks": ""
            },
            "colorscale": [
             [
              0,
              "#0d0887"
             ],
             [
              0.1111111111111111,
              "#46039f"
             ],
             [
              0.2222222222222222,
              "#7201a8"
             ],
             [
              0.3333333333333333,
              "#9c179e"
             ],
             [
              0.4444444444444444,
              "#bd3786"
             ],
             [
              0.5555555555555556,
              "#d8576b"
             ],
             [
              0.6666666666666666,
              "#ed7953"
             ],
             [
              0.7777777777777778,
              "#fb9f3a"
             ],
             [
              0.8888888888888888,
              "#fdca26"
             ],
             [
              1,
              "#f0f921"
             ]
            ],
            "type": "histogram2dcontour"
           }
          ],
          "mesh3d": [
           {
            "colorbar": {
             "outlinewidth": 0,
             "ticks": ""
            },
            "type": "mesh3d"
           }
          ],
          "parcoords": [
           {
            "line": {
             "colorbar": {
              "outlinewidth": 0,
              "ticks": ""
             }
            },
            "type": "parcoords"
           }
          ],
          "pie": [
           {
            "automargin": true,
            "type": "pie"
           }
          ],
          "scatter": [
           {
            "fillpattern": {
             "fillmode": "overlay",
             "size": 10,
             "solidity": 0.2
            },
            "type": "scatter"
           }
          ],
          "scatter3d": [
           {
            "line": {
             "colorbar": {
              "outlinewidth": 0,
              "ticks": ""
             }
            },
            "marker": {
             "colorbar": {
              "outlinewidth": 0,
              "ticks": ""
             }
            },
            "type": "scatter3d"
           }
          ],
          "scattercarpet": [
           {
            "marker": {
             "colorbar": {
              "outlinewidth": 0,
              "ticks": ""
             }
            },
            "type": "scattercarpet"
           }
          ],
          "scattergeo": [
           {
            "marker": {
             "colorbar": {
              "outlinewidth": 0,
              "ticks": ""
             }
            },
            "type": "scattergeo"
           }
          ],
          "scattergl": [
           {
            "marker": {
             "colorbar": {
              "outlinewidth": 0,
              "ticks": ""
             }
            },
            "type": "scattergl"
           }
          ],
          "scattermap": [
           {
            "marker": {
             "colorbar": {
              "outlinewidth": 0,
              "ticks": ""
             }
            },
            "type": "scattermap"
           }
          ],
          "scattermapbox": [
           {
            "marker": {
             "colorbar": {
              "outlinewidth": 0,
              "ticks": ""
             }
            },
            "type": "scattermapbox"
           }
          ],
          "scatterpolar": [
           {
            "marker": {
             "colorbar": {
              "outlinewidth": 0,
              "ticks": ""
             }
            },
            "type": "scatterpolar"
           }
          ],
          "scatterpolargl": [
           {
            "marker": {
             "colorbar": {
              "outlinewidth": 0,
              "ticks": ""
             }
            },
            "type": "scatterpolargl"
           }
          ],
          "scatterternary": [
           {
            "marker": {
             "colorbar": {
              "outlinewidth": 0,
              "ticks": ""
             }
            },
            "type": "scatterternary"
           }
          ],
          "surface": [
           {
            "colorbar": {
             "outlinewidth": 0,
             "ticks": ""
            },
            "colorscale": [
             [
              0,
              "#0d0887"
             ],
             [
              0.1111111111111111,
              "#46039f"
             ],
             [
              0.2222222222222222,
              "#7201a8"
             ],
             [
              0.3333333333333333,
              "#9c179e"
             ],
             [
              0.4444444444444444,
              "#bd3786"
             ],
             [
              0.5555555555555556,
              "#d8576b"
             ],
             [
              0.6666666666666666,
              "#ed7953"
             ],
             [
              0.7777777777777778,
              "#fb9f3a"
             ],
             [
              0.8888888888888888,
              "#fdca26"
             ],
             [
              1,
              "#f0f921"
             ]
            ],
            "type": "surface"
           }
          ],
          "table": [
           {
            "cells": {
             "fill": {
              "color": "#EBF0F8"
             },
             "line": {
              "color": "white"
             }
            },
            "header": {
             "fill": {
              "color": "#C8D4E3"
             },
             "line": {
              "color": "white"
             }
            },
            "type": "table"
           }
          ]
         },
         "layout": {
          "annotationdefaults": {
           "arrowcolor": "#2a3f5f",
           "arrowhead": 0,
           "arrowwidth": 1
          },
          "autotypenumbers": "strict",
          "coloraxis": {
           "colorbar": {
            "outlinewidth": 0,
            "ticks": ""
           }
          },
          "colorscale": {
           "diverging": [
            [
             0,
             "#8e0152"
            ],
            [
             0.1,
             "#c51b7d"
            ],
            [
             0.2,
             "#de77ae"
            ],
            [
             0.3,
             "#f1b6da"
            ],
            [
             0.4,
             "#fde0ef"
            ],
            [
             0.5,
             "#f7f7f7"
            ],
            [
             0.6,
             "#e6f5d0"
            ],
            [
             0.7,
             "#b8e186"
            ],
            [
             0.8,
             "#7fbc41"
            ],
            [
             0.9,
             "#4d9221"
            ],
            [
             1,
             "#276419"
            ]
           ],
           "sequential": [
            [
             0,
             "#0d0887"
            ],
            [
             0.1111111111111111,
             "#46039f"
            ],
            [
             0.2222222222222222,
             "#7201a8"
            ],
            [
             0.3333333333333333,
             "#9c179e"
            ],
            [
             0.4444444444444444,
             "#bd3786"
            ],
            [
             0.5555555555555556,
             "#d8576b"
            ],
            [
             0.6666666666666666,
             "#ed7953"
            ],
            [
             0.7777777777777778,
             "#fb9f3a"
            ],
            [
             0.8888888888888888,
             "#fdca26"
            ],
            [
             1,
             "#f0f921"
            ]
           ],
           "sequentialminus": [
            [
             0,
             "#0d0887"
            ],
            [
             0.1111111111111111,
             "#46039f"
            ],
            [
             0.2222222222222222,
             "#7201a8"
            ],
            [
             0.3333333333333333,
             "#9c179e"
            ],
            [
             0.4444444444444444,
             "#bd3786"
            ],
            [
             0.5555555555555556,
             "#d8576b"
            ],
            [
             0.6666666666666666,
             "#ed7953"
            ],
            [
             0.7777777777777778,
             "#fb9f3a"
            ],
            [
             0.8888888888888888,
             "#fdca26"
            ],
            [
             1,
             "#f0f921"
            ]
           ]
          },
          "colorway": [
           "#636efa",
           "#EF553B",
           "#00cc96",
           "#ab63fa",
           "#FFA15A",
           "#19d3f3",
           "#FF6692",
           "#B6E880",
           "#FF97FF",
           "#FECB52"
          ],
          "font": {
           "color": "#2a3f5f"
          },
          "geo": {
           "bgcolor": "white",
           "lakecolor": "white",
           "landcolor": "#E5ECF6",
           "showlakes": true,
           "showland": true,
           "subunitcolor": "white"
          },
          "hoverlabel": {
           "align": "left"
          },
          "hovermode": "closest",
          "mapbox": {
           "style": "light"
          },
          "paper_bgcolor": "white",
          "plot_bgcolor": "#E5ECF6",
          "polar": {
           "angularaxis": {
            "gridcolor": "white",
            "linecolor": "white",
            "ticks": ""
           },
           "bgcolor": "#E5ECF6",
           "radialaxis": {
            "gridcolor": "white",
            "linecolor": "white",
            "ticks": ""
           }
          },
          "scene": {
           "xaxis": {
            "backgroundcolor": "#E5ECF6",
            "gridcolor": "white",
            "gridwidth": 2,
            "linecolor": "white",
            "showbackground": true,
            "ticks": "",
            "zerolinecolor": "white"
           },
           "yaxis": {
            "backgroundcolor": "#E5ECF6",
            "gridcolor": "white",
            "gridwidth": 2,
            "linecolor": "white",
            "showbackground": true,
            "ticks": "",
            "zerolinecolor": "white"
           },
           "zaxis": {
            "backgroundcolor": "#E5ECF6",
            "gridcolor": "white",
            "gridwidth": 2,
            "linecolor": "white",
            "showbackground": true,
            "ticks": "",
            "zerolinecolor": "white"
           }
          },
          "shapedefaults": {
           "line": {
            "color": "#2a3f5f"
           }
          },
          "ternary": {
           "aaxis": {
            "gridcolor": "white",
            "linecolor": "white",
            "ticks": ""
           },
           "baxis": {
            "gridcolor": "white",
            "linecolor": "white",
            "ticks": ""
           },
           "bgcolor": "#E5ECF6",
           "caxis": {
            "gridcolor": "white",
            "linecolor": "white",
            "ticks": ""
           }
          },
          "title": {
           "x": 0.05
          },
          "xaxis": {
           "automargin": true,
           "gridcolor": "white",
           "linecolor": "white",
           "ticks": "",
           "title": {
            "standoff": 15
           },
           "zerolinecolor": "white",
           "zerolinewidth": 2
          },
          "yaxis": {
           "automargin": true,
           "gridcolor": "white",
           "linecolor": "white",
           "ticks": "",
           "title": {
            "standoff": 15
           },
           "zerolinecolor": "white",
           "zerolinewidth": 2
          }
         }
        },
        "title": {
         "text": "Regression Metrics Comparison"
        },
        "xaxis": {
         "anchor": "y",
         "domain": [
          0,
          1
         ],
         "tickangle": -45,
         "title": {
          "text": "Metrics"
         }
        },
        "yaxis": {
         "anchor": "x",
         "domain": [
          0,
          1
         ],
         "title": {
          "text": "Scores"
         }
        }
       }
      }
     },
     "metadata": {},
     "output_type": "display_data"
    }
   ],
   "source": [
    "train_and_evaluate(labeled_embeddings_transformer, labeled_data['review_score'])\n"
   ]
  },
  {
   "cell_type": "code",
   "execution_count": 58,
   "id": "cae122dd",
   "metadata": {},
   "outputs": [
    {
     "name": "stdout",
     "output_type": "stream",
     "text": [
      "Training Logistic Regression...\n",
      "\n",
      "Metrics for Logistic Regression:\n",
      "Validation Accuracy: 0.0400\n",
      "Validation Precision (macro): 0.1938\n",
      "Validation Recall (macro): 0.0360\n",
      "Validation F1-score (macro): 0.0471\n",
      "Test Accuracy: 0.0960\n",
      "Test Precision (macro): 0.1537\n",
      "Test Recall (macro): 0.1382\n",
      "Test F1-score (macro): 0.0971\n",
      "Confusion Matrix:\n",
      "[[ 0  1  0  0  0  0  0  0  0]\n",
      " [ 0  1  0  1  0  0  0  0  0]\n",
      " [ 3  2  0  1  0  0  0  0  0]\n",
      " [ 0  3  0  1  0  1  0  0  0]\n",
      " [ 6  9  0  1  1  4  0  1  1]\n",
      " [ 5 10  0  1  1  4  0  1  2]\n",
      " [ 9 19  0  2  0  5  0  3  2]\n",
      " [ 5  4  0  0  0  0  0  5  1]\n",
      " [ 5  2  0  0  0  1  0  1  0]]\n",
      "\n",
      "Training Random Forest Classifier...\n"
     ]
    },
    {
     "name": "stderr",
     "output_type": "stream",
     "text": [
      "c:\\Users\\Helia\\AppData\\Local\\Programs\\Python\\Python39\\lib\\site-packages\\sklearn\\linear_model\\_logistic.py:1247: FutureWarning:\n",
      "\n",
      "'multi_class' was deprecated in version 1.5 and will be removed in 1.7. From then on, it will always use 'multinomial'. Leave it to its default value to avoid this warning.\n",
      "\n"
     ]
    },
    {
     "name": "stdout",
     "output_type": "stream",
     "text": [
      "\n",
      "Metrics for Random Forest Classifier:\n",
      "Validation Accuracy: 0.2960\n",
      "Validation Precision (macro): 0.2517\n",
      "Validation Recall (macro): 0.1431\n",
      "Validation F1-score (macro): 0.1228\n",
      "Test Accuracy: 0.3440\n",
      "Test Precision (macro): 0.1192\n",
      "Test Recall (macro): 0.1326\n",
      "Test F1-score (macro): 0.0975\n",
      "Confusion Matrix:\n",
      "[[ 0  0  0  0  0  0  1  0  0]\n",
      " [ 0  0  0  0  0  0  2  0  0]\n",
      " [ 0  0  0  0  0  1  5  0  0]\n",
      " [ 0  0  0  0  0  1  4  0  0]\n",
      " [ 0  0  0  0  1  4 18  0  0]\n",
      " [ 0  0  0  0  0  6 18  0  0]\n",
      " [ 0  0  0  0  1  2 36  1  0]\n",
      " [ 0  0  0  0  0  1 14  0  0]\n",
      " [ 0  0  0  0  1  0  8  0  0]]\n",
      "\n",
      "Training Support Vector Classifier...\n",
      "\n",
      "Metrics for Support Vector Classifier:\n",
      "Validation Accuracy: 0.1840\n",
      "Validation Precision (macro): 0.0395\n",
      "Validation Recall (macro): 0.1738\n",
      "Validation F1-score (macro): 0.0514\n",
      "Test Accuracy: 0.1840\n",
      "Test Precision (macro): 0.0365\n",
      "Test Recall (macro): 0.1167\n",
      "Test F1-score (macro): 0.0490\n",
      "Confusion Matrix:\n",
      "[[ 0  0  0  0  0  0  1  0  0]\n",
      " [ 0  1  0  0  0  0  1  0  0]\n",
      " [ 2  1  0  0  0  0  3  0  0]\n",
      " [ 0  1  0  0  0  0  4  0  0]\n",
      " [ 3  6  0  0  0  0 14  0  0]\n",
      " [ 1  5  0  0  0  0 18  0  0]\n",
      " [ 3 15  0  0  0  0 22  0  0]\n",
      " [ 2  5  0  0  0  0  8  0  0]\n",
      " [ 4  3  0  0  0  0  2  0  0]]\n",
      "\n",
      "Training XGBoost Classifier...\n",
      "\n",
      "Metrics for XGBoost Classifier:\n",
      "Validation Accuracy: 0.2720\n",
      "Validation Precision (macro): 0.1445\n",
      "Validation Recall (macro): 0.1453\n",
      "Validation F1-score (macro): 0.1330\n",
      "Test Accuracy: 0.3200\n",
      "Test Precision (macro): 0.1066\n",
      "Test Recall (macro): 0.1376\n",
      "Test F1-score (macro): 0.1153\n",
      "Confusion Matrix:\n",
      "[[ 0  0  0  0  0  0  1  0  0]\n",
      " [ 0  0  0  0  1  0  1  0  0]\n",
      " [ 0  0  0  0  2  1  3  0  0]\n",
      " [ 0  0  0  0  1  0  4  0  0]\n",
      " [ 0  0  0  0  3  5 14  1  0]\n",
      " [ 0  0  0  1  0 11 10  2  0]\n",
      " [ 0  0  0  0  5  7 26  1  1]\n",
      " [ 0  0  0  0  1  2 12  0  0]\n",
      " [ 0  0  1  0  1  1  6  0  0]]\n",
      "\n",
      "Training Linear Regression...\n",
      "\n",
      "Metrics for Linear Regression:\n",
      "Validation MAE: 1.1360\n",
      "Validation MSE: 2.3040\n",
      "Validation RMSE: 1.5179\n",
      "Validation R2: 0.0270\n",
      "Test MAE: 1.1280\n",
      "Test MSE: 2.3920\n",
      "Test RMSE: 1.5466\n",
      "Test R2: 0.0836\n",
      "\n",
      "Training Random Forest Regressor...\n",
      "\n",
      "Metrics for Random Forest Regressor:\n",
      "Validation MAE: 1.1360\n",
      "Validation MSE: 2.3520\n",
      "Validation RMSE: 1.5336\n",
      "Validation R2: 0.0068\n",
      "Test MAE: 1.1920\n",
      "Test MSE: 2.5360\n",
      "Test RMSE: 1.5925\n",
      "Test R2: 0.0285\n",
      "\n",
      "Training Support Vector Regressor...\n",
      "\n",
      "Metrics for Support Vector Regressor:\n",
      "Validation MAE: 1.2320\n",
      "Validation MSE: 3.0080\n",
      "Validation RMSE: 1.7344\n",
      "Validation R2: -0.2703\n",
      "Test MAE: 1.2640\n",
      "Test MSE: 3.1520\n",
      "Test RMSE: 1.7754\n",
      "Test R2: -0.2075\n",
      "\n",
      "Training XGBoost Regressor...\n",
      "\n",
      "Metrics for XGBoost Regressor:\n",
      "Validation MAE: 1.2640\n",
      "Validation MSE: 2.7520\n",
      "Validation RMSE: 1.6589\n",
      "Validation R2: -0.1622\n",
      "Test MAE: 1.2560\n",
      "Test MSE: 2.7760\n",
      "Test RMSE: 1.6661\n",
      "Test R2: -0.0635\n",
      "\n"
     ]
    },
    {
     "data": {
      "image/png": "[encoded data removed]",
      "text/plain": [
       "<Figure size 1400x1000 with 4 Axes>"
      ]
     },
     "metadata": {},
     "output_type": "display_data"
    },
    {
     "data": {
      "image/png": "[encoded data removed]",
      "text/plain": [
       "<Figure size 800x500 with 1 Axes>"
      ]
     },
     "metadata": {},
     "output_type": "display_data"
    },
    {
     "data": {
      "application/vnd.plotly.v1+json": {
       "config": {
        "plotlyServerURL": "https://plot.ly"
       },
       "data": [
        {
         "alignmentgroup": "True",
         "hovertemplate": "Models=Validation Accuracy<br>Metrics=%{x}<br>Scores=%{y}<extra></extra>",
         "legendgroup": "Validation Accuracy",
         "marker": {
          "color": "rgb(228,26,28)",
          "pattern": {
           "shape": ""
          }
         },
         "name": "Validation Accuracy",
         "offsetgroup": "Validation Accuracy",
         "orientation": "v",
         "showlegend": true,
         "textposition": "auto",
         "type": "bar",
         "x": [
          "Logistic Regression",
          "Random Forest Classifier",
          "Support Vector Classifier",
          "XGBoost Classifier"
         ],
         "xaxis": "x",
         "y": {
          "bdata": "exSuR+F6pD+LbOf7qfHSP1pkO99Pjcc/nMQgsHJo0T8=",
          "dtype": "f8"
         },
         "yaxis": "y"
        },
        {
         "alignmentgroup": "True",
         "hovertemplate": "Models=Validation Precision (macro)<br>Metrics=%{x}<br>Scores=%{y}<extra></extra>",
         "legendgroup": "Validation Precision (macro)",
         "marker": {
          "color": "rgb(55,126,184)",
          "pattern": {
           "shape": ""
          }
         },
         "name": "Validation Precision (macro)",
         "offsetgroup": "Validation Precision (macro)",
         "orientation": "v",
         "showlegend": true,
         "textposition": "auto",
         "type": "bar",
         "x": [
          "Logistic Regression",
          "Random Forest Classifier",
          "Support Vector Classifier",
          "XGBoost Classifier"
         ],
         "xaxis": "x",
         "y": {
          "bdata": "3Yx4M+LNyD8cHBwcHBzQP0zuqzAnOqQ/lDOCdw5/wj8=",
          "dtype": "f8"
         },
         "yaxis": "y"
        },
        {
         "alignmentgroup": "True",
         "hovertemplate": "Models=Validation Recall (macro)<br>Metrics=%{x}<br>Scores=%{y}<extra></extra>",
         "legendgroup": "Validation Recall (macro)",
         "marker": {
          "color": "rgb(77,175,74)",
          "pattern": {
           "shape": ""
          }
         },
         "name": "Validation Recall (macro)",
         "offsetgroup": "Validation Recall (macro)",
         "orientation": "v",
         "showlegend": true,
         "textposition": "auto",
         "type": "bar",
         "x": [
          "Logistic Regression",
          "Random Forest Classifier",
          "Support Vector Classifier",
          "XGBoost Classifier"
         ],
         "xaxis": "x",
         "y": {
          "bdata": "9A9k1JNzoj89XyLg6lDCP+xj6UC5PsY/vAaDjUyawj8=",
          "dtype": "f8"
         },
         "yaxis": "y"
        },
        {
         "alignmentgroup": "True",
         "hovertemplate": "Models=Validation F1-score (macro)<br>Metrics=%{x}<br>Scores=%{y}<extra></extra>",
         "legendgroup": "Validation F1-score (macro)",
         "marker": {
          "color": "rgb(152,78,163)",
          "pattern": {
           "shape": ""
          }
         },
         "name": "Validation F1-score (macro)",
         "offsetgroup": "Validation F1-score (macro)",
         "orientation": "v",
         "showlegend": true,
         "textposition": "auto",
         "type": "bar",
         "x": [
          "Logistic Regression",
          "Random Forest Classifier",
          "Support Vector Classifier",
          "XGBoost Classifier"
         ],
         "xaxis": "x",
         "y": {
          "bdata": "w4FxbSwcqD9Htp/UsG6/P+vyEHcFUKo/Kwh5zd8EwT8=",
          "dtype": "f8"
         },
         "yaxis": "y"
        },
        {
         "alignmentgroup": "True",
         "hovertemplate": "Models=Test Accuracy<br>Metrics=%{x}<br>Scores=%{y}<extra></extra>",
         "legendgroup": "Test Accuracy",
         "marker": {
          "color": "rgb(255,127,0)",
          "pattern": {
           "shape": ""
          }
         },
         "name": "Test Accuracy",
         "offsetgroup": "Test Accuracy",
         "orientation": "v",
         "showlegend": true,
         "textposition": "auto",
         "type": "bar",
         "x": [
          "Logistic Regression",
          "Random Forest Classifier",
          "Support Vector Classifier",
          "XGBoost Classifier"
         ],
         "xaxis": "x",
         "y": {
          "bdata": "+n5qvHSTuD9qvHSTGATWP1pkO99Pjcc/exSuR+F61D8=",
          "dtype": "f8"
         },
         "yaxis": "y"
        },
        {
         "alignmentgroup": "True",
         "hovertemplate": "Models=Test Precision (macro)<br>Metrics=%{x}<br>Scores=%{y}<extra></extra>",
         "legendgroup": "Test Precision (macro)",
         "marker": {
          "color": "rgb(255,255,51)",
          "pattern": {
           "shape": ""
          }
         },
         "name": "Test Precision (macro)",
         "offsetgroup": "Test Precision (macro)",
         "orientation": "v",
         "showlegend": true,
         "textposition": "auto",
         "type": "bar",
         "x": [
          "Logistic Regression",
          "Random Forest Classifier",
          "Support Vector Classifier",
          "XGBoost Classifier"
         ],
         "xaxis": "x",
         "y": {
          "bdata": "7mP7idCtwz8gCsfnBoW+P+oqoVigrqI/LU0hMtBJuz8=",
          "dtype": "f8"
         },
         "yaxis": "y"
        },
        {
         "alignmentgroup": "True",
         "hovertemplate": "Models=Test Recall (macro)<br>Metrics=%{x}<br>Scores=%{y}<extra></extra>",
         "legendgroup": "Test Recall (macro)",
         "marker": {
          "color": "rgb(166,86,40)",
          "pattern": {
           "shape": ""
          }
         },
         "name": "Test Recall (macro)",
         "offsetgroup": "Test Recall (macro)",
         "orientation": "v",
         "showlegend": true,
         "textposition": "auto",
         "type": "bar",
         "x": [
          "Logistic Regression",
          "Random Forest Classifier",
          "Support Vector Classifier",
          "XGBoost Classifier"
         ],
         "xaxis": "x",
         "y": {
          "bdata": "cO40vl2vwT8Q435dUvnAP97d3d3d3b0/U5TZkTeewT8=",
          "dtype": "f8"
         },
         "yaxis": "y"
        },
        {
         "alignmentgroup": "True",
         "hovertemplate": "Models=Test F1-score (macro)<br>Metrics=%{x}<br>Scores=%{y}<extra></extra>",
         "legendgroup": "Test F1-score (macro)",
         "marker": {
          "color": "rgb(247,129,191)",
          "pattern": {
           "shape": ""
          }
         },
         "name": "Test F1-score (macro)",
         "offsetgroup": "Test F1-score (macro)",
         "orientation": "v",
         "showlegend": true,
         "textposition": "auto",
         "type": "bar",
         "x": [
          "Logistic Regression",
          "Random Forest Classifier",
          "Support Vector Classifier",
          "XGBoost Classifier"
         ],
         "xaxis": "x",
         "y": {
          "bdata": "5ouLclbduD97j7GMsve4P0Dw9y6dEak/IJJ7Y1WGvT8=",
          "dtype": "f8"
         },
         "yaxis": "y"
        }
       ],
       "layout": {
        "barmode": "group",
        "legend": {
         "title": {
          "text": "Models"
         },
         "tracegroupgap": 0
        },
        "template": {
         "data": {
          "bar": [
           {
            "error_x": {
             "color": "#2a3f5f"
            },
            "error_y": {
             "color": "#2a3f5f"
            },
            "marker": {
             "line": {
              "color": "#E5ECF6",
              "width": 0.5
             },
             "pattern": {
              "fillmode": "overlay",
              "size": 10,
              "solidity": 0.2
             }
            },
            "type": "bar"
           }
          ],
          "barpolar": [
           {
            "marker": {
             "line": {
              "color": "#E5ECF6",
              "width": 0.5
             },
             "pattern": {
              "fillmode": "overlay",
              "size": 10,
              "solidity": 0.2
             }
            },
            "type": "barpolar"
           }
          ],
          "carpet": [
           {
            "aaxis": {
             "endlinecolor": "#2a3f5f",
             "gridcolor": "white",
             "linecolor": "white",
             "minorgridcolor": "white",
             "startlinecolor": "#2a3f5f"
            },
            "baxis": {
             "endlinecolor": "#2a3f5f",
             "gridcolor": "white",
             "linecolor": "white",
             "minorgridcolor": "white",
             "startlinecolor": "#2a3f5f"
            },
            "type": "carpet"
           }
          ],
          "choropleth": [
           {
            "colorbar": {
             "outlinewidth": 0,
             "ticks": ""
            },
            "type": "choropleth"
           }
          ],
          "contour": [
           {
            "colorbar": {
             "outlinewidth": 0,
             "ticks": ""
            },
            "colorscale": [
             [
              0,
              "#0d0887"
             ],
             [
              0.1111111111111111,
              "#46039f"
             ],
             [
              0.2222222222222222,
              "#7201a8"
             ],
             [
              0.3333333333333333,
              "#9c179e"
             ],
             [
              0.4444444444444444,
              "#bd3786"
             ],
             [
              0.5555555555555556,
              "#d8576b"
             ],
             [
              0.6666666666666666,
              "#ed7953"
             ],
             [
              0.7777777777777778,
              "#fb9f3a"
             ],
             [
              0.8888888888888888,
              "#fdca26"
             ],
             [
              1,
              "#f0f921"
             ]
            ],
            "type": "contour"
           }
          ],
          "contourcarpet": [
           {
            "colorbar": {
             "outlinewidth": 0,
             "ticks": ""
            },
            "type": "contourcarpet"
           }
          ],
          "heatmap": [
           {
            "colorbar": {
             "outlinewidth": 0,
             "ticks": ""
            },
            "colorscale": [
             [
              0,
              "#0d0887"
             ],
             [
              0.1111111111111111,
              "#46039f"
             ],
             [
              0.2222222222222222,
              "#7201a8"
             ],
             [
              0.3333333333333333,
              "#9c179e"
             ],
             [
              0.4444444444444444,
              "#bd3786"
             ],
             [
              0.5555555555555556,
              "#d8576b"
             ],
             [
              0.6666666666666666,
              "#ed7953"
             ],
             [
              0.7777777777777778,
              "#fb9f3a"
             ],
             [
              0.8888888888888888,
              "#fdca26"
             ],
             [
              1,
              "#f0f921"
             ]
            ],
            "type": "heatmap"
           }
          ],
          "histogram": [
           {
            "marker": {
             "pattern": {
              "fillmode": "overlay",
              "size": 10,
              "solidity": 0.2
             }
            },
            "type": "histogram"
           }
          ],
          "histogram2d": [
           {
            "colorbar": {
             "outlinewidth": 0,
             "ticks": ""
            },
            "colorscale": [
             [
              0,
              "#0d0887"
             ],
             [
              0.1111111111111111,
              "#46039f"
             ],
             [
              0.2222222222222222,
              "#7201a8"
             ],
             [
              0.3333333333333333,
              "#9c179e"
             ],
             [
              0.4444444444444444,
              "#bd3786"
             ],
             [
              0.5555555555555556,
              "#d8576b"
             ],
             [
              0.6666666666666666,
              "#ed7953"
             ],
             [
              0.7777777777777778,
              "#fb9f3a"
             ],
             [
              0.8888888888888888,
              "#fdca26"
             ],
             [
              1,
              "#f0f921"
             ]
            ],
            "type": "histogram2d"
           }
          ],
          "histogram2dcontour": [
           {
            "colorbar": {
             "outlinewidth": 0,
             "ticks": ""
            },
            "colorscale": [
             [
              0,
              "#0d0887"
             ],
             [
              0.1111111111111111,
              "#46039f"
             ],
             [
              0.2222222222222222,
              "#7201a8"
             ],
             [
              0.3333333333333333,
              "#9c179e"
             ],
             [
              0.4444444444444444,
              "#bd3786"
             ],
             [
              0.5555555555555556,
              "#d8576b"
             ],
             [
              0.6666666666666666,
              "#ed7953"
             ],
             [
              0.7777777777777778,
              "#fb9f3a"
             ],
             [
              0.8888888888888888,
              "#fdca26"
             ],
             [
              1,
              "#f0f921"
             ]
            ],
            "type": "histogram2dcontour"
           }
          ],
          "mesh3d": [
           {
            "colorbar": {
             "outlinewidth": 0,
             "ticks": ""
            },
            "type": "mesh3d"
           }
          ],
          "parcoords": [
           {
            "line": {
             "colorbar": {
              "outlinewidth": 0,
              "ticks": ""
             }
            },
            "type": "parcoords"
           }
          ],
          "pie": [
           {
            "automargin": true,
            "type": "pie"
           }
          ],
          "scatter": [
           {
            "fillpattern": {
             "fillmode": "overlay",
             "size": 10,
             "solidity": 0.2
            },
            "type": "scatter"
           }
          ],
          "scatter3d": [
           {
            "line": {
             "colorbar": {
              "outlinewidth": 0,
              "ticks": ""
             }
            },
            "marker": {
             "colorbar": {
              "outlinewidth": 0,
              "ticks": ""
             }
            },
            "type": "scatter3d"
           }
          ],
          "scattercarpet": [
           {
            "marker": {
             "colorbar": {
              "outlinewidth": 0,
              "ticks": ""
             }
            },
            "type": "scattercarpet"
           }
          ],
          "scattergeo": [
           {
            "marker": {
             "colorbar": {
              "outlinewidth": 0,
              "ticks": ""
             }
            },
            "type": "scattergeo"
           }
          ],
          "scattergl": [
           {
            "marker": {
             "colorbar": {
              "outlinewidth": 0,
              "ticks": ""
             }
            },
            "type": "scattergl"
           }
          ],
          "scattermap": [
           {
            "marker": {
             "colorbar": {
              "outlinewidth": 0,
              "ticks": ""
             }
            },
            "type": "scattermap"
           }
          ],
          "scattermapbox": [
           {
            "marker": {
             "colorbar": {
              "outlinewidth": 0,
              "ticks": ""
             }
            },
            "type": "scattermapbox"
           }
          ],
          "scatterpolar": [
           {
            "marker": {
             "colorbar": {
              "outlinewidth": 0,
              "ticks": ""
             }
            },
            "type": "scatterpolar"
           }
          ],
          "scatterpolargl": [
           {
            "marker": {
             "colorbar": {
              "outlinewidth": 0,
              "ticks": ""
             }
            },
            "type": "scatterpolargl"
           }
          ],
          "scatterternary": [
           {
            "marker": {
             "colorbar": {
              "outlinewidth": 0,
              "ticks": ""
             }
            },
            "type": "scatterternary"
           }
          ],
          "surface": [
           {
            "colorbar": {
             "outlinewidth": 0,
             "ticks": ""
            },
            "colorscale": [
             [
              0,
              "#0d0887"
             ],
             [
              0.1111111111111111,
              "#46039f"
             ],
             [
              0.2222222222222222,
              "#7201a8"
             ],
             [
              0.3333333333333333,
              "#9c179e"
             ],
             [
              0.4444444444444444,
              "#bd3786"
             ],
             [
              0.5555555555555556,
              "#d8576b"
             ],
             [
              0.6666666666666666,
              "#ed7953"
             ],
             [
              0.7777777777777778,
              "#fb9f3a"
             ],
             [
              0.8888888888888888,
              "#fdca26"
             ],
             [
              1,
              "#f0f921"
             ]
            ],
            "type": "surface"
           }
          ],
          "table": [
           {
            "cells": {
             "fill": {
              "color": "#EBF0F8"
             },
             "line": {
              "color": "white"
             }
            },
            "header": {
             "fill": {
              "color": "#C8D4E3"
             },
             "line": {
              "color": "white"
             }
            },
            "type": "table"
           }
          ]
         },
         "layout": {
          "annotationdefaults": {
           "arrowcolor": "#2a3f5f",
           "arrowhead": 0,
           "arrowwidth": 1
          },
          "autotypenumbers": "strict",
          "coloraxis": {
           "colorbar": {
            "outlinewidth": 0,
            "ticks": ""
           }
          },
          "colorscale": {
           "diverging": [
            [
             0,
             "#8e0152"
            ],
            [
             0.1,
             "#c51b7d"
            ],
            [
             0.2,
             "#de77ae"
            ],
            [
             0.3,
             "#f1b6da"
            ],
            [
             0.4,
             "#fde0ef"
            ],
            [
             0.5,
             "#f7f7f7"
            ],
            [
             0.6,
             "#e6f5d0"
            ],
            [
             0.7,
             "#b8e186"
            ],
            [
             0.8,
             "#7fbc41"
            ],
            [
             0.9,
             "#4d9221"
            ],
            [
             1,
             "#276419"
            ]
           ],
           "sequential": [
            [
             0,
             "#0d0887"
            ],
            [
             0.1111111111111111,
             "#46039f"
            ],
            [
             0.2222222222222222,
             "#7201a8"
            ],
            [
             0.3333333333333333,
             "#9c179e"
            ],
            [
             0.4444444444444444,
             "#bd3786"
            ],
            [
             0.5555555555555556,
             "#d8576b"
            ],
            [
             0.6666666666666666,
             "#ed7953"
            ],
            [
             0.7777777777777778,
             "#fb9f3a"
            ],
            [
             0.8888888888888888,
             "#fdca26"
            ],
            [
             1,
             "#f0f921"
            ]
           ],
           "sequentialminus": [
            [
             0,
             "#0d0887"
            ],
            [
             0.1111111111111111,
             "#46039f"
            ],
            [
             0.2222222222222222,
             "#7201a8"
            ],
            [
             0.3333333333333333,
             "#9c179e"
            ],
            [
             0.4444444444444444,
             "#bd3786"
            ],
            [
             0.5555555555555556,
             "#d8576b"
            ],
            [
             0.6666666666666666,
             "#ed7953"
            ],
            [
             0.7777777777777778,
             "#fb9f3a"
            ],
            [
             0.8888888888888888,
             "#fdca26"
            ],
            [
             1,
             "#f0f921"
            ]
           ]
          },
          "colorway": [
           "#636efa",
           "#EF553B",
           "#00cc96",
           "#ab63fa",
           "#FFA15A",
           "#19d3f3",
           "#FF6692",
           "#B6E880",
           "#FF97FF",
           "#FECB52"
          ],
          "font": {
           "color": "#2a3f5f"
          },
          "geo": {
           "bgcolor": "white",
           "lakecolor": "white",
           "landcolor": "#E5ECF6",
           "showlakes": true,
           "showland": true,
           "subunitcolor": "white"
          },
          "hoverlabel": {
           "align": "left"
          },
          "hovermode": "closest",
          "mapbox": {
           "style": "light"
          },
          "paper_bgcolor": "white",
          "plot_bgcolor": "#E5ECF6",
          "polar": {
           "angularaxis": {
            "gridcolor": "white",
            "linecolor": "white",
            "ticks": ""
           },
           "bgcolor": "#E5ECF6",
           "radialaxis": {
            "gridcolor": "white",
            "linecolor": "white",
            "ticks": ""
           }
          },
          "scene": {
           "xaxis": {
            "backgroundcolor": "#E5ECF6",
            "gridcolor": "white",
            "gridwidth": 2,
            "linecolor": "white",
            "showbackground": true,
            "ticks": "",
            "zerolinecolor": "white"
           },
           "yaxis": {
            "backgroundcolor": "#E5ECF6",
            "gridcolor": "white",
            "gridwidth": 2,
            "linecolor": "white",
            "showbackground": true,
            "ticks": "",
            "zerolinecolor": "white"
           },
           "zaxis": {
            "backgroundcolor": "#E5ECF6",
            "gridcolor": "white",
            "gridwidth": 2,
            "linecolor": "white",
            "showbackground": true,
            "ticks": "",
            "zerolinecolor": "white"
           }
          },
          "shapedefaults": {
           "line": {
            "color": "#2a3f5f"
           }
          },
          "ternary": {
           "aaxis": {
            "gridcolor": "white",
            "linecolor": "white",
            "ticks": ""
           },
           "baxis": {
            "gridcolor": "white",
            "linecolor": "white",
            "ticks": ""
           },
           "bgcolor": "#E5ECF6",
           "caxis": {
            "gridcolor": "white",
            "linecolor": "white",
            "ticks": ""
           }
          },
          "title": {
           "x": 0.05
          },
          "xaxis": {
           "automargin": true,
           "gridcolor": "white",
           "linecolor": "white",
           "ticks": "",
           "title": {
            "standoff": 15
           },
           "zerolinecolor": "white",
           "zerolinewidth": 2
          },
          "yaxis": {
           "automargin": true,
           "gridcolor": "white",
           "linecolor": "white",
           "ticks": "",
           "title": {
            "standoff": 15
           },
           "zerolinecolor": "white",
           "zerolinewidth": 2
          }
         }
        },
        "title": {
         "text": "Classification Metrics Comparison"
        },
        "xaxis": {
         "anchor": "y",
         "domain": [
          0,
          1
         ],
         "tickangle": -45,
         "title": {
          "text": "Metrics"
         }
        },
        "yaxis": {
         "anchor": "x",
         "domain": [
          0,
          1
         ],
         "title": {
          "text": "Scores"
         }
        }
       }
      }
     },
     "metadata": {},
     "output_type": "display_data"
    },
    {
     "data": {
      "application/vnd.plotly.v1+json": {
       "config": {
        "plotlyServerURL": "https://plot.ly"
       },
       "data": [
        {
         "alignmentgroup": "True",
         "hovertemplate": "Models=Validation MAE<br>Metrics=%{x}<br>Scores=%{y}<extra></extra>",
         "legendgroup": "Validation MAE",
         "marker": {
          "color": "rgb(102,194,165)",
          "pattern": {
           "shape": ""
          }
         },
         "name": "Validation MAE",
         "offsetgroup": "Validation MAE",
         "orientation": "v",
         "showlegend": true,
         "textposition": "auto",
         "type": "bar",
         "x": [
          "Linear Regression",
          "Random Forest Regressor",
          "Support Vector Regressor",
          "XGBoost Regressor"
         ],
         "xaxis": "x",
         "y": {
          "bdata": "AAAAYA4t8j+TGARWDi3yP4PAyqFFtvM/AAAAIFg59D8=",
          "dtype": "f8"
         },
         "yaxis": "y"
        },
        {
         "alignmentgroup": "True",
         "hovertemplate": "Models=Validation MSE<br>Metrics=%{x}<br>Scores=%{y}<extra></extra>",
         "legendgroup": "Validation MSE",
         "marker": {
          "color": "rgb(252,141,98)",
          "pattern": {
           "shape": ""
          }
         },
         "name": "Validation MSE",
         "offsetgroup": "Validation MSE",
         "orientation": "v",
         "showlegend": true,
         "textposition": "auto",
         "type": "bar",
         "x": [
          "Linear Regression",
          "Random Forest Regressor",
          "Support Vector Regressor",
          "XGBoost Regressor"
         ],
         "xaxis": "x",
         "y": {
          "bdata": "AAAAgJduAkA3iUFg5dACQKrx0k1iEAhAAAAAoBgEBkA=",
          "dtype": "f8"
         },
         "yaxis": "y"
        },
        {
         "alignmentgroup": "True",
         "hovertemplate": "Models=Validation RMSE<br>Metrics=%{x}<br>Scores=%{y}<extra></extra>",
         "legendgroup": "Validation RMSE",
         "marker": {
          "color": "rgb(141,160,203)",
          "pattern": {
           "shape": ""
          }
         },
         "name": "Validation RMSE",
         "offsetgroup": "Validation RMSE",
         "orientation": "v",
         "showlegend": true,
         "textposition": "auto",
         "type": "bar",
         "x": [
          "Linear Regression",
          "Random Forest Regressor",
          "Support Vector Regressor",
          "XGBoost Regressor"
         ],
         "xaxis": "x",
         "y": {
          "bdata": "qjUrbUpJ+D/TH49wuIn4PxglvuDuv/s/5yfNzuqK+j8=",
          "dtype": "f8"
         },
         "yaxis": "y"
        },
        {
         "alignmentgroup": "True",
         "hovertemplate": "Models=Validation R2<br>Metrics=%{x}<br>Scores=%{y}<extra></extra>",
         "legendgroup": "Validation R2",
         "marker": {
          "color": "rgb(231,138,195)",
          "pattern": {
           "shape": ""
          }
         },
         "name": "Validation R2",
         "offsetgroup": "Validation R2",
         "orientation": "v",
         "showlegend": true,
         "textposition": "auto",
         "type": "bar",
         "x": [
          "Linear Regression",
          "Random Forest Regressor",
          "Support Vector Regressor",
          "XGBoost Regressor"
         ],
         "xaxis": "x",
         "y": {
          "bdata": "AAAAAPSsmz8Au8EU+ax7P8AU+awbTNG/AAAAALzBxL8=",
          "dtype": "f8"
         },
         "yaxis": "y"
        },
        {
         "alignmentgroup": "True",
         "hovertemplate": "Models=Test MAE<br>Metrics=%{x}<br>Scores=%{y}<extra></extra>",
         "legendgroup": "Test MAE",
         "marker": {
          "color": "rgb(166,216,84)",
          "pattern": {
           "shape": ""
          }
         },
         "name": "Test MAE",
         "offsetgroup": "Test MAE",
         "orientation": "v",
         "showlegend": true,
         "textposition": "auto",
         "type": "bar",
         "x": [
          "Linear Regression",
          "Random Forest Regressor",
          "Support Vector Regressor",
          "XGBoost Regressor"
         ],
         "xaxis": "x",
         "y": {
          "bdata": "AAAAwEkM8j/fT42XbhLzP9NNYhBYOfQ/AAAAgJMY9D8=",
          "dtype": "f8"
         },
         "yaxis": "y"
        },
        {
         "alignmentgroup": "True",
         "hovertemplate": "Models=Test MSE<br>Metrics=%{x}<br>Scores=%{y}<extra></extra>",
         "legendgroup": "Test MSE",
         "marker": {
          "color": "rgb(255,217,47)",
          "pattern": {
           "shape": ""
          }
         },
         "name": "Test MSE",
         "offsetgroup": "Test MSE",
         "orientation": "v",
         "showlegend": true,
         "textposition": "auto",
         "type": "bar",
         "x": [
          "Linear Regression",
          "Random Forest Regressor",
          "Support Vector Regressor",
          "XGBoost Regressor"
         ],
         "xaxis": "x",
         "y": {
          "bdata": "AAAA4NAiA0B9PzVeukkEQJ7vp8ZLNwlAAAAAgD81BkA=",
          "dtype": "f8"
         },
         "yaxis": "y"
        },
        {
         "alignmentgroup": "True",
         "hovertemplate": "Models=Test RMSE<br>Metrics=%{x}<br>Scores=%{y}<extra></extra>",
         "legendgroup": "Test RMSE",
         "marker": {
          "color": "rgb(229,196,148)",
          "pattern": {
           "shape": ""
          }
         },
         "name": "Test RMSE",
         "offsetgroup": "Test RMSE",
         "orientation": "v",
         "showlegend": true,
         "textposition": "auto",
         "type": "bar",
         "x": [
          "Linear Regression",
          "Random Forest Regressor",
          "Support Vector Regressor",
          "XGBoost Regressor"
         ],
         "xaxis": "x",
         "y": {
          "bdata": "PebbROm++D8b0tbCznr5P9S+iX78Z/w/KCUFWHuo+j8=",
          "dtype": "f8"
         },
         "yaxis": "y"
        },
        {
         "alignmentgroup": "True",
         "hovertemplate": "Models=Test R2<br>Metrics=%{x}<br>Scores=%{y}<extra></extra>",
         "legendgroup": "Test R2",
         "marker": {
          "color": "rgb(179,179,179)",
          "pattern": {
           "shape": ""
          }
         },
         "name": "Test R2",
         "offsetgroup": "Test R2",
         "orientation": "v",
         "showlegend": true,
         "textposition": "auto",
         "type": "bar",
         "x": [
          "Linear Regression",
          "Random Forest Regressor",
          "Support Vector Regressor",
          "XGBoost Regressor"
         ],
         "xaxis": "x",
         "y": {
          "bdata": "AAAAAOBotT8AwttuGSadPxAMcksWkMq/AAAAABRAsL8=",
          "dtype": "f8"
         },
         "yaxis": "y"
        }
       ],
       "layout": {
        "barmode": "group",
        "legend": {
         "title": {
          "text": "Models"
         },
         "tracegroupgap": 0
        },
        "template": {
         "data": {
          "bar": [
           {
            "error_x": {
             "color": "#2a3f5f"
            },
            "error_y": {
             "color": "#2a3f5f"
            },
            "marker": {
             "line": {
              "color": "#E5ECF6",
              "width": 0.5
             },
             "pattern": {
              "fillmode": "overlay",
              "size": 10,
              "solidity": 0.2
             }
            },
            "type": "bar"
           }
          ],
          "barpolar": [
           {
            "marker": {
             "line": {
              "color": "#E5ECF6",
              "width": 0.5
             },
             "pattern": {
              "fillmode": "overlay",
              "size": 10,
              "solidity": 0.2
             }
            },
            "type": "barpolar"
           }
          ],
          "carpet": [
           {
            "aaxis": {
             "endlinecolor": "#2a3f5f",
             "gridcolor": "white",
             "linecolor": "white",
             "minorgridcolor": "white",
             "startlinecolor": "#2a3f5f"
            },
            "baxis": {
             "endlinecolor": "#2a3f5f",
             "gridcolor": "white",
             "linecolor": "white",
             "minorgridcolor": "white",
             "startlinecolor": "#2a3f5f"
            },
            "type": "carpet"
           }
          ],
          "choropleth": [
           {
            "colorbar": {
             "outlinewidth": 0,
             "ticks": ""
            },
            "type": "choropleth"
           }
          ],
          "contour": [
           {
            "colorbar": {
             "outlinewidth": 0,
             "ticks": ""
            },
            "colorscale": [
             [
              0,
              "#0d0887"
             ],
             [
              0.1111111111111111,
              "#46039f"
             ],
             [
              0.2222222222222222,
              "#7201a8"
             ],
             [
              0.3333333333333333,
              "#9c179e"
             ],
             [
              0.4444444444444444,
              "#bd3786"
             ],
             [
              0.5555555555555556,
              "#d8576b"
             ],
             [
              0.6666666666666666,
              "#ed7953"
             ],
             [
              0.7777777777777778,
              "#fb9f3a"
             ],
             [
              0.8888888888888888,
              "#fdca26"
             ],
             [
              1,
              "#f0f921"
             ]
            ],
            "type": "contour"
           }
          ],
          "contourcarpet": [
           {
            "colorbar": {
             "outlinewidth": 0,
             "ticks": ""
            },
            "type": "contourcarpet"
           }
          ],
          "heatmap": [
           {
            "colorbar": {
             "outlinewidth": 0,
             "ticks": ""
            },
            "colorscale": [
             [
              0,
              "#0d0887"
             ],
             [
              0.1111111111111111,
              "#46039f"
             ],
             [
              0.2222222222222222,
              "#7201a8"
             ],
             [
              0.3333333333333333,
              "#9c179e"
             ],
             [
              0.4444444444444444,
              "#bd3786"
             ],
             [
              0.5555555555555556,
              "#d8576b"
             ],
             [
              0.6666666666666666,
              "#ed7953"
             ],
             [
              0.7777777777777778,
              "#fb9f3a"
             ],
             [
              0.8888888888888888,
              "#fdca26"
             ],
             [
              1,
              "#f0f921"
             ]
            ],
            "type": "heatmap"
           }
          ],
          "histogram": [
           {
            "marker": {
             "pattern": {
              "fillmode": "overlay",
              "size": 10,
              "solidity": 0.2
             }
            },
            "type": "histogram"
           }
          ],
          "histogram2d": [
           {
            "colorbar": {
             "outlinewidth": 0,
             "ticks": ""
            },
            "colorscale": [
             [
              0,
              "#0d0887"
             ],
             [
              0.1111111111111111,
              "#46039f"
             ],
             [
              0.2222222222222222,
              "#7201a8"
             ],
             [
              0.3333333333333333,
              "#9c179e"
             ],
             [
              0.4444444444444444,
              "#bd3786"
             ],
             [
              0.5555555555555556,
              "#d8576b"
             ],
             [
              0.6666666666666666,
              "#ed7953"
             ],
             [
              0.7777777777777778,
              "#fb9f3a"
             ],
             [
              0.8888888888888888,
              "#fdca26"
             ],
             [
              1,
              "#f0f921"
             ]
            ],
            "type": "histogram2d"
           }
          ],
          "histogram2dcontour": [
           {
            "colorbar": {
             "outlinewidth": 0,
             "ticks": ""
            },
            "colorscale": [
             [
              0,
              "#0d0887"
             ],
             [
              0.1111111111111111,
              "#46039f"
             ],
             [
              0.2222222222222222,
              "#7201a8"
             ],
             [
              0.3333333333333333,
              "#9c179e"
             ],
             [
              0.4444444444444444,
              "#bd3786"
             ],
             [
              0.5555555555555556,
              "#d8576b"
             ],
             [
              0.6666666666666666,
              "#ed7953"
             ],
             [
              0.7777777777777778,
              "#fb9f3a"
             ],
             [
              0.8888888888888888,
              "#fdca26"
             ],
             [
              1,
              "#f0f921"
             ]
            ],
            "type": "histogram2dcontour"
           }
          ],
          "mesh3d": [
           {
            "colorbar": {
             "outlinewidth": 0,
             "ticks": ""
            },
            "type": "mesh3d"
           }
          ],
          "parcoords": [
           {
            "line": {
             "colorbar": {
              "outlinewidth": 0,
              "ticks": ""
             }
            },
            "type": "parcoords"
           }
          ],
          "pie": [
           {
            "automargin": true,
            "type": "pie"
           }
          ],
          "scatter": [
           {
            "fillpattern": {
             "fillmode": "overlay",
             "size": 10,
             "solidity": 0.2
            },
            "type": "scatter"
           }
          ],
          "scatter3d": [
           {
            "line": {
             "colorbar": {
              "outlinewidth": 0,
              "ticks": ""
             }
            },
            "marker": {
             "colorbar": {
              "outlinewidth": 0,
              "ticks": ""
             }
            },
            "type": "scatter3d"
           }
          ],
          "scattercarpet": [
           {
            "marker": {
             "colorbar": {
              "outlinewidth": 0,
              "ticks": ""
             }
            },
            "type": "scattercarpet"
           }
          ],
          "scattergeo": [
           {
            "marker": {
             "colorbar": {
              "outlinewidth": 0,
              "ticks": ""
             }
            },
            "type": "scattergeo"
           }
          ],
          "scattergl": [
           {
            "marker": {
             "colorbar": {
              "outlinewidth": 0,
              "ticks": ""
             }
            },
            "type": "scattergl"
           }
          ],
          "scattermap": [
           {
            "marker": {
             "colorbar": {
              "outlinewidth": 0,
              "ticks": ""
             }
            },
            "type": "scattermap"
           }
          ],
          "scattermapbox": [
           {
            "marker": {
             "colorbar": {
              "outlinewidth": 0,
              "ticks": ""
             }
            },
            "type": "scattermapbox"
           }
          ],
          "scatterpolar": [
           {
            "marker": {
             "colorbar": {
              "outlinewidth": 0,
              "ticks": ""
             }
            },
            "type": "scatterpolar"
           }
          ],
          "scatterpolargl": [
           {
            "marker": {
             "colorbar": {
              "outlinewidth": 0,
              "ticks": ""
             }
            },
            "type": "scatterpolargl"
           }
          ],
          "scatterternary": [
           {
            "marker": {
             "colorbar": {
              "outlinewidth": 0,
              "ticks": ""
             }
            },
            "type": "scatterternary"
           }
          ],
          "surface": [
           {
            "colorbar": {
             "outlinewidth": 0,
             "ticks": ""
            },
            "colorscale": [
             [
              0,
              "#0d0887"
             ],
             [
              0.1111111111111111,
              "#46039f"
             ],
             [
              0.2222222222222222,
              "#7201a8"
             ],
             [
              0.3333333333333333,
              "#9c179e"
             ],
             [
              0.4444444444444444,
              "#bd3786"
             ],
             [
              0.5555555555555556,
              "#d8576b"
             ],
             [
              0.6666666666666666,
              "#ed7953"
             ],
             [
              0.7777777777777778,
              "#fb9f3a"
             ],
             [
              0.8888888888888888,
              "#fdca26"
             ],
             [
              1,
              "#f0f921"
             ]
            ],
            "type": "surface"
           }
          ],
          "table": [
           {
            "cells": {
             "fill": {
              "color": "#EBF0F8"
             },
             "line": {
              "color": "white"
             }
            },
            "header": {
             "fill": {
              "color": "#C8D4E3"
             },
             "line": {
              "color": "white"
             }
            },
            "type": "table"
           }
          ]
         },
         "layout": {
          "annotationdefaults": {
           "arrowcolor": "#2a3f5f",
           "arrowhead": 0,
           "arrowwidth": 1
          },
          "autotypenumbers": "strict",
          "coloraxis": {
           "colorbar": {
            "outlinewidth": 0,
            "ticks": ""
           }
          },
          "colorscale": {
           "diverging": [
            [
             0,
             "#8e0152"
            ],
            [
             0.1,
             "#c51b7d"
            ],
            [
             0.2,
             "#de77ae"
            ],
            [
             0.3,
             "#f1b6da"
            ],
            [
             0.4,
             "#fde0ef"
            ],
            [
             0.5,
             "#f7f7f7"
            ],
            [
             0.6,
             "#e6f5d0"
            ],
            [
             0.7,
             "#b8e186"
            ],
            [
             0.8,
             "#7fbc41"
            ],
            [
             0.9,
             "#4d9221"
            ],
            [
             1,
             "#276419"
            ]
           ],
           "sequential": [
            [
             0,
             "#0d0887"
            ],
            [
             0.1111111111111111,
             "#46039f"
            ],
            [
             0.2222222222222222,
             "#7201a8"
            ],
            [
             0.3333333333333333,
             "#9c179e"
            ],
            [
             0.4444444444444444,
             "#bd3786"
            ],
            [
             0.5555555555555556,
             "#d8576b"
            ],
            [
             0.6666666666666666,
             "#ed7953"
            ],
            [
             0.7777777777777778,
             "#fb9f3a"
            ],
            [
             0.8888888888888888,
             "#fdca26"
            ],
            [
             1,
             "#f0f921"
            ]
           ],
           "sequentialminus": [
            [
             0,
             "#0d0887"
            ],
            [
             0.1111111111111111,
             "#46039f"
            ],
            [
             0.2222222222222222,
             "#7201a8"
            ],
            [
             0.3333333333333333,
             "#9c179e"
            ],
            [
             0.4444444444444444,
             "#bd3786"
            ],
            [
             0.5555555555555556,
             "#d8576b"
            ],
            [
             0.6666666666666666,
             "#ed7953"
            ],
            [
             0.7777777777777778,
             "#fb9f3a"
            ],
            [
             0.8888888888888888,
             "#fdca26"
            ],
            [
             1,
             "#f0f921"
            ]
           ]
          },
          "colorway": [
           "#636efa",
           "#EF553B",
           "#00cc96",
           "#ab63fa",
           "#FFA15A",
           "#19d3f3",
           "#FF6692",
           "#B6E880",
           "#FF97FF",
           "#FECB52"
          ],
          "font": {
           "color": "#2a3f5f"
          },
          "geo": {
           "bgcolor": "white",
           "lakecolor": "white",
           "landcolor": "#E5ECF6",
           "showlakes": true,
           "showland": true,
           "subunitcolor": "white"
          },
          "hoverlabel": {
           "align": "left"
          },
          "hovermode": "closest",
          "mapbox": {
           "style": "light"
          },
          "paper_bgcolor": "white",
          "plot_bgcolor": "#E5ECF6",
          "polar": {
           "angularaxis": {
            "gridcolor": "white",
            "linecolor": "white",
            "ticks": ""
           },
           "bgcolor": "#E5ECF6",
           "radialaxis": {
            "gridcolor": "white",
            "linecolor": "white",
            "ticks": ""
           }
          },
          "scene": {
           "xaxis": {
            "backgroundcolor": "#E5ECF6",
            "gridcolor": "white",
            "gridwidth": 2,
            "linecolor": "white",
            "showbackground": true,
            "ticks": "",
            "zerolinecolor": "white"
           },
           "yaxis": {
            "backgroundcolor": "#E5ECF6",
            "gridcolor": "white",
            "gridwidth": 2,
            "linecolor": "white",
            "showbackground": true,
            "ticks": "",
            "zerolinecolor": "white"
           },
           "zaxis": {
            "backgroundcolor": "#E5ECF6",
            "gridcolor": "white",
            "gridwidth": 2,
            "linecolor": "white",
            "showbackground": true,
            "ticks": "",
            "zerolinecolor": "white"
           }
          },
          "shapedefaults": {
           "line": {
            "color": "#2a3f5f"
           }
          },
          "ternary": {
           "aaxis": {
            "gridcolor": "white",
            "linecolor": "white",
            "ticks": ""
           },
           "baxis": {
            "gridcolor": "white",
            "linecolor": "white",
            "ticks": ""
           },
           "bgcolor": "#E5ECF6",
           "caxis": {
            "gridcolor": "white",
            "linecolor": "white",
            "ticks": ""
           }
          },
          "title": {
           "x": 0.05
          },
          "xaxis": {
           "automargin": true,
           "gridcolor": "white",
           "linecolor": "white",
           "ticks": "",
           "title": {
            "standoff": 15
           },
           "zerolinecolor": "white",
           "zerolinewidth": 2
          },
          "yaxis": {
           "automargin": true,
           "gridcolor": "white",
           "linecolor": "white",
           "ticks": "",
           "title": {
            "standoff": 15
           },
           "zerolinecolor": "white",
           "zerolinewidth": 2
          }
         }
        },
        "title": {
         "text": "Regression Metrics Comparison"
        },
        "xaxis": {
         "anchor": "y",
         "domain": [
          0,
          1
         ],
         "tickangle": -45,
         "title": {
          "text": "Metrics"
         }
        },
        "yaxis": {
         "anchor": "x",
         "domain": [
          0,
          1
         ],
         "title": {
          "text": "Scores"
         }
        }
       }
      }
     },
     "metadata": {},
     "output_type": "display_data"
    }
   ],
   "source": [
    "train_and_evaluate(labeled_embeddings_w2vec, labeled_data['review_score'])\n"
   ]
  },
  {
   "cell_type": "code",
   "execution_count": null,
   "id": "cb797ab0",
   "metadata": {},
   "outputs": [],
   "source": [
    "def pseudo_labeling(X_labeled, y_labeled, X_unlabeled, X_test, y_test,\n",
    "                    base_model=XGBClassifier(\n",
    "                        objective=\"multi:softprob\",\n",
    "                        use_label_encoder=False,\n",
    "                        eval_metric=\"mlogloss\",\n",
    "                        random_state=42\n",
    "                    ),\n",
    "                    confidence_threshold=0.2,\n",
    "                    max_iterations=3):\n",
    "\n",
    "    X_train, y_train = X_labeled.copy(), y_labeled.copy()\n",
    "\n",
    "    acc_list = []\n",
    "    f1_list = []\n",
    "    sample_counts = []\n",
    "\n",
    "    for iteration in range(max_iterations):\n",
    "        print(f\"\\n=== Iteration {iteration+1} ===\")\n",
    "        print(f\"Unlabeled pool size: {len(X_unlabeled)}\")\n",
    "\n",
    "        model = clone(base_model)\n",
    "        model.fit(X_train, y_train)\n",
    "\n",
    "        if len(X_unlabeled) == 0:\n",
    "            print(\"No unlabeled samples left.\")\n",
    "            break\n",
    "\n",
    "        probs = model.predict_proba(X_unlabeled)\n",
    "        preds = np.argmax(probs, axis=1)\n",
    "        confidences = np.max(probs, axis=1)\n",
    "\n",
    "        print(f\"Confidence stats: min={confidences.min():.3f}, max={confidences.max():.3f}, mean={confidences.mean():.3f}\")\n",
    "\n",
    "        mask = confidences >= confidence_threshold\n",
    "        print(f\"Samples above threshold {confidence_threshold}: {mask.sum()}\")\n",
    "\n",
    "        X_pseudo = X_unlabeled[mask]\n",
    "        y_pseudo = preds[mask]\n",
    "\n",
    "        if len(X_pseudo) == 0:\n",
    "            print(\"No pseudo-labeled samples selected.\")\n",
    "            break\n",
    "\n",
    "        X_train = np.vstack([X_train, X_pseudo])\n",
    "        y_train = np.concatenate([y_train, y_pseudo])\n",
    "        X_unlabeled = X_unlabeled[~mask]\n",
    "\n",
    "        y_pred = model.predict(X_test)\n",
    "        acc = accuracy_score(y_test, y_pred)\n",
    "        f1 = f1_score(y_test, y_pred, average=\"macro\")\n",
    "        print(f\"Test Accuracy: {acc:.4f}, Macro-F1: {f1:.4f}\")\n",
    "\n",
    "        acc_list.append(acc)\n",
    "        f1_list.append(f1)\n",
    "        sample_counts.append(len(y_train))\n",
    "\n",
    "    print(\"\\n=== Final ROC Curve ===\")\n",
    "    y_test_bin = label_binarize(y_test, classes=np.unique(y_train))\n",
    "    probs_test = model.predict_proba(X_test)\n",
    "\n",
    "    roc_data = []\n",
    "    for i in range(y_test_bin.shape[1]):\n",
    "        fpr, tpr, _ = roc_curve(y_test_bin[:, i], probs_test[:, i])\n",
    "        roc_auc = auc(fpr, tpr)\n",
    "        print(f\"Class {i} AUC: {roc_auc:.4f}\")\n",
    "        roc_data.append(pd.DataFrame({\n",
    "            \"FPR\": fpr,\n",
    "            \"TPR\": tpr,\n",
    "            \"Class\": f\"Class {i}\",\n",
    "            \"AUC\": roc_auc\n",
    "        }))\n",
    "\n",
    "    combined_df = pd.concat(roc_data)\n",
    "    fig = px.line(\n",
    "        combined_df,\n",
    "        x=\"FPR\",\n",
    "        y=\"TPR\",\n",
    "        color=\"Class\",\n",
    "        line_group=\"Class\",\n",
    "        hover_data=[\"AUC\"],\n",
    "        title=\"ROC Curve for Final Pseudo-Labeling Iteration\"\n",
    "    )\n",
    "    fig.add_shape(type=\"line\", x0=0, y0=0, x1=1, y1=1,\n",
    "                  line=dict(dash=\"dash\", color=\"gray\"))\n",
    "    fig.update_layout(xaxis_title=\"False Positive Rate\", yaxis_title=\"True Positive Rate\")\n",
    "    fig.show()\n",
    "\n",
    "    \n",
    "    fig_lc = go.Figure()\n",
    "    fig_lc.add_trace(go.Scatter(x=sample_counts, y=acc_list, mode='lines+markers', name='Test Accuracy'))\n",
    "    fig_lc.add_trace(go.Scatter(x=sample_counts, y=f1_list, mode='lines+markers', name='Macro F1-score'))\n",
    "    fig_lc.update_layout(\n",
    "        title=\"Learning Curve During Pseudo-Labeling\",\n",
    "        xaxis_title=\"Number of Labeled Samples\",\n",
    "        yaxis_title=\"Score\",\n",
    "        legend_title=\"Metric\"\n",
    "    )\n",
    "    fig_lc.show()\n",
    "\n",
    "    \n",
    "    return model"
   ]
  },
  {
   "cell_type": "code",
   "execution_count": 64,
   "id": "0bbb98d5",
   "metadata": {},
   "outputs": [
    {
     "name": "stdout",
     "output_type": "stream",
     "text": [
      "\n",
      "=== Iteration 1 ===\n",
      "Unlabeled pool size: 5000\n",
      "Confidence stats: min=0.192, max=0.997, mean=0.651\n",
      "Samples above threshold 0.97: 120\n",
      "Test Accuracy: 0.3520, Macro-F1: 0.1850\n",
      "\n",
      "=== Iteration 2 ===\n",
      "Unlabeled pool size: 4880\n",
      "Confidence stats: min=0.191, max=0.999, mean=0.666\n",
      "Samples above threshold 0.97: 218\n",
      "Test Accuracy: 0.3400, Macro-F1: 0.1633\n",
      "\n",
      "=== Iteration 3 ===\n",
      "Unlabeled pool size: 4662\n",
      "Confidence stats: min=0.207, max=0.999, mean=0.685\n",
      "Samples above threshold 0.97: 325\n",
      "Test Accuracy: 0.3360, Macro-F1: 0.1526\n",
      "\n",
      "=== Iteration 4 ===\n",
      "Unlabeled pool size: 4337\n",
      "Confidence stats: min=0.207, max=0.999, mean=0.710\n",
      "Samples above threshold 0.97: 419\n",
      "Test Accuracy: 0.3360, Macro-F1: 0.1532\n",
      "\n",
      "=== Iteration 5 ===\n",
      "Unlabeled pool size: 3918\n",
      "Confidence stats: min=0.189, max=0.999, mean=0.732\n",
      "Samples above threshold 0.97: 462\n",
      "Test Accuracy: 0.3440, Macro-F1: 0.1186\n",
      "\n",
      "=== Final ROC Curve ===\n",
      "Class 0 AUC: 0.9639\n",
      "Class 1 AUC: 0.5169\n",
      "Class 2 AUC: 0.7457\n",
      "Class 3 AUC: 0.6450\n",
      "Class 4 AUC: 0.6115\n",
      "Class 5 AUC: 0.4720\n",
      "Class 6 AUC: 0.6101\n",
      "Class 7 AUC: 0.5470\n",
      "Class 8 AUC: 0.8213\n"
     ]
    },
    {
     "data": {
      "application/vnd.plotly.v1+json": {
       "config": {
        "plotlyServerURL": "https://plot.ly"
       },
       "data": [
        {
         "customdata": {
          "bdata": "lPBGU+fX7j+U8EZT59fuP5TwRlPn1+4/lPBGU+fX7j+U8EZT59fuPw==",
          "dtype": "f8",
          "shape": "5, 1"
         },
         "hovertemplate": "Class=Class 0<br>FPR=%{x}<br>TPR=%{y}<br>AUC=%{customdata[0]}<extra></extra>",
         "legendgroup": "Class 0",
         "line": {
          "color": "#636efa",
          "dash": "solid"
         },
         "marker": {
          "symbol": "circle"
         },
         "mode": "lines",
         "name": "Class 0",
         "orientation": "v",
         "showlegend": true,
         "type": "scatter",
         "x": {
          "bdata": "AAAAAAAAAADG90cKJnNwP7/2kMuKgaI/v/aQy4qBoj8AAAAAAADwPw==",
          "dtype": "f8"
         },
         "xaxis": "x",
         "y": {
          "bdata": "AAAAAAAAAAAAAAAAAAAAAAAAAAAAAAAAAAAAAAAA8D8AAAAAAADwPw==",
          "dtype": "f8"
         },
         "yaxis": "y"
        },
        {
         "customdata": {
          "bdata": "owjbDjGK4D+jCNsOMYrgP6MI2w4xiuA/owjbDjGK4D+jCNsOMYrgP6MI2w4xiuA/owjbDjGK4D+jCNsOMYrgP6MI2w4xiuA/",
          "dtype": "f8",
          "shape": "9, 1"
         },
         "hovertemplate": "Class=Class 1<br>FPR=%{x}<br>TPR=%{y}<br>AUC=%{customdata[0]}<extra></extra>",
         "legendgroup": "Class 1",
         "line": {
          "color": "#EF553B",
          "dash": "solid"
         },
         "marker": {
          "symbol": "circle"
         },
         "mode": "lines",
         "name": "Class 1",
         "orientation": "v",
         "showlegend": true,
         "type": "scatter",
         "x": {
          "bdata": "AAAAAAAAAABUCQE5P5VwP65offHhitY/rmh98eGK1j9umi3M3abZP26aLczdptk/iWSZ9IxI5j+JZJn0jEjmPwAAAAAAAPA/",
          "dtype": "f8"
         },
         "xaxis": "x",
         "y": {
          "bdata": "AAAAAAAAAAAAAAAAAAAAAAAAAAAAAAAAVVVVVVVV1T9VVVVVVVXVP1VVVVVVVeU/VVVVVVVV5T8AAAAAAADwPwAAAAAAAPA/",
          "dtype": "f8"
         },
         "yaxis": "y"
        },
        {
         "customdata": {
          "bdata": "0P3cz/3c5z/Q/dzP/dznP9D93M/93Oc/0P3cz/3c5z/Q/dzP/dznP9D93M/93Oc/0P3cz/3c5z/Q/dzP/dznP9D93M/93Oc/0P3cz/3c5z/Q/dzP/dznP9D93M/93Oc/0P3cz/3c5z/Q/dzP/dznP9D93M/93Oc/0P3cz/3c5z/Q/dzP/dznP9D93M/93Oc/0P3cz/3c5z/Q/dzP/dznP9D93M/93Oc/0P3cz/3c5z/Q/dzP/dznP9D93M/93Oc/0P3cz/3c5z/Q/dzP/dznP9D93M/93Oc/0P3cz/3c5z/Q/dzP/dznP9D93M/93Oc/0P3cz/3c5z/Q/dzP/dznP9D93M/93Oc/0P3cz/3c5z/Q/dzP/dznPw==",
          "dtype": "f8",
          "shape": "35, 1"
         },
         "hovertemplate": "Class=Class 2<br>FPR=%{x}<br>TPR=%{y}<br>AUC=%{customdata[0]}<extra></extra>",
         "legendgroup": "Class 2",
         "line": {
          "color": "#00cc96",
          "dash": "solid"
         },
         "marker": {
          "symbol": "circle"
         },
         "mode": "lines",
         "name": "Class 2",
         "orientation": "v",
         "showlegend": true,
         "type": "scatter",
         "x": {
          "bdata": "AAAAAAAAAAASGIERGIFxPxqkQRqkQZo/GqRBGqRBmj8WXuEVXuG1PxZe4RVe4bU/mZIpmZIpuT+ZkimZkim5PxzHcRzHcbw/HMdxHMdxvD8f6qEe6qG+Px/qoR7qob4/UQ/1UA/1wD9RD/VQD/XAP9IgDdIgDcI/0iAN0iANwj+ZkimZkinJP5mSKZmSKck/m7VZm7VZyz+btVmbtVnLPzIlUzIlU9I/MiVTMiVT0j+zNmuzNmvTP7M2a7M2a9M/VVVVVVVV1T9VVVVVVVXVP/mWb/mWb9k/+ZZv+ZZv2T8apEEapEHaPxqkQRqkQdo/gzRIgzRI4z+DNEiDNEjjP+Q4juM4juM/5DiO4ziO4z8AAAAAAADwPw==",
          "dtype": "f8"
         },
         "xaxis": "x",
         "y": {
          "bdata": "AAAAAAAAAAAAAAAAAAAAAAAAAAAAAAAAAAAAAAAAsD8AAAAAAACwPwAAAAAAAMA/AAAAAAAAwD8AAAAAAADIPwAAAAAAAMg/AAAAAAAA0D8AAAAAAADQPwAAAAAAANQ/AAAAAAAA1D8AAAAAAADYPwAAAAAAANg/AAAAAAAA3D8AAAAAAADcPwAAAAAAAOA/AAAAAAAA4D8AAAAAAADiPwAAAAAAAOI/AAAAAAAA5D8AAAAAAADkPwAAAAAAAOY/AAAAAAAA5j8AAAAAAADoPwAAAAAAAOg/AAAAAAAA6j8AAAAAAADqPwAAAAAAAOw/AAAAAAAA7D8AAAAAAADuPwAAAAAAAO4/AAAAAAAA8D8AAAAAAADwPw==",
          "dtype": "f8"
         },
         "yaxis": "y"
        },
        {
         "customdata": {
          "bdata": "7H6j7H6j5D/sfqPsfqPkP+x+o+x+o+Q/7H6j7H6j5D/sfqPsfqPkP+x+o+x+o+Q/7H6j7H6j5D/sfqPsfqPkP+x+o+x+o+Q/7H6j7H6j5D/sfqPsfqPkP+x+o+x+o+Q/7H6j7H6j5D/sfqPsfqPkP+x+o+x+o+Q/7H6j7H6j5D/sfqPsfqPkP+x+o+x+o+Q/7H6j7H6j5D/sfqPsfqPkP+x+o+x+o+Q/7H6j7H6j5D/sfqPsfqPkP+x+o+x+o+Q/",
          "dtype": "f8",
          "shape": "24, 1"
         },
         "hovertemplate": "Class=Class 3<br>FPR=%{x}<br>TPR=%{y}<br>AUC=%{customdata[0]}<extra></extra>",
         "legendgroup": "Class 3",
         "line": {
          "color": "#ab63fa",
          "dash": "solid"
         },
         "marker": {
          "symbol": "circle"
         },
         "mode": "lines",
         "name": "Class 3",
         "orientation": "v",
         "showlegend": true,
         "type": "scatter",
         "x": {
          "bdata": "AAAAAAAAAAARyDURyDVxPxHINRHINXE/mwjkmgjkuj+bCOSaCOS6P5BrIpBrIsA/kGsikGsiwD/gKLvfKLvPP+Aou98ou88/l5aWlpaW1j+XlpaWlpbWP/rUi/nUi9k/+tSL+dSL2T8cZfcbZffbPxxl9xtl99s/INdEINdE4D8g10Qg10TgP9EZrNAZrOA/0Rms0Bms4D9H2f1G2f3mP0fZ/UbZ/eY/C53BCp3B6j8LncEKncHqPwAAAAAAAPA/",
          "dtype": "f8"
         },
         "xaxis": "x",
         "y": {
          "bdata": "AAAAAAAAAAAAAAAAAAAAAFVVVVVVVcU/VVVVVVVVxT8AAAAAAADQPwAAAAAAANA/VVVVVVVV1T9VVVVVVVXVP6uqqqqqqto/q6qqqqqq2j8AAAAAAADgPwAAAAAAAOA/q6qqqqqq4j+rqqqqqqriP1VVVVVVVeU/VVVVVVVV5T8AAAAAAADoPwAAAAAAAOg/q6qqqqqq6j+rqqqqqqrqP1VVVVVVVe0/VVVVVVVV7T8AAAAAAADwPwAAAAAAAPA/",
          "dtype": "f8"
         },
         "yaxis": "y"
        },
        {
         "customdata": {
          "bdata": "pypn2CqR4z+nKmfYKpHjP6cqZ9gqkeM/pypn2CqR4z+nKmfYKpHjP6cqZ9gqkeM/pypn2CqR4z+nKmfYKpHjP6cqZ9gqkeM/pypn2CqR4z+nKmfYKpHjP6cqZ9gqkeM/pypn2CqR4z+nKmfYKpHjP6cqZ9gqkeM/pypn2CqR4z+nKmfYKpHjP6cqZ9gqkeM/pypn2CqR4z+nKmfYKpHjP6cqZ9gqkeM/pypn2CqR4z+nKmfYKpHjP6cqZ9gqkeM/pypn2CqR4z+nKmfYKpHjP6cqZ9gqkeM/pypn2CqR4z+nKmfYKpHjP6cqZ9gqkeM/pypn2CqR4z+nKmfYKpHjP6cqZ9gqkeM/pypn2CqR4z+nKmfYKpHjP6cqZ9gqkeM/pypn2CqR4z+nKmfYKpHjP6cqZ9gqkeM/pypn2CqR4z+nKmfYKpHjP6cqZ9gqkeM/pypn2CqR4z+nKmfYKpHjP6cqZ9gqkeM/pypn2CqR4z+nKmfYKpHjP6cqZ9gqkeM/pypn2CqR4z+nKmfYKpHjP6cqZ9gqkeM/pypn2CqR4z+nKmfYKpHjP6cqZ9gqkeM/pypn2CqR4z+nKmfYKpHjP6cqZ9gqkeM/pypn2CqR4z+nKmfYKpHjPw==",
          "dtype": "f8",
          "shape": "59, 1"
         },
         "hovertemplate": "Class=Class 4<br>FPR=%{x}<br>TPR=%{y}<br>AUC=%{customdata[0]}<extra></extra>",
         "legendgroup": "Class 4",
         "line": {
          "color": "#FFA15A",
          "dash": "solid"
         },
         "marker": {
          "symbol": "circle"
         },
         "mode": "lines",
         "name": "Class 4",
         "orientation": "v",
         "showlegend": true,
         "type": "scatter",
         "x": {
          "bdata": "AAAAAAAAAACyvFdb5DpzPwubA4lW2Iw/C5sDiVbYjD/eqy1ynQmYP96rLXKdCZg/C5sDiVbYnD8LmwOJVticP3WjmP35cKo/daOY/flwqj8cxezPh9PAPxzF7M+H08A/qSfjt0s9yT+pJ+O3Sz3JP6GSbhSzP88/oZJuFLM/zz+HUEk3itnPP4dQSTeK2c8/KWZ/PpyG0D8pZn8+nIbQPxzF7M+H09A/HMXsz4fT0D8OJFphcyDRPw4kWmFzINE/9OE0hEq60T/04TSESrrRP9qfD6chVNI/2p8PpyFU0j+yvFdb5DrTP7K8V1vkOtM/l3oyfrvU0z+XejJ+u9TTP4rZnw+nIdQ/itmfD6ch1D9wl3oyfrvUP3CXejJ+u9Q/Jd0oZn8+3D8l3Shmfz7cPwubA4lW2Nw/C5sDiVbY3D+yvFdb5DrjP7K8V1vkOuM/Hst7tUWu4z8ey3u1Ra7jPy5ynQkYPOY/LnKdCRg85j+pJ+O3Sz3pP6kn47dLPek/7lJPxm+X6j/uUk/Gb5fqP5+M3y71ZOw/n4zfLvVk7D/wWN6rLXLtP/BY3qstcu0/yXUmYPBY7j/JdSZg8FjuPw2hkm4Us+8/DaGSbhSz7z8AAAAAAADwPw==",
          "dtype": "f8"
         },
         "xaxis": "x",
         "y": {
          "bdata": "AAAAAAAAAAAAAAAAAAAAAAAAAAAAAAAAHEyRz7rBtD8cTJHPusG0P9C6wRT5rLs/0LrBFPmsuz/CFPmsG0zBP8IU+awbTME/HEyRz7rBxD8cTJHPusHEP9C6wRT5rMs/0LrBFPmsyz8q8lk3mCLPPyryWTeYIs8/bzBFPusG0z9vMEU+6wbTPxxMkc+6wdQ/HEyRz7rB1D/JZ91ginzWP8ln3WCKfNY/doMp8lk32D92gynyWTfYP33WDabIZ90/fdYNpshn3T8q8lk3mCLfPyryWTeYIt8/6wZT5LNu4D/rBlPks27gP8IU+awbTOE/whT5rBtM4T+YIp91gyniP5gin3WDKeI/bzBFPusG4z9vMEU+6wbjPxxMkc+6weQ/HEyRz7rB5D/yWTeYIp/lP/JZN5gin+U/yWfdYIp85j/JZ91ginzmP591gynyWec/n3WDKfJZ5z9Mkc+6wRTpP0yRz7rBFOk/I591gyny6T8jn3WDKfLpP9C6wRT5rOs/0LrBFPms6z+myGfdYIrsP6bIZ91giuw/fdYNpshn7T991g2myGftP1Pks24wRe4/U+SzbjBF7j8q8lk3mCLvPyryWTeYIu8/AAAAAAAA8D8AAAAAAADwPw==",
          "dtype": "f8"
         },
         "yaxis": "y"
        },
        {
         "customdata": {
          "bdata": "PL7Zywg23j88vtnLCDbePzy+2csINt4/PL7Zywg23j88vtnLCDbePzy+2csINt4/PL7Zywg23j88vtnLCDbePzy+2csINt4/PL7Zywg23j88vtnLCDbePzy+2csINt4/PL7Zywg23j88vtnLCDbePzy+2csINt4/PL7Zywg23j88vtnLCDbePzy+2csINt4/PL7Zywg23j88vtnLCDbePzy+2csINt4/PL7Zywg23j88vtnLCDbePzy+2csINt4/PL7Zywg23j88vtnLCDbePzy+2csINt4/PL7Zywg23j88vtnLCDbePzy+2csINt4/PL7Zywg23j88vtnLCDbePzy+2csINt4/PL7Zywg23j88vtnLCDbePzy+2csINt4/PL7Zywg23j88vtnLCDbePzy+2csINt4/PL7Zywg23j88vtnLCDbePzy+2csINt4/PL7Zywg23j88vtnLCDbePzy+2csINt4/PL7Zywg23j88vtnLCDbePzy+2csINt4/PL7Zywg23j88vtnLCDbePzy+2csINt4/PL7Zywg23j88vtnLCDbePzy+2csINt4/PL7Zywg23j88vtnLCDbePzy+2csINt4/PL7Zywg23j88vtnLCDbePzy+2csINt4/PL7Zywg23j88vtnLCDbePzy+2csINt4/PL7Zywg23j88vtnLCDbePzy+2csINt4/PL7Zywg23j88vtnLCDbePzy+2csINt4/PL7Zywg23j88vtnLCDbePzy+2csINt4/PL7Zywg23j88vtnLCDbePzy+2csINt4/PL7Zywg23j88vtnLCDbePzy+2csINt4/PL7Zywg23j88vtnLCDbePzy+2csINt4/PL7Zywg23j8=",
          "dtype": "f8",
          "shape": "82, 1"
         },
         "hovertemplate": "Class=Class 5<br>FPR=%{x}<br>TPR=%{y}<br>AUC=%{customdata[0]}<extra></extra>",
         "legendgroup": "Class 5",
         "line": {
          "color": "#19d3f3",
          "dash": "solid"
         },
         "marker": {
          "symbol": "circle"
         },
         "mode": "lines",
         "name": "Class 5",
         "orientation": "v",
         "showlegend": true,
         "type": "scatter",
         "x": {
          "bdata": "AAAAAAAAAAAAAAAAAAAAAAAAAAAAAAAA6w/0SAk5lT/rD/RICTmVP+OVT8RsLq0/45VPxGwurT/tjdUf6JGyP+2N1R/okbI/4dbeWP2Bvj/h1t5Y/YG+P+9MRotXPsE/70xGi1c+wT9u7Y3VH+jBP27tjdUf6ME/6w/0SAk5xT/rD/RICTnFP+UTMZtLh8o/5RMxm0uHyj9vrP5Aj5TQP2+s/kCPlNA/rr2x+gM90j+uvbH6Az3SP6s/0CMl5NQ/qz/QIyXk1D9nMlq88onYP2cyWrzyidg/JqPFK5+I2T8mo8Urn4jZPyGnAn7h1t4/IacCfuHW3j+gR0rIqYDfP6BHSsipgN8/MNzaG6s/4D8w3Nobqz/gP27tjdUf6OE/bu2N1R/o4T/OpUMNdmfiP86lQw12Z+I/DXZnMlq84j8NdmcyWrziP01Gi1c+EeM/TUaLVz4R4z/M5tKhBrvjP8zm0qEGu+M/LJ+I2Vw65D8sn4jZXDrkP0yHGuzOZOQ/TIca7M5k5D8q4Bdu7Y3lPyrgF27tjeU/ipjNpUMN5j+KmM2lQw3mP8po8conYuY/ymjxyidi5j8JORXwC7fmPwk5FfALt+Y/KSGnAn7h5j8pIacCfuHmP2cyWrzyieg/ZzJavPKJ6D8HuzMZLV7pPwe7MxktXuk/xiufiNlc6j/GK5+I2VzqPyXkVMAv3Oo/JeRUwC/c6j/EbC4darDrP8RsLh1qsOs/RA12ZzJa7D9EDXZnMlrsP6PFK5+I2ew/o8Urn4jZ7D/Drb2x+gPtP8OtvbH6A+0/45VPxGwu7T/jlU/EbC7tP4IeKSGnAu4/gh4pIacC7j8hpwJ+4dbuPyGnAn7h1u4/AAAAAAAA8D8=",
          "dtype": "f8"
         },
         "xaxis": "x",
         "y": {
          "bdata": "AAAAAAAAAABwH8F9BPeRP3AfwX0E96E/cB/BfQT3oT8or6G8hvKqPyivobyG8qo/cB/BfQT3sT9wH8F9BPexP0xnMZ3FdLY/TGcxncV0tj8or6G8hvK6PyivobyG8ro/BPcR3Edwvz8E9xHcR3C/P3AfwX0E98E/cB/BfQT3wT9eQ3kN5TXEP15DeQ3lNcQ/FtNZTGcxzT8W01lMZzHNPwT3EdxHcM8/BPcR3Edwzz95DeU1lNfQP3kN5TWU19A/ZzGdxXQW0z9nMZ3FdBbTP15DeQ3lNdQ/XkN5DeU11D9VVVVVVVXVP1VVVVVVVdU/TGcxncV01j9MZzGdxXTWPzqL6Syms9g/OovpLKaz2D8N5TWU11DePw3lNZTXUN4/BPcR3Edw3z8E9xHcR3DfP3kN5TWU1+A/eQ3lNZTX4D91FtNZTGfhP3UW01lMZ+E/cB/BfQT34T9wH8F9BPfhP2cxncV0FuM/ZzGdxXQW4z9jOovpLKbjP2M6i+kspuM/WkxnMZ3F5D9aTGcxncXkP1VVVVVVVeU/VVVVVVVV5T9RXkN5DeXlP1FeQ3kN5eU/TGcxncV05j9MZzGdxXTmP0hwH8F9BOc/SHAfwX0E5z9DeQ3lNZTnP0N5DeU1lOc/P4L7CO4j6D8/gvsI7iPoPzaU11BeQ+k/NpTXUF5D6T8xncV0FtPpPzGdxXQW0+k/LaazmM5i6j8tprOYzmLqPyS4j+A+gus/JLiP4D6C6z8bymsor6HsPxvKayivoew/FtNZTGcx7T8W01lMZzHtPxLcR3Afwe0/EtxHcB/B7T8J7iO4j+DuPwnuI7iP4O4/BPcR3Edw7z8E9xHcR3DvPwAAAAAAAPA/AAAAAAAA8D8=",
          "dtype": "f8"
         },
         "yaxis": "y"
        },
        {
         "customdata": {
          "bdata": "Cq1RIgmG4z8KrVEiCYbjPwqtUSIJhuM/Cq1RIgmG4z8KrVEiCYbjPwqtUSIJhuM/Cq1RIgmG4z8KrVEiCYbjPwqtUSIJhuM/Cq1RIgmG4z8KrVEiCYbjPwqtUSIJhuM/Cq1RIgmG4z8KrVEiCYbjPwqtUSIJhuM/Cq1RIgmG4z8KrVEiCYbjPwqtUSIJhuM/Cq1RIgmG4z8KrVEiCYbjPwqtUSIJhuM/Cq1RIgmG4z8KrVEiCYbjPwqtUSIJhuM/Cq1RIgmG4z8KrVEiCYbjPwqtUSIJhuM/Cq1RIgmG4z8KrVEiCYbjPwqtUSIJhuM/Cq1RIgmG4z8KrVEiCYbjPwqtUSIJhuM/Cq1RIgmG4z8KrVEiCYbjPwqtUSIJhuM/Cq1RIgmG4z8KrVEiCYbjPwqtUSIJhuM/Cq1RIgmG4z8KrVEiCYbjPwqtUSIJhuM/Cq1RIgmG4z8KrVEiCYbjPwqtUSIJhuM/Cq1RIgmG4z8KrVEiCYbjPwqtUSIJhuM/Cq1RIgmG4z8KrVEiCYbjPwqtUSIJhuM/Cq1RIgmG4z8KrVEiCYbjPwqtUSIJhuM/Cq1RIgmG4z8KrVEiCYbjPwqtUSIJhuM/Cq1RIgmG4z8KrVEiCYbjPwqtUSIJhuM/Cq1RIgmG4z8KrVEiCYbjPwqtUSIJhuM/Cq1RIgmG4z8KrVEiCYbjPwqtUSIJhuM/Cq1RIgmG4z8KrVEiCYbjPwqtUSIJhuM/Cq1RIgmG4z8KrVEiCYbjPwqtUSIJhuM/Cq1RIgmG4z8KrVEiCYbjPwqtUSIJhuM/Cq1RIgmG4z8KrVEiCYbjPwqtUSIJhuM/Cq1RIgmG4z8KrVEiCYbjPwqtUSIJhuM/Cq1RIgmG4z8KrVEiCYbjPwqtUSIJhuM/Cq1RIgmG4z8KrVEiCYbjPwqtUSIJhuM/Cq1RIgmG4z8KrVEiCYbjPwqtUSIJhuM/Cq1RIgmG4z8KrVEiCYbjPwqtUSIJhuM/Cq1RIgmG4z8KrVEiCYbjPwqtUSIJhuM/Cq1RIgmG4z8KrVEiCYbjPwqtUSIJhuM/Cq1RIgmG4z8KrVEiCYbjPwqtUSIJhuM/Cq1RIgmG4z8KrVEiCYbjPw==",
          "dtype": "f8",
          "shape": "104, 1"
         },
         "hovertemplate": "Class=Class 6<br>FPR=%{x}<br>TPR=%{y}<br>AUC=%{customdata[0]}<extra></extra>",
         "legendgroup": "Class 6",
         "line": {
          "color": "#FF6692",
          "dash": "solid"
         },
         "marker": {
          "symbol": "circle"
         },
         "mode": "lines",
         "name": "Class 6",
         "orientation": "v",
         "showlegend": true,
         "type": "scatter",
         "x": {
          "bdata": "AAAAAAAAAAAAAAAAAAAAAAAAAAAAAAAAcB/BfQT3kT9wH8F9BPeRPxDfQXwH8Z0/EN9BfAfxnT9wH8F9BPehP3AfwX0E96E/WE9hPYX1pD9YT2E9hfWkPxDfQXwH8a0/EN9BfAfxrT9YT2E9hfW0P1hPYT2F9bQ/NJfRXEZzuT80l9FcRnO5PyivobyG8ro/KK+hvIbyuj9wH8F9BPfBP3AfwX0E98E/aiupraS2wj9qK6mtpLbCP0B/Af0F9Mc/QH8B/QX0xz86i+ksprPIPzqL6Syms8g/NJfRXEZzyT80l9FcRnPJPy6juYzmMso/LqO5jOYyyj8cx3Ecx3HMPxzHcRzHccw/FtNZTGcxzT8W01lMZzHNPxDfQXwH8c0/EN9BfAfxzT8K6ymsp7DOPwrrKaynsM4/fwH9BfQX0D9/Af0F9BfQP3AfwX0E99E/cB/BfQT30T9nMZ3FdBbTP2cxncV0FtM/W0ltJbWV1D9bSW0ltZXUP1JbSW0ltdU/UltJbSW11T9MZzGdxXTWP0xnMZ3FdNY/SW0ltZXU1j9JbSW1ldTWP0ZzGc1lNNc/RnMZzWU01z80l9FcRnPZPzSX0VxGc9k/LqO5jOYy2j8uo7mM5jLaPxzHcRzHcdw/HMdxHMdx3D8Q30F8B/HdPxDfQXwH8d0/B/EdxHcQ3z8H8R3EdxDfPwT3EdxHcN8/BPcR3Edw3z95DeU1lNfgP3kN5TWU1+A/cxnNZTSX4T9zGc1lNJfhP2wor6G8huI/bCivobyG4j9mNJfRXEbjP2Y0l9FcRuM/ZDeR3UR24z9kN5HdRHbjP1tJbSW1leQ/W0ltJbWV5D9aTGcxncXkP1pMZzGdxeQ/WE9hPYX15D9YT2E9hfXkP0tqK6mtpOY/S2orqa2k5j9JbSW1ldTmP0ltJbWV1OY/Q3kN5TWU5z9DeQ3lNZTnPz+C+wjuI+g/P4L7CO4j6D86i+ksprPoPzqL6Syms+g/MZ3FdBbT6T8xncV0FtPpPyivobyG8uo/KK+hvIby6j8ltZXUVlLrPyW1ldRWUus/IruJ7Cay6z8iu4nsJrLrPxLcR3Afwe0/EtxHcB/B7T8AAAAAAADwPw==",
          "dtype": "f8"
         },
         "xaxis": "x",
         "y": {
          "bdata": "AAAAAAAAAADZMxCVjuyJP9kzEJWO7Jk/2TMQlY7smT/jJszvanGjP+MmzO9qcaM/2TMQlY7sqT/ZMxCVjuypP2ggKh3ZM7A/aCAqHdkzsD/jJszvanGzP+MmzO9qcbM/Xi1uwvyutj9eLW7C/K62P2ggKh3ZM8A/aCAqHdkzwD/jJszvanHDP+MmzO9qccM/Xi1uwvyuxj9eLW7C/K7GP5wwv6vFTcg/nDC/q8VNyD+SPQNR6cjOP5I9A1HpyM4/aCAqHdkz0D9oICod2TPQP6Ujewai0tE/pSN7BqLS0T9EpSN7BqLSP0SlI3sGotI/4ybM72px0z/jJszvanHTPyAqHdkzENU/ICod2TMQ1T9eLW7C/K7WP14tbsL8rtY//a4WN2F+1z/9rhY3YX7XPzqyZyAqHdk/OrJnICod2T/ZMxCVjuzZP9kzEJWO7Nk/FzdhfleL2z8XN2F+V4vbP7W4CfO7Wtw/tbgJ87ta3D9UOrJnICrdP1Q6smcgKt0/87ta3IT53T/zu1rchPndP5I9A1HpyN4/kj0DUenI3j8xv6vFTZjfPzG/q8VNmN8/N2F+V4ub4D83YX5Xi5vgP6Ujewai0uE/pSN7BqLS4T91ZM9AVDriP3Vkz0BUOuI/RKUjewai4j9EpSN7BqLiPxPmd7W4CeM/E+Z3tbgJ4z+yZyAqHdnjP7JnICod2eM/ICod2TMQ5T8gKh3ZMxDlP/BqcRPmd+U/8GpxE+Z35T8tbsL8rhbnPy1uwvyuFuc//a4WN2F+5z/9rhY3YX7nP8zvanET5uc/zO9qcRPm5z8K87ta3ITpPwrzu1rchOk/2TMQlY7s6T/ZMxCVjuzpP6l0ZM9AVOo/qXRkz0BU6j94tbgJ87vqP3i1uAnzu+o/FzdhfleL6z8XN2F+V4vrP+Z3tbgJ8+s/5ne1uAnz6z+F+V0tbsLsP4X5XS1uwuw/VDqyZyAq7T9UOrJnICrtP/O7WtyE+e0/87ta3IT57T/C/K4WN2HuP8L8rhY3Ye4/kj0DUenI7j+SPQNR6cjuP2F+V4ubMO8/YX5Xi5sw7z8xv6vFTZjvPzG/q8VNmO8/AAAAAAAA8D8AAAAAAADwPw==",
          "dtype": "f8"
         },
         "yaxis": "y"
        },
        {
         "customdata": {
          "bdata": "gGkMmMaA4T+AaQyYxoDhP4BpDJjGgOE/gGkMmMaA4T+AaQyYxoDhP4BpDJjGgOE/gGkMmMaA4T+AaQyYxoDhP4BpDJjGgOE/gGkMmMaA4T+AaQyYxoDhP4BpDJjGgOE/gGkMmMaA4T+AaQyYxoDhP4BpDJjGgOE/gGkMmMaA4T+AaQyYxoDhP4BpDJjGgOE/gGkMmMaA4T+AaQyYxoDhP4BpDJjGgOE/gGkMmMaA4T+AaQyYxoDhP4BpDJjGgOE/gGkMmMaA4T+AaQyYxoDhP4BpDJjGgOE/gGkMmMaA4T+AaQyYxoDhP4BpDJjGgOE/gGkMmMaA4T+AaQyYxoDhP4BpDJjGgOE/gGkMmMaA4T+AaQyYxoDhP4BpDJjGgOE/gGkMmMaA4T+AaQyYxoDhP4BpDJjGgOE/gGkMmMaA4T+AaQyYxoDhP4BpDJjGgOE/gGkMmMaA4T+AaQyYxoDhP4BpDJjGgOE/gGkMmMaA4T+AaQyYxoDhP4BpDJjGgOE/gGkMmMaA4T+AaQyYxoDhP4BpDJjGgOE/gGkMmMaA4T8=",
          "dtype": "f8",
          "shape": "52, 1"
         },
         "hovertemplate": "Class=Class 7<br>FPR=%{x}<br>TPR=%{y}<br>AUC=%{customdata[0]}<extra></extra>",
         "legendgroup": "Class 7",
         "line": {
          "color": "#B6E880",
          "dash": "solid"
         },
         "marker": {
          "symbol": "circle"
         },
         "mode": "lines",
         "name": "Class 7",
         "orientation": "v",
         "showlegend": true,
         "type": "scatter",
         "x": {
          "bdata": "AAAAAAAAAACeEuQpQZ5yP54S5ClBnnI/nhLkKUGekj+eEuQpQZ6SP0YXXXTRRac/RhdddNFFpz9KkKcEeUqwP0qQpwR5SrA/7RvWvmHtuz/tG9a+Ye27PwV5SpCnBMk/BXlKkKcEyT9UgjwlyFPSP1SCPCXIU9I/6aKLLrro0j/poosuuujSP8hTgjwlyNM/yFOCPCXI0z9GF1100UXXP0YXXXTRRdc/cFj7hrVv2D9wWPuGtW/YP7ZvWPuGtd8/tm9Y+4a13z+/Ye0b1r7hP79h7RvWvuE/VII8JchT4j9UgjwlyFPiP8hTgjwlyOM/yFOCPCXI4z+oBHlKkKfkP6gEeUqQp+Q/PSXIU4I85T89JchTgjzlP0YXXXTRRec/RhdddNFF5z9wWPuGtW/oP3BY+4a1b+g/5ClBnhLk6T/kKUGeEuTpPxPkKUGeEuw/E+QpQZ4S7D89JchTgjztPz0lyFOCPO0/0UUXXXTR7T/RRRdddNHtP0GeEuQpQe4/QZ4S5ClB7j9mZmZmZmbuP2ZmZmZmZu4/AAAAAAAA8D8=",
          "dtype": "f8"
         },
         "xaxis": "x",
         "y": {
          "bdata": "AAAAAAAAAAAAAAAAAAAAAJqZmZmZmbk/mpmZmZmZuT8RERERERHBPxEREREREcE/3t3d3d3dzT/e3d3d3d3NPxEREREREdE/ERERERER0T8zMzMzMzPTPzMzMzMzM9M/VVVVVVVV1T9VVVVVVVXVP3d3d3d3d9c/d3d3d3d31z+amZmZmZnZP5qZmZmZmdk/vLu7u7u72z+8u7u7u7vbP97d3d3d3d0/3t3d3d3d3T8AAAAAAADgPwAAAAAAAOA/ERERERER4T8RERERERHhPyIiIiIiIuI/IiIiIiIi4j8zMzMzMzPjPzMzMzMzM+M/RERERERE5D9ERERERETkP1VVVVVVVeU/VVVVVVVV5T9mZmZmZmbmP2ZmZmZmZuY/d3d3d3d35z93d3d3d3fnP4mIiIiIiOg/iYiIiIiI6D+amZmZmZnpP5qZmZmZmek/q6qqqqqq6j+rqqqqqqrqP7y7u7u7u+s/vLu7u7u76z/NzMzMzMzsP83MzMzMzOw/3t3d3d3d7T/e3d3d3d3tPwAAAAAAAPA/AAAAAAAA8D8=",
          "dtype": "f8"
         },
         "yaxis": "y"
        },
        {
         "customdata": {
          "bdata": "HDL22uVH6j8cMvba5UfqPxwy9trlR+o/HDL22uVH6j8cMvba5UfqPxwy9trlR+o/HDL22uVH6j8cMvba5UfqPxwy9trlR+o/HDL22uVH6j8cMvba5UfqPxwy9trlR+o/HDL22uVH6j8cMvba5UfqPxwy9trlR+o/HDL22uVH6j8cMvba5UfqPxwy9trlR+o/HDL22uVH6j8cMvba5UfqPxwy9trlR+o/HDL22uVH6j8cMvba5UfqPxwy9trlR+o/HDL22uVH6j8cMvba5UfqPxwy9trlR+o/HDL22uVH6j8cMvba5UfqPxwy9trlR+o/",
          "dtype": "f8",
          "shape": "30, 1"
         },
         "hovertemplate": "Class=Class 8<br>FPR=%{x}<br>TPR=%{y}<br>AUC=%{customdata[0]}<extra></extra>",
         "legendgroup": "Class 8",
         "line": {
          "color": "#FF97FF",
          "dash": "solid"
         },
         "marker": {
          "symbol": "circle"
         },
         "mode": "lines",
         "name": "Class 8",
         "orientation": "v",
         "showlegend": true,
         "type": "scatter",
         "x": {
          "bdata": "AAAAAAAAAAB5c0KJBm5xP3lzQokGbnE/Na3jzQklij81rePNCSWKP3lzQokGbpE/eXNCiQZukT8USjRwi4CePxRKNHCLgJ4/xl67/Ej3tz/GXrv8SPe3PzWt480JJbo/Na3jzQkluj/dX/hUluLAP91f+FSW4sA/TK4gJlcQwz9MriAmVxDDP4TVtI43J8Q/hNW0jjcnxD9t1Hc26jvLP23UdzbqO8s/tsuPdH/h0z+2y490f+HTP/Mj3V/4VNY/8yPdX/hU1j94Nuo7G/XdP3g26jsb9d0/Ut/ZqO9s5D9S39mo72zkPwAAAAAAAPA/",
          "dtype": "f8"
         },
         "xaxis": "x",
         "y": {
          "bdata": "AAAAAAAAAAAAAAAAAAAAABEREREREcE/ERERERERwT+amZmZmZnJP5qZmZmZmck/ERERERER0T8RERERERHRP1VVVVVVVdU/VVVVVVVV1T+amZmZmZnZP5qZmZmZmdk/3t3d3d3d3T/e3d3d3d3dPxEREREREeE/ERERERER4T8zMzMzMzPjPzMzMzMzM+M/VVVVVVVV5T9VVVVVVVXlP3d3d3d3d+c/d3d3d3d35z+amZmZmZnpP5qZmZmZmek/vLu7u7u76z+8u7u7u7vrP97d3d3d3e0/3t3d3d3d7T8AAAAAAADwPwAAAAAAAPA/",
          "dtype": "f8"
         },
         "yaxis": "y"
        }
       ],
       "layout": {
        "legend": {
         "title": {
          "text": "Class"
         },
         "tracegroupgap": 0
        },
        "shapes": [
         {
          "line": {
           "color": "gray",
           "dash": "dash"
          },
          "type": "line",
          "x0": 0,
          "x1": 1,
          "y0": 0,
          "y1": 1
         }
        ],
        "template": {
         "data": {
          "bar": [
           {
            "error_x": {
             "color": "#2a3f5f"
            },
            "error_y": {
             "color": "#2a3f5f"
            },
            "marker": {
             "line": {
              "color": "#E5ECF6",
              "width": 0.5
             },
             "pattern": {
              "fillmode": "overlay",
              "size": 10,
              "solidity": 0.2
             }
            },
            "type": "bar"
           }
          ],
          "barpolar": [
           {
            "marker": {
             "line": {
              "color": "#E5ECF6",
              "width": 0.5
             },
             "pattern": {
              "fillmode": "overlay",
              "size": 10,
              "solidity": 0.2
             }
            },
            "type": "barpolar"
           }
          ],
          "carpet": [
           {
            "aaxis": {
             "endlinecolor": "#2a3f5f",
             "gridcolor": "white",
             "linecolor": "white",
             "minorgridcolor": "white",
             "startlinecolor": "#2a3f5f"
            },
            "baxis": {
             "endlinecolor": "#2a3f5f",
             "gridcolor": "white",
             "linecolor": "white",
             "minorgridcolor": "white",
             "startlinecolor": "#2a3f5f"
            },
            "type": "carpet"
           }
          ],
          "choropleth": [
           {
            "colorbar": {
             "outlinewidth": 0,
             "ticks": ""
            },
            "type": "choropleth"
           }
          ],
          "contour": [
           {
            "colorbar": {
             "outlinewidth": 0,
             "ticks": ""
            },
            "colorscale": [
             [
              0,
              "#0d0887"
             ],
             [
              0.1111111111111111,
              "#46039f"
             ],
             [
              0.2222222222222222,
              "#7201a8"
             ],
             [
              0.3333333333333333,
              "#9c179e"
             ],
             [
              0.4444444444444444,
              "#bd3786"
             ],
             [
              0.5555555555555556,
              "#d8576b"
             ],
             [
              0.6666666666666666,
              "#ed7953"
             ],
             [
              0.7777777777777778,
              "#fb9f3a"
             ],
             [
              0.8888888888888888,
              "#fdca26"
             ],
             [
              1,
              "#f0f921"
             ]
            ],
            "type": "contour"
           }
          ],
          "contourcarpet": [
           {
            "colorbar": {
             "outlinewidth": 0,
             "ticks": ""
            },
            "type": "contourcarpet"
           }
          ],
          "heatmap": [
           {
            "colorbar": {
             "outlinewidth": 0,
             "ticks": ""
            },
            "colorscale": [
             [
              0,
              "#0d0887"
             ],
             [
              0.1111111111111111,
              "#46039f"
             ],
             [
              0.2222222222222222,
              "#7201a8"
             ],
             [
              0.3333333333333333,
              "#9c179e"
             ],
             [
              0.4444444444444444,
              "#bd3786"
             ],
             [
              0.5555555555555556,
              "#d8576b"
             ],
             [
              0.6666666666666666,
              "#ed7953"
             ],
             [
              0.7777777777777778,
              "#fb9f3a"
             ],
             [
              0.8888888888888888,
              "#fdca26"
             ],
             [
              1,
              "#f0f921"
             ]
            ],
            "type": "heatmap"
           }
          ],
          "histogram": [
           {
            "marker": {
             "pattern": {
              "fillmode": "overlay",
              "size": 10,
              "solidity": 0.2
             }
            },
            "type": "histogram"
           }
          ],
          "histogram2d": [
           {
            "colorbar": {
             "outlinewidth": 0,
             "ticks": ""
            },
            "colorscale": [
             [
              0,
              "#0d0887"
             ],
             [
              0.1111111111111111,
              "#46039f"
             ],
             [
              0.2222222222222222,
              "#7201a8"
             ],
             [
              0.3333333333333333,
              "#9c179e"
             ],
             [
              0.4444444444444444,
              "#bd3786"
             ],
             [
              0.5555555555555556,
              "#d8576b"
             ],
             [
              0.6666666666666666,
              "#ed7953"
             ],
             [
              0.7777777777777778,
              "#fb9f3a"
             ],
             [
              0.8888888888888888,
              "#fdca26"
             ],
             [
              1,
              "#f0f921"
             ]
            ],
            "type": "histogram2d"
           }
          ],
          "histogram2dcontour": [
           {
            "colorbar": {
             "outlinewidth": 0,
             "ticks": ""
            },
            "colorscale": [
             [
              0,
              "#0d0887"
             ],
             [
              0.1111111111111111,
              "#46039f"
             ],
             [
              0.2222222222222222,
              "#7201a8"
             ],
             [
              0.3333333333333333,
              "#9c179e"
             ],
             [
              0.4444444444444444,
              "#bd3786"
             ],
             [
              0.5555555555555556,
              "#d8576b"
             ],
             [
              0.6666666666666666,
              "#ed7953"
             ],
             [
              0.7777777777777778,
              "#fb9f3a"
             ],
             [
              0.8888888888888888,
              "#fdca26"
             ],
             [
              1,
              "#f0f921"
             ]
            ],
            "type": "histogram2dcontour"
           }
          ],
          "mesh3d": [
           {
            "colorbar": {
             "outlinewidth": 0,
             "ticks": ""
            },
            "type": "mesh3d"
           }
          ],
          "parcoords": [
           {
            "line": {
             "colorbar": {
              "outlinewidth": 0,
              "ticks": ""
             }
            },
            "type": "parcoords"
           }
          ],
          "pie": [
           {
            "automargin": true,
            "type": "pie"
           }
          ],
          "scatter": [
           {
            "fillpattern": {
             "fillmode": "overlay",
             "size": 10,
             "solidity": 0.2
            },
            "type": "scatter"
           }
          ],
          "scatter3d": [
           {
            "line": {
             "colorbar": {
              "outlinewidth": 0,
              "ticks": ""
             }
            },
            "marker": {
             "colorbar": {
              "outlinewidth": 0,
              "ticks": ""
             }
            },
            "type": "scatter3d"
           }
          ],
          "scattercarpet": [
           {
            "marker": {
             "colorbar": {
              "outlinewidth": 0,
              "ticks": ""
             }
            },
            "type": "scattercarpet"
           }
          ],
          "scattergeo": [
           {
            "marker": {
             "colorbar": {
              "outlinewidth": 0,
              "ticks": ""
             }
            },
            "type": "scattergeo"
           }
          ],
          "scattergl": [
           {
            "marker": {
             "colorbar": {
              "outlinewidth": 0,
              "ticks": ""
             }
            },
            "type": "scattergl"
           }
          ],
          "scattermap": [
           {
            "marker": {
             "colorbar": {
              "outlinewidth": 0,
              "ticks": ""
             }
            },
            "type": "scattermap"
           }
          ],
          "scattermapbox": [
           {
            "marker": {
             "colorbar": {
              "outlinewidth": 0,
              "ticks": ""
             }
            },
            "type": "scattermapbox"
           }
          ],
          "scatterpolar": [
           {
            "marker": {
             "colorbar": {
              "outlinewidth": 0,
              "ticks": ""
             }
            },
            "type": "scatterpolar"
           }
          ],
          "scatterpolargl": [
           {
            "marker": {
             "colorbar": {
              "outlinewidth": 0,
              "ticks": ""
             }
            },
            "type": "scatterpolargl"
           }
          ],
          "scatterternary": [
           {
            "marker": {
             "colorbar": {
              "outlinewidth": 0,
              "ticks": ""
             }
            },
            "type": "scatterternary"
           }
          ],
          "surface": [
           {
            "colorbar": {
             "outlinewidth": 0,
             "ticks": ""
            },
            "colorscale": [
             [
              0,
              "#0d0887"
             ],
             [
              0.1111111111111111,
              "#46039f"
             ],
             [
              0.2222222222222222,
              "#7201a8"
             ],
             [
              0.3333333333333333,
              "#9c179e"
             ],
             [
              0.4444444444444444,
              "#bd3786"
             ],
             [
              0.5555555555555556,
              "#d8576b"
             ],
             [
              0.6666666666666666,
              "#ed7953"
             ],
             [
              0.7777777777777778,
              "#fb9f3a"
             ],
             [
              0.8888888888888888,
              "#fdca26"
             ],
             [
              1,
              "#f0f921"
             ]
            ],
            "type": "surface"
           }
          ],
          "table": [
           {
            "cells": {
             "fill": {
              "color": "#EBF0F8"
             },
             "line": {
              "color": "white"
             }
            },
            "header": {
             "fill": {
              "color": "#C8D4E3"
             },
             "line": {
              "color": "white"
             }
            },
            "type": "table"
           }
          ]
         },
         "layout": {
          "annotationdefaults": {
           "arrowcolor": "#2a3f5f",
           "arrowhead": 0,
           "arrowwidth": 1
          },
          "autotypenumbers": "strict",
          "coloraxis": {
           "colorbar": {
            "outlinewidth": 0,
            "ticks": ""
           }
          },
          "colorscale": {
           "diverging": [
            [
             0,
             "#8e0152"
            ],
            [
             0.1,
             "#c51b7d"
            ],
            [
             0.2,
             "#de77ae"
            ],
            [
             0.3,
             "#f1b6da"
            ],
            [
             0.4,
             "#fde0ef"
            ],
            [
             0.5,
             "#f7f7f7"
            ],
            [
             0.6,
             "#e6f5d0"
            ],
            [
             0.7,
             "#b8e186"
            ],
            [
             0.8,
             "#7fbc41"
            ],
            [
             0.9,
             "#4d9221"
            ],
            [
             1,
             "#276419"
            ]
           ],
           "sequential": [
            [
             0,
             "#0d0887"
            ],
            [
             0.1111111111111111,
             "#46039f"
            ],
            [
             0.2222222222222222,
             "#7201a8"
            ],
            [
             0.3333333333333333,
             "#9c179e"
            ],
            [
             0.4444444444444444,
             "#bd3786"
            ],
            [
             0.5555555555555556,
             "#d8576b"
            ],
            [
             0.6666666666666666,
             "#ed7953"
            ],
            [
             0.7777777777777778,
             "#fb9f3a"
            ],
            [
             0.8888888888888888,
             "#fdca26"
            ],
            [
             1,
             "#f0f921"
            ]
           ],
           "sequentialminus": [
            [
             0,
             "#0d0887"
            ],
            [
             0.1111111111111111,
             "#46039f"
            ],
            [
             0.2222222222222222,
             "#7201a8"
            ],
            [
             0.3333333333333333,
             "#9c179e"
            ],
            [
             0.4444444444444444,
             "#bd3786"
            ],
            [
             0.5555555555555556,
             "#d8576b"
            ],
            [
             0.6666666666666666,
             "#ed7953"
            ],
            [
             0.7777777777777778,
             "#fb9f3a"
            ],
            [
             0.8888888888888888,
             "#fdca26"
            ],
            [
             1,
             "#f0f921"
            ]
           ]
          },
          "colorway": [
           "#636efa",
           "#EF553B",
           "#00cc96",
           "#ab63fa",
           "#FFA15A",
           "#19d3f3",
           "#FF6692",
           "#B6E880",
           "#FF97FF",
           "#FECB52"
          ],
          "font": {
           "color": "#2a3f5f"
          },
          "geo": {
           "bgcolor": "white",
           "lakecolor": "white",
           "landcolor": "#E5ECF6",
           "showlakes": true,
           "showland": true,
           "subunitcolor": "white"
          },
          "hoverlabel": {
           "align": "left"
          },
          "hovermode": "closest",
          "mapbox": {
           "style": "light"
          },
          "paper_bgcolor": "white",
          "plot_bgcolor": "#E5ECF6",
          "polar": {
           "angularaxis": {
            "gridcolor": "white",
            "linecolor": "white",
            "ticks": ""
           },
           "bgcolor": "#E5ECF6",
           "radialaxis": {
            "gridcolor": "white",
            "linecolor": "white",
            "ticks": ""
           }
          },
          "scene": {
           "xaxis": {
            "backgroundcolor": "#E5ECF6",
            "gridcolor": "white",
            "gridwidth": 2,
            "linecolor": "white",
            "showbackground": true,
            "ticks": "",
            "zerolinecolor": "white"
           },
           "yaxis": {
            "backgroundcolor": "#E5ECF6",
            "gridcolor": "white",
            "gridwidth": 2,
            "linecolor": "white",
            "showbackground": true,
            "ticks": "",
            "zerolinecolor": "white"
           },
           "zaxis": {
            "backgroundcolor": "#E5ECF6",
            "gridcolor": "white",
            "gridwidth": 2,
            "linecolor": "white",
            "showbackground": true,
            "ticks": "",
            "zerolinecolor": "white"
           }
          },
          "shapedefaults": {
           "line": {
            "color": "#2a3f5f"
           }
          },
          "ternary": {
           "aaxis": {
            "gridcolor": "white",
            "linecolor": "white",
            "ticks": ""
           },
           "baxis": {
            "gridcolor": "white",
            "linecolor": "white",
            "ticks": ""
           },
           "bgcolor": "#E5ECF6",
           "caxis": {
            "gridcolor": "white",
            "linecolor": "white",
            "ticks": ""
           }
          },
          "title": {
           "x": 0.05
          },
          "xaxis": {
           "automargin": true,
           "gridcolor": "white",
           "linecolor": "white",
           "ticks": "",
           "title": {
            "standoff": 15
           },
           "zerolinecolor": "white",
           "zerolinewidth": 2
          },
          "yaxis": {
           "automargin": true,
           "gridcolor": "white",
           "linecolor": "white",
           "ticks": "",
           "title": {
            "standoff": 15
           },
           "zerolinecolor": "white",
           "zerolinewidth": 2
          }
         }
        },
        "title": {
         "text": "ROC Curve for Final Pseudo-Labeling Iteration"
        },
        "xaxis": {
         "anchor": "y",
         "domain": [
          0,
          1
         ],
         "title": {
          "text": "False Positive Rate"
         }
        },
        "yaxis": {
         "anchor": "x",
         "domain": [
          0,
          1
         ],
         "title": {
          "text": "True Positive Rate"
         }
        }
       }
      }
     },
     "metadata": {},
     "output_type": "display_data"
    },
    {
     "data": {
      "application/vnd.plotly.v1+json": {
       "config": {
        "plotlyServerURL": "https://plot.ly"
       },
       "data": [
        {
         "mode": "lines+markers",
         "name": "Test Accuracy",
         "type": "scatter",
         "x": [
          1120,
          1338,
          1663,
          2082,
          2544
         ],
         "y": [
          0.352,
          0.34,
          0.336,
          0.336,
          0.344
         ]
        },
        {
         "mode": "lines+markers",
         "name": "Macro F1-score",
         "type": "scatter",
         "x": [
          1120,
          1338,
          1663,
          2082,
          2544
         ],
         "y": [
          0.1849947766567165,
          0.163320754431032,
          0.15257451426622903,
          0.15323234279151288,
          0.11862207425925697
         ]
        }
       ],
       "layout": {
        "legend": {
         "title": {
          "text": "Metric"
         }
        },
        "template": {
         "data": {
          "bar": [
           {
            "error_x": {
             "color": "#2a3f5f"
            },
            "error_y": {
             "color": "#2a3f5f"
            },
            "marker": {
             "line": {
              "color": "#E5ECF6",
              "width": 0.5
             },
             "pattern": {
              "fillmode": "overlay",
              "size": 10,
              "solidity": 0.2
             }
            },
            "type": "bar"
           }
          ],
          "barpolar": [
           {
            "marker": {
             "line": {
              "color": "#E5ECF6",
              "width": 0.5
             },
             "pattern": {
              "fillmode": "overlay",
              "size": 10,
              "solidity": 0.2
             }
            },
            "type": "barpolar"
           }
          ],
          "carpet": [
           {
            "aaxis": {
             "endlinecolor": "#2a3f5f",
             "gridcolor": "white",
             "linecolor": "white",
             "minorgridcolor": "white",
             "startlinecolor": "#2a3f5f"
            },
            "baxis": {
             "endlinecolor": "#2a3f5f",
             "gridcolor": "white",
             "linecolor": "white",
             "minorgridcolor": "white",
             "startlinecolor": "#2a3f5f"
            },
            "type": "carpet"
           }
          ],
          "choropleth": [
           {
            "colorbar": {
             "outlinewidth": 0,
             "ticks": ""
            },
            "type": "choropleth"
           }
          ],
          "contour": [
           {
            "colorbar": {
             "outlinewidth": 0,
             "ticks": ""
            },
            "colorscale": [
             [
              0,
              "#0d0887"
             ],
             [
              0.1111111111111111,
              "#46039f"
             ],
             [
              0.2222222222222222,
              "#7201a8"
             ],
             [
              0.3333333333333333,
              "#9c179e"
             ],
             [
              0.4444444444444444,
              "#bd3786"
             ],
             [
              0.5555555555555556,
              "#d8576b"
             ],
             [
              0.6666666666666666,
              "#ed7953"
             ],
             [
              0.7777777777777778,
              "#fb9f3a"
             ],
             [
              0.8888888888888888,
              "#fdca26"
             ],
             [
              1,
              "#f0f921"
             ]
            ],
            "type": "contour"
           }
          ],
          "contourcarpet": [
           {
            "colorbar": {
             "outlinewidth": 0,
             "ticks": ""
            },
            "type": "contourcarpet"
           }
          ],
          "heatmap": [
           {
            "colorbar": {
             "outlinewidth": 0,
             "ticks": ""
            },
            "colorscale": [
             [
              0,
              "#0d0887"
             ],
             [
              0.1111111111111111,
              "#46039f"
             ],
             [
              0.2222222222222222,
              "#7201a8"
             ],
             [
              0.3333333333333333,
              "#9c179e"
             ],
             [
              0.4444444444444444,
              "#bd3786"
             ],
             [
              0.5555555555555556,
              "#d8576b"
             ],
             [
              0.6666666666666666,
              "#ed7953"
             ],
             [
              0.7777777777777778,
              "#fb9f3a"
             ],
             [
              0.8888888888888888,
              "#fdca26"
             ],
             [
              1,
              "#f0f921"
             ]
            ],
            "type": "heatmap"
           }
          ],
          "histogram": [
           {
            "marker": {
             "pattern": {
              "fillmode": "overlay",
              "size": 10,
              "solidity": 0.2
             }
            },
            "type": "histogram"
           }
          ],
          "histogram2d": [
           {
            "colorbar": {
             "outlinewidth": 0,
             "ticks": ""
            },
            "colorscale": [
             [
              0,
              "#0d0887"
             ],
             [
              0.1111111111111111,
              "#46039f"
             ],
             [
              0.2222222222222222,
              "#7201a8"
             ],
             [
              0.3333333333333333,
              "#9c179e"
             ],
             [
              0.4444444444444444,
              "#bd3786"
             ],
             [
              0.5555555555555556,
              "#d8576b"
             ],
             [
              0.6666666666666666,
              "#ed7953"
             ],
             [
              0.7777777777777778,
              "#fb9f3a"
             ],
             [
              0.8888888888888888,
              "#fdca26"
             ],
             [
              1,
              "#f0f921"
             ]
            ],
            "type": "histogram2d"
           }
          ],
          "histogram2dcontour": [
           {
            "colorbar": {
             "outlinewidth": 0,
             "ticks": ""
            },
            "colorscale": [
             [
              0,
              "#0d0887"
             ],
             [
              0.1111111111111111,
              "#46039f"
             ],
             [
              0.2222222222222222,
              "#7201a8"
             ],
             [
              0.3333333333333333,
              "#9c179e"
             ],
             [
              0.4444444444444444,
              "#bd3786"
             ],
             [
              0.5555555555555556,
              "#d8576b"
             ],
             [
              0.6666666666666666,
              "#ed7953"
             ],
             [
              0.7777777777777778,
              "#fb9f3a"
             ],
             [
              0.8888888888888888,
              "#fdca26"
             ],
             [
              1,
              "#f0f921"
             ]
            ],
            "type": "histogram2dcontour"
           }
          ],
          "mesh3d": [
           {
            "colorbar": {
             "outlinewidth": 0,
             "ticks": ""
            },
            "type": "mesh3d"
           }
          ],
          "parcoords": [
           {
            "line": {
             "colorbar": {
              "outlinewidth": 0,
              "ticks": ""
             }
            },
            "type": "parcoords"
           }
          ],
          "pie": [
           {
            "automargin": true,
            "type": "pie"
           }
          ],
          "scatter": [
           {
            "fillpattern": {
             "fillmode": "overlay",
             "size": 10,
             "solidity": 0.2
            },
            "type": "scatter"
           }
          ],
          "scatter3d": [
           {
            "line": {
             "colorbar": {
              "outlinewidth": 0,
              "ticks": ""
             }
            },
            "marker": {
             "colorbar": {
              "outlinewidth": 0,
              "ticks": ""
             }
            },
            "type": "scatter3d"
           }
          ],
          "scattercarpet": [
           {
            "marker": {
             "colorbar": {
              "outlinewidth": 0,
              "ticks": ""
             }
            },
            "type": "scattercarpet"
           }
          ],
          "scattergeo": [
           {
            "marker": {
             "colorbar": {
              "outlinewidth": 0,
              "ticks": ""
             }
            },
            "type": "scattergeo"
           }
          ],
          "scattergl": [
           {
            "marker": {
             "colorbar": {
              "outlinewidth": 0,
              "ticks": ""
             }
            },
            "type": "scattergl"
           }
          ],
          "scattermap": [
           {
            "marker": {
             "colorbar": {
              "outlinewidth": 0,
              "ticks": ""
             }
            },
            "type": "scattermap"
           }
          ],
          "scattermapbox": [
           {
            "marker": {
             "colorbar": {
              "outlinewidth": 0,
              "ticks": ""
             }
            },
            "type": "scattermapbox"
           }
          ],
          "scatterpolar": [
           {
            "marker": {
             "colorbar": {
              "outlinewidth": 0,
              "ticks": ""
             }
            },
            "type": "scatterpolar"
           }
          ],
          "scatterpolargl": [
           {
            "marker": {
             "colorbar": {
              "outlinewidth": 0,
              "ticks": ""
             }
            },
            "type": "scatterpolargl"
           }
          ],
          "scatterternary": [
           {
            "marker": {
             "colorbar": {
              "outlinewidth": 0,
              "ticks": ""
             }
            },
            "type": "scatterternary"
           }
          ],
          "surface": [
           {
            "colorbar": {
             "outlinewidth": 0,
             "ticks": ""
            },
            "colorscale": [
             [
              0,
              "#0d0887"
             ],
             [
              0.1111111111111111,
              "#46039f"
             ],
             [
              0.2222222222222222,
              "#7201a8"
             ],
             [
              0.3333333333333333,
              "#9c179e"
             ],
             [
              0.4444444444444444,
              "#bd3786"
             ],
             [
              0.5555555555555556,
              "#d8576b"
             ],
             [
              0.6666666666666666,
              "#ed7953"
             ],
             [
              0.7777777777777778,
              "#fb9f3a"
             ],
             [
              0.8888888888888888,
              "#fdca26"
             ],
             [
              1,
              "#f0f921"
             ]
            ],
            "type": "surface"
           }
          ],
          "table": [
           {
            "cells": {
             "fill": {
              "color": "#EBF0F8"
             },
             "line": {
              "color": "white"
             }
            },
            "header": {
             "fill": {
              "color": "#C8D4E3"
             },
             "line": {
              "color": "white"
             }
            },
            "type": "table"
           }
          ]
         },
         "layout": {
          "annotationdefaults": {
           "arrowcolor": "#2a3f5f",
           "arrowhead": 0,
           "arrowwidth": 1
          },
          "autotypenumbers": "strict",
          "coloraxis": {
           "colorbar": {
            "outlinewidth": 0,
            "ticks": ""
           }
          },
          "colorscale": {
           "diverging": [
            [
             0,
             "#8e0152"
            ],
            [
             0.1,
             "#c51b7d"
            ],
            [
             0.2,
             "#de77ae"
            ],
            [
             0.3,
             "#f1b6da"
            ],
            [
             0.4,
             "#fde0ef"
            ],
            [
             0.5,
             "#f7f7f7"
            ],
            [
             0.6,
             "#e6f5d0"
            ],
            [
             0.7,
             "#b8e186"
            ],
            [
             0.8,
             "#7fbc41"
            ],
            [
             0.9,
             "#4d9221"
            ],
            [
             1,
             "#276419"
            ]
           ],
           "sequential": [
            [
             0,
             "#0d0887"
            ],
            [
             0.1111111111111111,
             "#46039f"
            ],
            [
             0.2222222222222222,
             "#7201a8"
            ],
            [
             0.3333333333333333,
             "#9c179e"
            ],
            [
             0.4444444444444444,
             "#bd3786"
            ],
            [
             0.5555555555555556,
             "#d8576b"
            ],
            [
             0.6666666666666666,
             "#ed7953"
            ],
            [
             0.7777777777777778,
             "#fb9f3a"
            ],
            [
             0.8888888888888888,
             "#fdca26"
            ],
            [
             1,
             "#f0f921"
            ]
           ],
           "sequentialminus": [
            [
             0,
             "#0d0887"
            ],
            [
             0.1111111111111111,
             "#46039f"
            ],
            [
             0.2222222222222222,
             "#7201a8"
            ],
            [
             0.3333333333333333,
             "#9c179e"
            ],
            [
             0.4444444444444444,
             "#bd3786"
            ],
            [
             0.5555555555555556,
             "#d8576b"
            ],
            [
             0.6666666666666666,
             "#ed7953"
            ],
            [
             0.7777777777777778,
             "#fb9f3a"
            ],
            [
             0.8888888888888888,
             "#fdca26"
            ],
            [
             1,
             "#f0f921"
            ]
           ]
          },
          "colorway": [
           "#636efa",
           "#EF553B",
           "#00cc96",
           "#ab63fa",
           "#FFA15A",
           "#19d3f3",
           "#FF6692",
           "#B6E880",
           "#FF97FF",
           "#FECB52"
          ],
          "font": {
           "color": "#2a3f5f"
          },
          "geo": {
           "bgcolor": "white",
           "lakecolor": "white",
           "landcolor": "#E5ECF6",
           "showlakes": true,
           "showland": true,
           "subunitcolor": "white"
          },
          "hoverlabel": {
           "align": "left"
          },
          "hovermode": "closest",
          "mapbox": {
           "style": "light"
          },
          "paper_bgcolor": "white",
          "plot_bgcolor": "#E5ECF6",
          "polar": {
           "angularaxis": {
            "gridcolor": "white",
            "linecolor": "white",
            "ticks": ""
           },
           "bgcolor": "#E5ECF6",
           "radialaxis": {
            "gridcolor": "white",
            "linecolor": "white",
            "ticks": ""
           }
          },
          "scene": {
           "xaxis": {
            "backgroundcolor": "#E5ECF6",
            "gridcolor": "white",
            "gridwidth": 2,
            "linecolor": "white",
            "showbackground": true,
            "ticks": "",
            "zerolinecolor": "white"
           },
           "yaxis": {
            "backgroundcolor": "#E5ECF6",
            "gridcolor": "white",
            "gridwidth": 2,
            "linecolor": "white",
            "showbackground": true,
            "ticks": "",
            "zerolinecolor": "white"
           },
           "zaxis": {
            "backgroundcolor": "#E5ECF6",
            "gridcolor": "white",
            "gridwidth": 2,
            "linecolor": "white",
            "showbackground": true,
            "ticks": "",
            "zerolinecolor": "white"
           }
          },
          "shapedefaults": {
           "line": {
            "color": "#2a3f5f"
           }
          },
          "ternary": {
           "aaxis": {
            "gridcolor": "white",
            "linecolor": "white",
            "ticks": ""
           },
           "baxis": {
            "gridcolor": "white",
            "linecolor": "white",
            "ticks": ""
           },
           "bgcolor": "#E5ECF6",
           "caxis": {
            "gridcolor": "white",
            "linecolor": "white",
            "ticks": ""
           }
          },
          "title": {
           "x": 0.05
          },
          "xaxis": {
           "automargin": true,
           "gridcolor": "white",
           "linecolor": "white",
           "ticks": "",
           "title": {
            "standoff": 15
           },
           "zerolinecolor": "white",
           "zerolinewidth": 2
          },
          "yaxis": {
           "automargin": true,
           "gridcolor": "white",
           "linecolor": "white",
           "ticks": "",
           "title": {
            "standoff": 15
           },
           "zerolinecolor": "white",
           "zerolinewidth": 2
          }
         }
        },
        "title": {
         "text": "Learning Curve During Pseudo-Labeling"
        },
        "xaxis": {
         "title": {
          "text": "Number of Labeled Samples"
         }
        },
        "yaxis": {
         "title": {
          "text": "Score"
         }
        }
       }
      }
     },
     "metadata": {},
     "output_type": "display_data"
    }
   ],
   "source": [
    "X_train, X_val, y_train, y_val = train_test_split(\n",
    "    labeled_embeddings_transformer,  labeled_data['review_score'], test_size=0.2, random_state=42\n",
    ")\n",
    "\n",
    "le = LabelEncoder()\n",
    "y_train_enc = le.fit_transform(y_train)\n",
    "y_val_enc = le.transform(y_val)\n",
    "\n",
    "final_model = pseudo_labeling(\n",
    "    X_labeled=X_train, \n",
    "    y_labeled=y_train_enc, \n",
    "    X_unlabeled=unlabeled_embeddings_transformer, \n",
    "    X_test=X_val, \n",
    "    y_test=y_val_enc,\n",
    "    confidence_threshold=0.97,\n",
    "    max_iterations=5\n",
    ")\n"
   ]
  },
  {
   "cell_type": "code",
   "execution_count": 65,
   "id": "36e2e522",
   "metadata": {},
   "outputs": [
    {
     "name": "stdout",
     "output_type": "stream",
     "text": [
      "\n",
      "Round 1:\n",
      "Accuracy: 0.316, F1-score: 0.082, Training size: 1000\n",
      "Select labels for these 1 samples:\n",
      "Sample 1: Text: Outstanding. It's the only way to describe the first work of the Spanish workgroup Akaoni Studios. They wanted to create a shooter involved with the classical gameplay-style of the genre and they've done it. It's probably the most beautiful game on the WiiWare - it's a pity that its lifespan it's just a couple of hours. Add a few days if you play it with a friend, but without any online options, there's not much to do after completing the game with very character., Current label: 9\n",
      "\n",
      "Round 2:\n",
      "Accuracy: 0.317, F1-score: 0.082, Training size: 1001\n",
      "Select labels for these 1 samples:\n",
      "Sample 1: Text: This third game in the snowboarding series features a complete overhaul, dropping the whole race-circuit idea and taking a more open-ended, Grand Theft Auto–like approach to snowboard competition. [Grade = A+], Current label: 4\n",
      "\n",
      "Round 3:\n",
      "Accuracy: 0.323, F1-score: 0.083, Training size: 1002\n",
      "Select labels for these 1 samples:\n",
      "Sample 1: Text: Boyfriend Dungeon is not only the weirdest game in the love simulation genre, but also the most mature. While the experience is linear and doesn’t provide any real challenge, the concept of spending the summer with a human partner who can transform into a weapon works. The unique atmosphere is worth a try regardless of your gender or sexuality., Current label: 6\n",
      "\n",
      "Round 4:\n",
      "Accuracy: 0.324, F1-score: 0.084, Training size: 1003\n",
      "Select labels for these 1 samples:\n",
      "Sample 1: Text: Rainbow Skies is not only uninspired, it feels almost like a cheap nostalgia cash-in for JRPG enthusiasts. The characters are generally annoying and mostly one-dimensional, and the writing is quite poor and riddled with syntax issues. The explorative nature of the game is something that players might be drawn to, but that's not enough to carry the significantly weaker portions of the game. The combat system is sort of cute in its simplicity, but it's not unique enough to keep players invested throughout all the annoying little quirks that fill up the majority of Rainbow Skies, Current label: 5\n",
      "\n",
      "Round 5:\n",
      "Accuracy: 0.329, F1-score: 0.088, Training size: 1004\n",
      "Select labels for these 1 samples:\n",
      "Sample 1: Text: You shouldn&#146;t need double-jointed thumbs nor the kind of patience required to endure its faults. As it is, I can only recommend Mafia to those that for one reason or another cannot play the game on the PC. It isn&#146;t a bad game, it&#146;s just not all that it could be., Current label: 7\n"
     ]
    },
    {
     "data": {
      "image/png": "[encoded data removed]",
      "text/plain": [
       "<Figure size 800x500 with 1 Axes>"
      ]
     },
     "metadata": {},
     "output_type": "display_data"
    },
    {
     "data": {
      "image/png": "[encoded data removed]",
      "text/plain": [
       "<Figure size 800x600 with 1 Axes>"
      ]
     },
     "metadata": {},
     "output_type": "display_data"
    }
   ],
   "source": [
    "X = labeled_embeddings_transformer.to_numpy() if hasattr(labeled_embeddings_transformer, \"to_numpy\") else labeled_embeddings_transformer\n",
    "y = labeled_data['review_score'].to_numpy() if hasattr(labeled_data['review_score'], \"to_numpy\") else labeled_data['review_score']\n",
    "\n",
    "X_train, X_test, y_train, y_test = train_test_split(X, y, test_size=0.2, random_state=42)\n",
    "\n",
    "def least_confidence(probs):\n",
    "    return 1 - np.max(probs, axis=1)\n",
    "\n",
    "def margin_sampling(probs):\n",
    "    part = np.sort(probs, axis=1)[:, -2:]\n",
    "    return part[:, 1] - part[:, 0]\n",
    "\n",
    "def entropy_sampling(probs):\n",
    "    return entropy(probs.T)\n",
    "\n",
    "model = LogisticRegression(max_iter=2000)\n",
    "model.fit(X_train, y_train)\n",
    "\n",
    "performance = []\n",
    "f1_scores = []\n",
    "rounds = 5\n",
    "k = 1\n",
    "\n",
    "for r in range(rounds):\n",
    "    print(f\"\\nRound {r+1}:\")\n",
    "\n",
    "    acc = model.score(X_test, y_test)\n",
    "    y_pred = model.predict(X_test)\n",
    "    f1 = f1_score(y_test, y_pred, average='macro')\n",
    "\n",
    "    performance.append(acc)\n",
    "    f1_scores.append(f1)\n",
    "\n",
    "    print(f\"Accuracy: {acc:.3f}, F1-score: {f1:.3f}, Training size: {len(y_train)}\")\n",
    "\n",
    "    probs = model.predict_proba(X_test)\n",
    "    uncertainty_scores = entropy_sampling(probs)\n",
    "    query_idx = np.argsort(uncertainty_scores)[-k:]\n",
    "\n",
    "    print(f\"Select labels for these {k} samples:\")\n",
    "    X_new, y_new = X_test[query_idx], y_test[query_idx]\n",
    "\n",
    "    for i in range(k):\n",
    "        comment_text = unlabeled_data.iloc[query_idx[i]]['review_text']\n",
    "        print(f\"Sample {i+1}: Text: {comment_text}, Current label: {y_new[i]}\")\n",
    "        label = int(input(f\"Enter the label for this sample (current label is {y_new[i]}): \"))\n",
    "        y_new[i] = label\n",
    "\n",
    "    X_train = np.vstack([X_train, X_new])\n",
    "    y_train = np.concatenate([y_train, y_new])\n",
    "\n",
    "    mask = np.ones(len(X_test), dtype=bool)\n",
    "    mask[query_idx] = False\n",
    "    X_test, y_test = X_test[mask], y_test[mask]\n",
    "\n",
    "    model.fit(X_train, y_train)\n",
    "\n",
    "plt.figure(figsize=(8, 5))\n",
    "plt.plot(range(1, rounds+1), performance, marker='o', label='Accuracy')\n",
    "plt.plot(range(1, rounds+1), f1_scores, marker='s', linestyle='--', label='F1-score')\n",
    "plt.xlabel(\"Active Learning Round\")\n",
    "plt.ylabel(\"Score\")\n",
    "plt.title(\"Active Learning Performance Curve\")\n",
    "plt.legend()\n",
    "plt.grid(True)\n",
    "plt.show()\n",
    "\n",
    "y_test_bin = label_binarize(y_test, classes=np.unique(y))\n",
    "probs_final = model.predict_proba(X_test)\n",
    "\n",
    "plt.figure(figsize=(8, 6))\n",
    "for i in range(y_test_bin.shape[1]):\n",
    "    fpr, tpr, _ = roc_curve(y_test_bin[:, i], probs_final[:, i])\n",
    "    roc_auc = auc(fpr, tpr)\n",
    "    plt.plot(fpr, tpr, label=f\"Class {i} (AUC = {roc_auc:.2f})\")\n",
    "\n",
    "plt.plot([0, 1], [0, 1], 'k--', label='Chance')\n",
    "plt.xlabel(\"False Positive Rate\")\n",
    "plt.ylabel(\"True Positive Rate\")\n",
    "plt.title(\"ROC Curve for Final Model\")\n",
    "plt.legend()\n",
    "plt.grid(True)\n",
    "plt.show()"
   ]
  },
  {
   "cell_type": "markdown",
   "id": "31a59743",
   "metadata": {},
   "source": [
    "## Effectiveness Comparison\n",
    "\n",
    "### **Pseudo-Labeling**\n",
    "- **Mechanism**: Trains a model on labeled data, then uses it to assign labels to unlabeled data. High-confidence predictions are added back to the training set.\n",
    "- **Performance**: Often yields **steady improvements**, especially when the model is already reasonably accurate. It benefits from the abundance of unlabeled data.\n",
    "- **Risk**: If the model is wrong early on, it may reinforce its own mistakes—this is known as **confirmation bias**.\n",
    "\n",
    "### **Active Learning**\n",
    "- **Mechanism**: Selects the most informative or uncertain samples from the unlabeled pool and queries a human annotator for labels.\n",
    "- **Performance**: Can lead to **sharp improvements** in fewer rounds, especially when labeling budget is tight. It’s highly efficient in terms of label value.\n",
    "- **Risk**: Requires human input, which can be **costly and slow**, especially for large datasets or complex tasks.\n",
    "\n",
    "---\n",
    "\n",
    "## Which Method Yields Greater Improvement?\n",
    "\n",
    "It depends on the context:\n",
    "\n",
    "| Scenario | Preferred Method | Why |\n",
    "|---------|------------------|-----|\n",
    "| **Small labeled set, large unlabeled pool** | Pseudo-Labeling | Leverages scale and model confidence |\n",
    "| **High annotation cost or expert labeling needed** | Active Learning | Minimizes labeling effort by focusing on uncertain samples |\n",
    "| **Early-stage model with low accuracy** | Active Learning | Avoids reinforcing errors from weak pseudo-labels |\n",
    "| **Well-performing base model** | Pseudo-Labeling | Can safely expand training set with confident predictions |\n",
    "\n",
    "In practice, **hybrid approaches** that combine both methods often outperform either alone.\n",
    "\n",
    "---\n",
    "\n",
    "## Trade-offs and Pitfalls\n",
    "\n",
    "### Pseudo-Labeling\n",
    "- **Pros**:\n",
    "  - Scales easily with large unlabeled datasets\n",
    "  - No human intervention needed after initial labeling\n",
    "- **Cons**:\n",
    "  - Confirmation bias: model may reinforce its own errors\n",
    "  - Sensitive to confidence thresholds\n",
    "  - May struggle with class imbalance or noisy data\n",
    "\n",
    "### Active Learning\n",
    "- **Pros**:\n",
    "  - Efficient use of labeling budget\n",
    "  - Focuses on most informative samples\n",
    "- **Cons**:\n",
    "  - Requires human annotators\n",
    "  - Slower iteration cycles\n",
    "  - May miss out on useful unlabeled data not selected"
   ]
  }
 ],
 "metadata": {
  "kernelspec": {
   "display_name": "Python 3",
   "language": "python",
   "name": "python3"
  },
  "language_info": {
   "codemirror_mode": {
    "name": "ipython",
    "version": 3
   },
   "file_extension": ".py",
   "mimetype": "text/x-python",
   "name": "python",
   "nbconvert_exporter": "python",
   "pygments_lexer": "ipython3",
   "version": "3.9.12"
  }
 },
 "nbformat": 4,
 "nbformat_minor": 5
}
