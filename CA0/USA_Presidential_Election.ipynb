{
 "cells": [
  {
   "cell_type": "markdown",
   "metadata": {},
   "source": [
    "# Predicting the Outcome of the 2016 USA Presidential Election"
   ]
  },
  {
   "cell_type": "markdown",
   "metadata": {},
   "source": [
    "## Import Libraries"
   ]
  },
  {
   "cell_type": "code",
   "execution_count": 58,
   "metadata": {},
   "outputs": [],
   "source": [
    "import pandas as pd\n",
    "import numpy as np\n",
    "import matplotlib.pyplot as plt\n",
    "import math\n",
    "import seaborn as sns\n",
    "from datetime import datetime\n",
    "from scipy.interpolate import make_interp_spline\n",
    "import warnings\n",
    "import scipy.stats as stats\n",
    "\n",
    "sns.set_style(\"whitegrid\")\n",
    "sns.set_palette(\"pastel\")\n",
    "warnings.filterwarnings(\"ignore\")"
   ]
  },
  {
   "cell_type": "markdown",
   "metadata": {},
   "source": [
    "## Data"
   ]
  },
  {
   "cell_type": "code",
   "execution_count": 59,
   "metadata": {},
   "outputs": [],
   "source": [
    "df = pd.read_csv('2016-general-election-trump-vs-clinton.csv')"
   ]
  },
  {
   "cell_type": "code",
   "execution_count": 60,
   "metadata": {},
   "outputs": [
    {
     "data": {
      "text/html": [
       "<div>\n",
       "<style scoped>\n",
       "    .dataframe tbody tr th:only-of-type {\n",
       "        vertical-align: middle;\n",
       "    }\n",
       "\n",
       "    .dataframe tbody tr th {\n",
       "        vertical-align: top;\n",
       "    }\n",
       "\n",
       "    .dataframe thead th {\n",
       "        text-align: right;\n",
       "    }\n",
       "</style>\n",
       "<table border=\"1\" class=\"dataframe\">\n",
       "  <thead>\n",
       "    <tr style=\"text-align: right;\">\n",
       "      <th></th>\n",
       "      <th>Pollster</th>\n",
       "      <th>Start Date</th>\n",
       "      <th>End Date</th>\n",
       "      <th>Entry Date/Time (ET)</th>\n",
       "      <th>Number of Observations</th>\n",
       "      <th>Population</th>\n",
       "      <th>Mode</th>\n",
       "      <th>Trump</th>\n",
       "      <th>Clinton</th>\n",
       "      <th>Other</th>\n",
       "      <th>Undecided</th>\n",
       "      <th>Pollster URL</th>\n",
       "      <th>Source URL</th>\n",
       "      <th>Partisan</th>\n",
       "      <th>Affiliation</th>\n",
       "      <th>Question Text</th>\n",
       "      <th>Question Iteration</th>\n",
       "    </tr>\n",
       "  </thead>\n",
       "  <tbody>\n",
       "    <tr>\n",
       "      <th>0</th>\n",
       "      <td>Insights West</td>\n",
       "      <td>2016-11-04</td>\n",
       "      <td>2016-11-07</td>\n",
       "      <td>2016-11-08T12:16:30Z</td>\n",
       "      <td>940.0</td>\n",
       "      <td>Likely Voters</td>\n",
       "      <td>Internet</td>\n",
       "      <td>41.0</td>\n",
       "      <td>45.0</td>\n",
       "      <td>2.0</td>\n",
       "      <td>8.0</td>\n",
       "      <td>http://elections.huffingtonpost.com/pollster/p...</td>\n",
       "      <td>http://www.insightswest.com/news/clinton-is-ah...</td>\n",
       "      <td>Nonpartisan</td>\n",
       "      <td>NaN</td>\n",
       "      <td>As you may know, there will be a presidential ...</td>\n",
       "      <td>1</td>\n",
       "    </tr>\n",
       "    <tr>\n",
       "      <th>1</th>\n",
       "      <td>Insights West</td>\n",
       "      <td>2016-11-04</td>\n",
       "      <td>2016-11-07</td>\n",
       "      <td>2016-11-08T12:16:30Z</td>\n",
       "      <td>NaN</td>\n",
       "      <td>Likely Voters - Democrat</td>\n",
       "      <td>Internet</td>\n",
       "      <td>6.0</td>\n",
       "      <td>89.0</td>\n",
       "      <td>0.0</td>\n",
       "      <td>4.0</td>\n",
       "      <td>http://elections.huffingtonpost.com/pollster/p...</td>\n",
       "      <td>http://www.insightswest.com/news/clinton-is-ah...</td>\n",
       "      <td>Nonpartisan</td>\n",
       "      <td>NaN</td>\n",
       "      <td>As you may know, there will be a presidential ...</td>\n",
       "      <td>1</td>\n",
       "    </tr>\n",
       "    <tr>\n",
       "      <th>2</th>\n",
       "      <td>Insights West</td>\n",
       "      <td>2016-11-04</td>\n",
       "      <td>2016-11-07</td>\n",
       "      <td>2016-11-08T12:16:30Z</td>\n",
       "      <td>NaN</td>\n",
       "      <td>Likely Voters - Republican</td>\n",
       "      <td>Internet</td>\n",
       "      <td>82.0</td>\n",
       "      <td>7.0</td>\n",
       "      <td>2.0</td>\n",
       "      <td>6.0</td>\n",
       "      <td>http://elections.huffingtonpost.com/pollster/p...</td>\n",
       "      <td>http://www.insightswest.com/news/clinton-is-ah...</td>\n",
       "      <td>Nonpartisan</td>\n",
       "      <td>NaN</td>\n",
       "      <td>As you may know, there will be a presidential ...</td>\n",
       "      <td>1</td>\n",
       "    </tr>\n",
       "    <tr>\n",
       "      <th>3</th>\n",
       "      <td>Insights West</td>\n",
       "      <td>2016-11-04</td>\n",
       "      <td>2016-11-07</td>\n",
       "      <td>2016-11-08T12:16:30Z</td>\n",
       "      <td>NaN</td>\n",
       "      <td>Likely Voters - independent</td>\n",
       "      <td>Internet</td>\n",
       "      <td>38.0</td>\n",
       "      <td>43.0</td>\n",
       "      <td>4.0</td>\n",
       "      <td>7.0</td>\n",
       "      <td>http://elections.huffingtonpost.com/pollster/p...</td>\n",
       "      <td>http://www.insightswest.com/news/clinton-is-ah...</td>\n",
       "      <td>Nonpartisan</td>\n",
       "      <td>NaN</td>\n",
       "      <td>As you may know, there will be a presidential ...</td>\n",
       "      <td>1</td>\n",
       "    </tr>\n",
       "    <tr>\n",
       "      <th>4</th>\n",
       "      <td>IBD/TIPP</td>\n",
       "      <td>2016-11-04</td>\n",
       "      <td>2016-11-07</td>\n",
       "      <td>2016-11-08T12:10:06Z</td>\n",
       "      <td>1107.0</td>\n",
       "      <td>Likely Voters</td>\n",
       "      <td>Live Phone</td>\n",
       "      <td>43.0</td>\n",
       "      <td>41.0</td>\n",
       "      <td>4.0</td>\n",
       "      <td>5.0</td>\n",
       "      <td>http://elections.huffingtonpost.com/pollster/p...</td>\n",
       "      <td>http://www.investors.com/politics/ibd-tipp-pre...</td>\n",
       "      <td>Nonpartisan</td>\n",
       "      <td>NaN</td>\n",
       "      <td>NaN</td>\n",
       "      <td>1</td>\n",
       "    </tr>\n",
       "  </tbody>\n",
       "</table>\n",
       "</div>"
      ],
      "text/plain": [
       "        Pollster  Start Date    End Date  Entry Date/Time (ET)  \\\n",
       "0  Insights West  2016-11-04  2016-11-07  2016-11-08T12:16:30Z   \n",
       "1  Insights West  2016-11-04  2016-11-07  2016-11-08T12:16:30Z   \n",
       "2  Insights West  2016-11-04  2016-11-07  2016-11-08T12:16:30Z   \n",
       "3  Insights West  2016-11-04  2016-11-07  2016-11-08T12:16:30Z   \n",
       "4       IBD/TIPP  2016-11-04  2016-11-07  2016-11-08T12:10:06Z   \n",
       "\n",
       "   Number of Observations                   Population        Mode  Trump  \\\n",
       "0                   940.0                Likely Voters    Internet   41.0   \n",
       "1                     NaN     Likely Voters - Democrat    Internet    6.0   \n",
       "2                     NaN   Likely Voters - Republican    Internet   82.0   \n",
       "3                     NaN  Likely Voters - independent    Internet   38.0   \n",
       "4                  1107.0                Likely Voters  Live Phone   43.0   \n",
       "\n",
       "   Clinton  Other  Undecided  \\\n",
       "0     45.0    2.0        8.0   \n",
       "1     89.0    0.0        4.0   \n",
       "2      7.0    2.0        6.0   \n",
       "3     43.0    4.0        7.0   \n",
       "4     41.0    4.0        5.0   \n",
       "\n",
       "                                        Pollster URL  \\\n",
       "0  http://elections.huffingtonpost.com/pollster/p...   \n",
       "1  http://elections.huffingtonpost.com/pollster/p...   \n",
       "2  http://elections.huffingtonpost.com/pollster/p...   \n",
       "3  http://elections.huffingtonpost.com/pollster/p...   \n",
       "4  http://elections.huffingtonpost.com/pollster/p...   \n",
       "\n",
       "                                          Source URL     Partisan Affiliation  \\\n",
       "0  http://www.insightswest.com/news/clinton-is-ah...  Nonpartisan         NaN   \n",
       "1  http://www.insightswest.com/news/clinton-is-ah...  Nonpartisan         NaN   \n",
       "2  http://www.insightswest.com/news/clinton-is-ah...  Nonpartisan         NaN   \n",
       "3  http://www.insightswest.com/news/clinton-is-ah...  Nonpartisan         NaN   \n",
       "4  http://www.investors.com/politics/ibd-tipp-pre...  Nonpartisan         NaN   \n",
       "\n",
       "                                       Question Text  Question Iteration  \n",
       "0  As you may know, there will be a presidential ...                   1  \n",
       "1  As you may know, there will be a presidential ...                   1  \n",
       "2  As you may know, there will be a presidential ...                   1  \n",
       "3  As you may know, there will be a presidential ...                   1  \n",
       "4                                                NaN                   1  "
      ]
     },
     "execution_count": 60,
     "metadata": {},
     "output_type": "execute_result"
    }
   ],
   "source": [
    "df.head()"
   ]
  },
  {
   "cell_type": "markdown",
   "metadata": {},
   "source": [
    "### Initial Observations from data"
   ]
  },
  {
   "cell_type": "code",
   "execution_count": 61,
   "metadata": {},
   "outputs": [
    {
     "data": {
      "text/plain": [
       "1522"
      ]
     },
     "execution_count": 61,
     "metadata": {},
     "output_type": "execute_result"
    }
   ],
   "source": [
    "len(df)"
   ]
  },
  {
   "cell_type": "code",
   "execution_count": 62,
   "metadata": {},
   "outputs": [
    {
     "data": {
      "text/plain": [
       "Index(['Pollster', 'Start Date', 'End Date', 'Entry Date/Time (ET)',\n",
       "       'Number of Observations', 'Population', 'Mode', 'Trump', 'Clinton',\n",
       "       'Other', 'Undecided', 'Pollster URL', 'Source URL', 'Partisan',\n",
       "       'Affiliation', 'Question Text', 'Question Iteration'],\n",
       "      dtype='object')"
      ]
     },
     "execution_count": 62,
     "metadata": {},
     "output_type": "execute_result"
    }
   ],
   "source": [
    "df.columns"
   ]
  },
  {
   "cell_type": "code",
   "execution_count": 63,
   "metadata": {},
   "outputs": [
    {
     "data": {
      "text/plain": [
       "Pollster                     0\n",
       "Start Date                   0\n",
       "End Date                     0\n",
       "Entry Date/Time (ET)         0\n",
       "Number of Observations     509\n",
       "Population                   0\n",
       "Mode                         0\n",
       "Trump                        0\n",
       "Clinton                      0\n",
       "Other                      424\n",
       "Undecided                   62\n",
       "Pollster URL                 0\n",
       "Source URL                   0\n",
       "Partisan                     0\n",
       "Affiliation               1434\n",
       "Question Text              861\n",
       "Question Iteration           0\n",
       "dtype: int64"
      ]
     },
     "execution_count": 63,
     "metadata": {},
     "output_type": "execute_result"
    }
   ],
   "source": [
    "df.isna().sum()"
   ]
  },
  {
   "cell_type": "code",
   "execution_count": 64,
   "metadata": {},
   "outputs": [
    {
     "data": {
      "text/plain": [
       "Pollster                   object\n",
       "Start Date                 object\n",
       "End Date                   object\n",
       "Entry Date/Time (ET)       object\n",
       "Number of Observations    float64\n",
       "Population                 object\n",
       "Mode                       object\n",
       "Trump                     float64\n",
       "Clinton                   float64\n",
       "Other                     float64\n",
       "Undecided                 float64\n",
       "Pollster URL               object\n",
       "Source URL                 object\n",
       "Partisan                   object\n",
       "Affiliation                object\n",
       "Question Text              object\n",
       "Question Iteration          int64\n",
       "dtype: object"
      ]
     },
     "execution_count": 64,
     "metadata": {},
     "output_type": "execute_result"
    }
   ],
   "source": [
    "df.dtypes"
   ]
  },
  {
   "cell_type": "markdown",
   "metadata": {},
   "source": [
    "## Exclusions"
   ]
  },
  {
   "cell_type": "markdown",
   "metadata": {},
   "source": [
    "### Filtering Out Rows with NaN in \"Number of Observations\""
   ]
  },
  {
   "cell_type": "code",
   "execution_count": 65,
   "metadata": {},
   "outputs": [],
   "source": [
    "df = df.dropna(subset=['Number of Observations'])"
   ]
  },
  {
   "cell_type": "markdown",
   "metadata": {},
   "source": [
    "### Filtering Out Subgroups"
   ]
  },
  {
   "cell_type": "code",
   "execution_count": 66,
   "metadata": {},
   "outputs": [
    {
     "name": "stdout",
     "output_type": "stream",
     "text": [
      "Number of unique values: 3\n",
      "Counts of each unique value:\n",
      "Affiliation\n",
      "Dem      24\n",
      "Rep      18\n",
      "Other     2\n",
      "Name: count, dtype: int64\n"
     ]
    }
   ],
   "source": [
    "unique_count = df['Affiliation'].nunique()\n",
    "\n",
    "value_counts = df['Affiliation'].value_counts()\n",
    "\n",
    "print(f\"Number of unique values: {unique_count}\")\n",
    "\n",
    "print(\"Counts of each unique value:\")\n",
    "print(value_counts)\n"
   ]
  },
  {
   "cell_type": "code",
   "execution_count": 67,
   "metadata": {},
   "outputs": [],
   "source": [
    "df = df[df['Affiliation'].isna()]"
   ]
  },
  {
   "cell_type": "code",
   "execution_count": 68,
   "metadata": {},
   "outputs": [
    {
     "data": {
      "text/plain": [
       "969"
      ]
     },
     "execution_count": 68,
     "metadata": {},
     "output_type": "execute_result"
    }
   ],
   "source": [
    "len(df)"
   ]
  },
  {
   "cell_type": "markdown",
   "metadata": {},
   "source": [
    "## 1: Derive and Compute the 95% Confidence Interval for $p$"
   ]
  },
  {
   "cell_type": "code",
   "execution_count": 69,
   "metadata": {},
   "outputs": [
    {
     "name": "stdout",
     "output_type": "stream",
     "text": [
      "Number of Democratic support: 50279\n",
      "Number of Republican support: 49721\n",
      "Democratic winning probability: 0.503\n",
      "Standard error of voter support: 0.001581110369329099\n",
      "95 % confidence interval: [0.5, 0.506] \n"
     ]
    }
   ],
   "source": [
    "N = 100000  # Number of voters\n",
    "voter_support = np.random.choice([0, 1], size=N)\n",
    "\n",
    "democratic_support = np.sum(voter_support)\n",
    "republican_support = len(voter_support) - democratic_support\n",
    "\n",
    "democratic_support_probability = (democratic_support / N).round(3)\n",
    "\n",
    "standard_error = np.sqrt( (democratic_support_probability*(1-democratic_support_probability)) / N)\n",
    "\n",
    "z_score = 1.96\n",
    "\n",
    "result = [ float((democratic_support_probability - (z_score*standard_error)).round(3)), float((democratic_support_probability + (z_score*standard_error)).round(3))]\n",
    "\n",
    "print(f\"Number of Democratic support: {democratic_support}\")\n",
    "print(f\"Number of Republican support: {republican_support}\")\n",
    "print(f\"Democratic winning probability: {democratic_support_probability}\")\n",
    "print(f\"Standard error of voter support: {standard_error}\")\n",
    "print(f\"95 % confidence interval: {result} \")\n"
   ]
  },
  {
   "cell_type": "markdown",
   "metadata": {},
   "source": [
    "## 2: Monte Carlo Simulation for Confidence Interval"
   ]
  },
  {
   "cell_type": "code",
   "execution_count": null,
   "metadata": {},
   "outputs": [
    {
     "name": "stdout",
     "output_type": "stream",
     "text": [
      "Proportion of CIs capturing the true p: 0.93\n"
     ]
    }
   ],
   "source": [
    "def simulate_confidence_intervals(p, N, num_iterations):\n",
    "    np.random.seed(42)\n",
    "    z_score = 1.96\n",
    "    count_capture_p = 0\n",
    "\n",
    "    for _ in range(num_iterations):\n",
    "        voters = np.random.binomial(1, p, N)\n",
    "\n",
    "        p_hat = np.mean(voters)\n",
    "\n",
    "        se = np.sqrt(p_hat * (1 - p_hat) / N)\n",
    "        \n",
    "        me = z_score * se\n",
    "        \n",
    "        ci_lower = p_hat - me\n",
    "        ci_upper = p_hat + me\n",
    "\n",
    "        if ci_lower <= p <= ci_upper:\n",
    "            count_capture_p += 1\n",
    "\n",
    "    capture_proportion = count_capture_p / num_iterations\n",
    "    return capture_proportion\n",
    "\n",
    "p = 0.47\n",
    "N = 30\n",
    "num_iterations = 100000\n",
    "\n",
    "capture_proportion = simulate_confidence_intervals(p, N, num_iterations)\n",
    "print(f\"Proportion of CIs capturing the true p: {capture_proportion:.2f}\")"
   ]
  },
  {
   "cell_type": "markdown",
   "metadata": {},
   "source": [
    "##  3: Load and Clean the Dataset"
   ]
  },
  {
   "cell_type": "code",
   "execution_count": 71,
   "metadata": {},
   "outputs": [],
   "source": [
    "df = df[['Trump', 'Clinton', 'Pollster', 'Start Date', 'Number of Observations', 'Mode']]"
   ]
  },
  {
   "cell_type": "code",
   "execution_count": 72,
   "metadata": {},
   "outputs": [
    {
     "data": {
      "text/html": [
       "<div>\n",
       "<style scoped>\n",
       "    .dataframe tbody tr th:only-of-type {\n",
       "        vertical-align: middle;\n",
       "    }\n",
       "\n",
       "    .dataframe tbody tr th {\n",
       "        vertical-align: top;\n",
       "    }\n",
       "\n",
       "    .dataframe thead th {\n",
       "        text-align: right;\n",
       "    }\n",
       "</style>\n",
       "<table border=\"1\" class=\"dataframe\">\n",
       "  <thead>\n",
       "    <tr style=\"text-align: right;\">\n",
       "      <th></th>\n",
       "      <th>Trump</th>\n",
       "      <th>Clinton</th>\n",
       "      <th>Pollster</th>\n",
       "      <th>Start Date</th>\n",
       "      <th>Number of Observations</th>\n",
       "      <th>Mode</th>\n",
       "    </tr>\n",
       "  </thead>\n",
       "  <tbody>\n",
       "    <tr>\n",
       "      <th>0</th>\n",
       "      <td>41.0</td>\n",
       "      <td>45.0</td>\n",
       "      <td>Insights West</td>\n",
       "      <td>2016-11-04</td>\n",
       "      <td>940.0</td>\n",
       "      <td>Internet</td>\n",
       "    </tr>\n",
       "    <tr>\n",
       "      <th>4</th>\n",
       "      <td>43.0</td>\n",
       "      <td>41.0</td>\n",
       "      <td>IBD/TIPP</td>\n",
       "      <td>2016-11-04</td>\n",
       "      <td>1107.0</td>\n",
       "      <td>Live Phone</td>\n",
       "    </tr>\n",
       "    <tr>\n",
       "      <th>5</th>\n",
       "      <td>41.0</td>\n",
       "      <td>45.0</td>\n",
       "      <td>YouGov/Economist</td>\n",
       "      <td>2016-11-04</td>\n",
       "      <td>3669.0</td>\n",
       "      <td>Internet</td>\n",
       "    </tr>\n",
       "    <tr>\n",
       "      <th>6</th>\n",
       "      <td>6.0</td>\n",
       "      <td>90.0</td>\n",
       "      <td>YouGov/Economist</td>\n",
       "      <td>2016-11-04</td>\n",
       "      <td>1392.0</td>\n",
       "      <td>Internet</td>\n",
       "    </tr>\n",
       "    <tr>\n",
       "      <th>7</th>\n",
       "      <td>84.0</td>\n",
       "      <td>4.0</td>\n",
       "      <td>YouGov/Economist</td>\n",
       "      <td>2016-11-04</td>\n",
       "      <td>1110.0</td>\n",
       "      <td>Internet</td>\n",
       "    </tr>\n",
       "  </tbody>\n",
       "</table>\n",
       "</div>"
      ],
      "text/plain": [
       "   Trump  Clinton          Pollster  Start Date  Number of Observations  \\\n",
       "0   41.0     45.0     Insights West  2016-11-04                   940.0   \n",
       "4   43.0     41.0          IBD/TIPP  2016-11-04                  1107.0   \n",
       "5   41.0     45.0  YouGov/Economist  2016-11-04                  3669.0   \n",
       "6    6.0     90.0  YouGov/Economist  2016-11-04                  1392.0   \n",
       "7   84.0      4.0  YouGov/Economist  2016-11-04                  1110.0   \n",
       "\n",
       "         Mode  \n",
       "0    Internet  \n",
       "4  Live Phone  \n",
       "5    Internet  \n",
       "6    Internet  \n",
       "7    Internet  "
      ]
     },
     "execution_count": 72,
     "metadata": {},
     "output_type": "execute_result"
    }
   ],
   "source": [
    "df.head()"
   ]
  },
  {
   "cell_type": "code",
   "execution_count": 73,
   "metadata": {},
   "outputs": [
    {
     "data": {
      "text/plain": [
       "969"
      ]
     },
     "execution_count": 73,
     "metadata": {},
     "output_type": "execute_result"
    }
   ],
   "source": [
    "len(df)"
   ]
  },
  {
   "cell_type": "code",
   "execution_count": 74,
   "metadata": {},
   "outputs": [
    {
     "data": {
      "text/plain": [
       "Trump                     0\n",
       "Clinton                   0\n",
       "Pollster                  0\n",
       "Start Date                0\n",
       "Number of Observations    0\n",
       "Mode                      0\n",
       "dtype: int64"
      ]
     },
     "execution_count": 74,
     "metadata": {},
     "output_type": "execute_result"
    }
   ],
   "source": [
    "df.isna().sum()"
   ]
  },
  {
   "cell_type": "code",
   "execution_count": 75,
   "metadata": {},
   "outputs": [],
   "source": [
    "df = df.dropna(subset=['Number of Observations'], ignore_index=True)"
   ]
  },
  {
   "cell_type": "code",
   "execution_count": 76,
   "metadata": {},
   "outputs": [
    {
     "data": {
      "text/plain": [
       "969"
      ]
     },
     "execution_count": 76,
     "metadata": {},
     "output_type": "execute_result"
    }
   ],
   "source": [
    "len(df)"
   ]
  },
  {
   "cell_type": "code",
   "execution_count": 77,
   "metadata": {},
   "outputs": [
    {
     "data": {
      "text/html": [
       "<div>\n",
       "<style scoped>\n",
       "    .dataframe tbody tr th:only-of-type {\n",
       "        vertical-align: middle;\n",
       "    }\n",
       "\n",
       "    .dataframe tbody tr th {\n",
       "        vertical-align: top;\n",
       "    }\n",
       "\n",
       "    .dataframe thead th {\n",
       "        text-align: right;\n",
       "    }\n",
       "</style>\n",
       "<table border=\"1\" class=\"dataframe\">\n",
       "  <thead>\n",
       "    <tr style=\"text-align: right;\">\n",
       "      <th></th>\n",
       "      <th>Trump</th>\n",
       "      <th>Clinton</th>\n",
       "      <th>Pollster</th>\n",
       "      <th>Start Date</th>\n",
       "      <th>Number of Observations</th>\n",
       "      <th>Mode</th>\n",
       "    </tr>\n",
       "  </thead>\n",
       "  <tbody>\n",
       "    <tr>\n",
       "      <th>0</th>\n",
       "      <td>41.0</td>\n",
       "      <td>45.0</td>\n",
       "      <td>Insights West</td>\n",
       "      <td>2016-11-04</td>\n",
       "      <td>940.0</td>\n",
       "      <td>Internet</td>\n",
       "    </tr>\n",
       "    <tr>\n",
       "      <th>1</th>\n",
       "      <td>43.0</td>\n",
       "      <td>41.0</td>\n",
       "      <td>IBD/TIPP</td>\n",
       "      <td>2016-11-04</td>\n",
       "      <td>1107.0</td>\n",
       "      <td>Live Phone</td>\n",
       "    </tr>\n",
       "    <tr>\n",
       "      <th>2</th>\n",
       "      <td>41.0</td>\n",
       "      <td>45.0</td>\n",
       "      <td>YouGov/Economist</td>\n",
       "      <td>2016-11-04</td>\n",
       "      <td>3669.0</td>\n",
       "      <td>Internet</td>\n",
       "    </tr>\n",
       "    <tr>\n",
       "      <th>3</th>\n",
       "      <td>6.0</td>\n",
       "      <td>90.0</td>\n",
       "      <td>YouGov/Economist</td>\n",
       "      <td>2016-11-04</td>\n",
       "      <td>1392.0</td>\n",
       "      <td>Internet</td>\n",
       "    </tr>\n",
       "    <tr>\n",
       "      <th>4</th>\n",
       "      <td>84.0</td>\n",
       "      <td>4.0</td>\n",
       "      <td>YouGov/Economist</td>\n",
       "      <td>2016-11-04</td>\n",
       "      <td>1110.0</td>\n",
       "      <td>Internet</td>\n",
       "    </tr>\n",
       "  </tbody>\n",
       "</table>\n",
       "</div>"
      ],
      "text/plain": [
       "   Trump  Clinton          Pollster  Start Date  Number of Observations  \\\n",
       "0   41.0     45.0     Insights West  2016-11-04                   940.0   \n",
       "1   43.0     41.0          IBD/TIPP  2016-11-04                  1107.0   \n",
       "2   41.0     45.0  YouGov/Economist  2016-11-04                  3669.0   \n",
       "3    6.0     90.0  YouGov/Economist  2016-11-04                  1392.0   \n",
       "4   84.0      4.0  YouGov/Economist  2016-11-04                  1110.0   \n",
       "\n",
       "         Mode  \n",
       "0    Internet  \n",
       "1  Live Phone  \n",
       "2    Internet  \n",
       "3    Internet  \n",
       "4    Internet  "
      ]
     },
     "execution_count": 77,
     "metadata": {},
     "output_type": "execute_result"
    }
   ],
   "source": [
    "df.head()"
   ]
  },
  {
   "cell_type": "code",
   "execution_count": 78,
   "metadata": {},
   "outputs": [
    {
     "data": {
      "text/html": [
       "<div>\n",
       "<style scoped>\n",
       "    .dataframe tbody tr th:only-of-type {\n",
       "        vertical-align: middle;\n",
       "    }\n",
       "\n",
       "    .dataframe tbody tr th {\n",
       "        vertical-align: top;\n",
       "    }\n",
       "\n",
       "    .dataframe thead th {\n",
       "        text-align: right;\n",
       "    }\n",
       "</style>\n",
       "<table border=\"1\" class=\"dataframe\">\n",
       "  <thead>\n",
       "    <tr style=\"text-align: right;\">\n",
       "      <th></th>\n",
       "      <th>Start Date</th>\n",
       "      <th>Trump</th>\n",
       "      <th>Clinton</th>\n",
       "    </tr>\n",
       "  </thead>\n",
       "  <tbody>\n",
       "    <tr>\n",
       "      <th>0</th>\n",
       "      <td>2015-05-19</td>\n",
       "      <td>35.0</td>\n",
       "      <td>49.0</td>\n",
       "    </tr>\n",
       "    <tr>\n",
       "      <th>1</th>\n",
       "      <td>2015-06-20</td>\n",
       "      <td>35.0</td>\n",
       "      <td>47.0</td>\n",
       "    </tr>\n",
       "    <tr>\n",
       "      <th>2</th>\n",
       "      <td>2015-06-21</td>\n",
       "      <td>34.0</td>\n",
       "      <td>51.0</td>\n",
       "    </tr>\n",
       "    <tr>\n",
       "      <th>3</th>\n",
       "      <td>2015-06-26</td>\n",
       "      <td>35.0</td>\n",
       "      <td>59.0</td>\n",
       "    </tr>\n",
       "    <tr>\n",
       "      <th>4</th>\n",
       "      <td>2015-07-09</td>\n",
       "      <td>35.0</td>\n",
       "      <td>50.0</td>\n",
       "    </tr>\n",
       "    <tr>\n",
       "      <th>...</th>\n",
       "      <td>...</td>\n",
       "      <td>...</td>\n",
       "      <td>...</td>\n",
       "    </tr>\n",
       "    <tr>\n",
       "      <th>249</th>\n",
       "      <td>2016-10-31</td>\n",
       "      <td>44.0</td>\n",
       "      <td>49.0</td>\n",
       "    </tr>\n",
       "    <tr>\n",
       "      <th>250</th>\n",
       "      <td>2016-11-01</td>\n",
       "      <td>45.0</td>\n",
       "      <td>44.0</td>\n",
       "    </tr>\n",
       "    <tr>\n",
       "      <th>251</th>\n",
       "      <td>2016-11-02</td>\n",
       "      <td>41.0</td>\n",
       "      <td>45.0</td>\n",
       "    </tr>\n",
       "    <tr>\n",
       "      <th>252</th>\n",
       "      <td>2016-11-03</td>\n",
       "      <td>43.0</td>\n",
       "      <td>47.0</td>\n",
       "    </tr>\n",
       "    <tr>\n",
       "      <th>253</th>\n",
       "      <td>2016-11-04</td>\n",
       "      <td>43.0</td>\n",
       "      <td>43.0</td>\n",
       "    </tr>\n",
       "  </tbody>\n",
       "</table>\n",
       "<p>254 rows × 3 columns</p>\n",
       "</div>"
      ],
      "text/plain": [
       "    Start Date  Trump  Clinton\n",
       "0   2015-05-19   35.0     49.0\n",
       "1   2015-06-20   35.0     47.0\n",
       "2   2015-06-21   34.0     51.0\n",
       "3   2015-06-26   35.0     59.0\n",
       "4   2015-07-09   35.0     50.0\n",
       "..         ...    ...      ...\n",
       "249 2016-10-31   44.0     49.0\n",
       "250 2016-11-01   45.0     44.0\n",
       "251 2016-11-02   41.0     45.0\n",
       "252 2016-11-03   43.0     47.0\n",
       "253 2016-11-04   43.0     43.0\n",
       "\n",
       "[254 rows x 3 columns]"
      ]
     },
     "execution_count": 78,
     "metadata": {},
     "output_type": "execute_result"
    }
   ],
   "source": [
    "df['Start Date'] = pd.to_datetime(df['Start Date'])\n",
    "time_df = df.groupby('Start Date')[['Trump', 'Clinton']].mean().round().reset_index()\n",
    "time_df"
   ]
  },
  {
   "cell_type": "markdown",
   "metadata": {},
   "source": [
    "## 4. Time-Series Plot of Poll Results"
   ]
  },
  {
   "cell_type": "code",
   "execution_count": 79,
   "metadata": {},
   "outputs": [
    {
     "data": {
      "text/plain": [
       "Trump                     0\n",
       "Clinton                   0\n",
       "Pollster                  0\n",
       "Start Date                0\n",
       "Number of Observations    0\n",
       "Mode                      0\n",
       "dtype: int64"
      ]
     },
     "execution_count": 79,
     "metadata": {},
     "output_type": "execute_result"
    }
   ],
   "source": [
    "df.isna().sum()\n"
   ]
  },
  {
   "cell_type": "code",
   "execution_count": 80,
   "metadata": {},
   "outputs": [
    {
     "data": {
      "image/png": "[encoded data removed]",
      "text/plain": [
       "<Figure size 1200x600 with 1 Axes>"
      ]
     },
     "metadata": {},
     "output_type": "display_data"
    }
   ],
   "source": [
    "time_df = time_df.sort_values('Start Date')\n",
    "\n",
    "window_size = 30 \n",
    "time_df['Clinton_smooth'] = time_df['Clinton'].rolling(window=window_size, min_periods=1).mean()\n",
    "time_df['Trump_smooth'] = time_df['Trump'].rolling(window=window_size, min_periods=1).mean()\n",
    "\n",
    "\n",
    "plt.figure(figsize=(12, 6))\n",
    "\n",
    "sns.lineplot(x='Start Date', y='Clinton', data=time_df, label='Clinton', ci=None, color='blue', alpha=0.3)\n",
    "sns.lineplot(x='Start Date', y='Trump', data=time_df, label='Trump', ci=None, color='red', alpha=0.3)\n",
    "\n",
    "\n",
    "def add_smooth_trend(x, y, color, label):\n",
    "    x_numeric = pd.to_numeric(x)\n",
    "    spline = make_interp_spline(x_numeric, y, k=2)\n",
    "\n",
    "    x_smooth = np.linspace(x_numeric.min(), x_numeric.max(), 1000)\n",
    "    y_smooth = spline(x_smooth)\n",
    "\n",
    "    plt.plot(pd.to_datetime(x_smooth), y_smooth, color=color, label=label, linewidth=2)\n",
    "\n",
    "add_smooth_trend(time_df['Start Date'], time_df['Clinton_smooth'], color='blue', label='Clinton Trend')\n",
    "add_smooth_trend(time_df['Start Date'], time_df['Trump_smooth'], color='red', label='Trump Trend')\n",
    "\n",
    "plt.title('Time-Series Plot of Poll Results: Trump vs. Clinton', fontsize=16)\n",
    "plt.xlabel('Date', fontsize=12)\n",
    "plt.ylabel('Support Percentage', fontsize=12)\n",
    "plt.legend()\n",
    "plt.grid(False)\n",
    "sns.despine()\n",
    "plt.show()\n"
   ]
  },
  {
   "cell_type": "markdown",
   "metadata": {},
   "source": [
    "## 5: Calculate Total Number of Voters Observed"
   ]
  },
  {
   "cell_type": "code",
   "execution_count": 81,
   "metadata": {},
   "outputs": [
    {
     "data": {
      "text/plain": [
       "1872688"
      ]
     },
     "execution_count": 81,
     "metadata": {},
     "output_type": "execute_result"
    }
   ],
   "source": [
    "Number_of_Observations = int(df['Number of Observations'].sum())\n",
    "Number_of_Observations"
   ]
  },
  {
   "cell_type": "markdown",
   "metadata": {},
   "source": [
    "## 6: Calculate Estimated Proportions for Trump and Clinton"
   ]
  },
  {
   "cell_type": "code",
   "execution_count": 82,
   "metadata": {},
   "outputs": [
    {
     "data": {
      "text/html": [
       "<div>\n",
       "<style scoped>\n",
       "    .dataframe tbody tr th:only-of-type {\n",
       "        vertical-align: middle;\n",
       "    }\n",
       "\n",
       "    .dataframe tbody tr th {\n",
       "        vertical-align: top;\n",
       "    }\n",
       "\n",
       "    .dataframe thead th {\n",
       "        text-align: right;\n",
       "    }\n",
       "</style>\n",
       "<table border=\"1\" class=\"dataframe\">\n",
       "  <thead>\n",
       "    <tr style=\"text-align: right;\">\n",
       "      <th></th>\n",
       "      <th>Trump</th>\n",
       "      <th>Clinton</th>\n",
       "    </tr>\n",
       "  </thead>\n",
       "  <tbody>\n",
       "    <tr>\n",
       "      <th>0</th>\n",
       "      <td>40</td>\n",
       "      <td>43</td>\n",
       "    </tr>\n",
       "  </tbody>\n",
       "</table>\n",
       "</div>"
      ],
      "text/plain": [
       "   Trump  Clinton\n",
       "0     40       43"
      ]
     },
     "execution_count": 82,
     "metadata": {},
     "output_type": "execute_result"
    }
   ],
   "source": [
    "estimated_proportion = {'Trump' : [int(df['Trump'].mean().round())],\n",
    "                        'Clinton' : [int(df['Clinton'].mean().round())]}\n",
    "\n",
    "estimated_proportion = pd.DataFrame(estimated_proportion)\n",
    "estimated_proportion"
   ]
  },
  {
   "cell_type": "markdown",
   "metadata": {},
   "source": [
    "## 7: Compute 95% Confidence Intervals for Trump and Clinton Support"
   ]
  },
  {
   "cell_type": "code",
   "execution_count": 83,
   "metadata": {},
   "outputs": [
    {
     "name": "stdout",
     "output_type": "stream",
     "text": [
      "95% confidence intervals for Trump: [40.25, 40.31]\n",
      "95% confidence intervals for Clinton: [43.33, 43.4]\n"
     ]
    }
   ],
   "source": [
    "trump_mean = df['Trump'].mean()\n",
    "clinton_mean = df['Clinton'].mean()\n",
    "\n",
    "trump_std = df['Trump'].std()\n",
    "clinton_std = df['Clinton'].std()\n",
    "\n",
    "\n",
    "trump_standard_error = ( trump_std / (math.sqrt(Number_of_Observations)))\n",
    "clinton_standard_error = ( clinton_std / (math.sqrt(Number_of_Observations)))\n",
    "\n",
    "z_score = 1.96\n",
    "\n",
    "trump_result = [ float((trump_mean - (z_score*trump_standard_error)).round(2)) , float((trump_mean + (z_score*trump_standard_error)).round(2))]\n",
    "clinton_result = [ float((clinton_mean - (z_score*clinton_standard_error)).round(2)) , float((clinton_mean + (z_score*clinton_standard_error)).round(2))]\n",
    "\n",
    "\n",
    "print(f\"95% confidence intervals for Trump: {trump_result}\")\n",
    "print(f\"95% confidence intervals for Clinton: {clinton_result}\")"
   ]
  },
  {
   "cell_type": "markdown",
   "metadata": {},
   "source": [
    "## 8: Hypothesis Test for Spread"
   ]
  },
  {
   "cell_type": "code",
   "execution_count": 88,
   "metadata": {},
   "outputs": [
    {
     "name": "stdout",
     "output_type": "stream",
     "text": [
      "95% confidence interval for the spread d: [-0.1341, -0.1313]\n",
      "Test Statistic (Z): -183.2061\n",
      "P-value: 0.0000\n",
      "Reject the null hypothesis: There is a significant difference in support.\n"
     ]
    }
   ],
   "source": [
    "#a\n",
    "p = df['Clinton'].mean() / 100\n",
    "z_score = 1.96\n",
    "d = 2*p - 1\n",
    "se = math.sqrt( p*(1-p)/Number_of_Observations)\n",
    "\n",
    "CI = [ float((d - (z_score*2*se)).round(4)) , float((d + (z_score*2*se)).round(4))]\n",
    "\n",
    "print(f\"95% confidence interval for the spread d: {CI}\")\n",
    "\n",
    "#b\n",
    "Z = d /  (2 * se)\n",
    "\n",
    "p_value = 2 * (1 - stats.norm.cdf(abs(Z)))\n",
    "\n",
    "print(f\"Test Statistic (Z): {Z:.4f}\")\n",
    "print(f\"P-value: {p_value:.4f}\")\n",
    "\n",
    "alpha = 0.05\n",
    "if p_value < alpha:\n",
    "    print(\"Reject the null hypothesis: There is a significant difference in support.\")\n",
    "else:\n",
    "    print(\"Fail to reject the null hypothesis: There is no significant difference in support.\")"
   ]
  }
 ],
 "metadata": {
  "kernelspec": {
   "display_name": "Python 3",
   "language": "python",
   "name": "python3"
  },
  "language_info": {
   "codemirror_mode": {
    "name": "ipython",
    "version": 3
   },
   "file_extension": ".py",
   "mimetype": "text/x-python",
   "name": "python",
   "nbconvert_exporter": "python",
   "pygments_lexer": "ipython3",
   "version": "3.9.12"
  }
 },
 "nbformat": 4,
 "nbformat_minor": 2
}
