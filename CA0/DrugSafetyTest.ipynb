{
 "cells": [
  {
   "cell_type": "code",
   "execution_count": 4,
   "metadata": {},
   "outputs": [],
   "source": [
    "import pandas as pd\n",
    "import numpy as np\n",
    "import scipy.stats as stats\n",
    "from sklearn.preprocessing import LabelEncoder"
   ]
  },
  {
   "cell_type": "markdown",
   "metadata": {},
   "source": [
    "## Loading the dataset"
   ]
  },
  {
   "cell_type": "code",
   "execution_count": 5,
   "metadata": {},
   "outputs": [],
   "source": [
    "df = pd.read_csv('data/drug_safety.csv')"
   ]
  },
  {
   "cell_type": "code",
   "execution_count": 6,
   "metadata": {},
   "outputs": [
    {
     "data": {
      "application/vnd.microsoft.datawrangler.viewer.v0+json": {
       "columns": [
        {
         "name": "index",
         "rawType": "int64",
         "type": "integer"
        },
        {
         "name": "age",
         "rawType": "int64",
         "type": "integer"
        },
        {
         "name": "sex",
         "rawType": "object",
         "type": "string"
        },
        {
         "name": "trx",
         "rawType": "object",
         "type": "string"
        },
        {
         "name": "week",
         "rawType": "int64",
         "type": "integer"
        },
        {
         "name": "wbc",
         "rawType": "float64",
         "type": "float"
        },
        {
         "name": "rbc",
         "rawType": "float64",
         "type": "float"
        },
        {
         "name": "adverse_effects",
         "rawType": "object",
         "type": "string"
        },
        {
         "name": "num_effects",
         "rawType": "int64",
         "type": "integer"
        }
       ],
       "conversionMethod": "pd.DataFrame",
       "ref": "0b2f741c-fcd7-4c4f-b0f3-8a8a8662f6f9",
       "rows": [
        [
         "0",
         "62",
         "male",
         "Drug",
         "0",
         "7.30000019",
         "5.0999999",
         "No",
         "0"
        ],
        [
         "1",
         "62",
         "male",
         "Drug",
         "1",
         null,
         null,
         "No",
         "0"
        ],
        [
         "2",
         "62",
         "male",
         "Drug",
         "12",
         "5.5999999",
         "5.0",
         "No",
         "0"
        ],
        [
         "3",
         "62",
         "male",
         "Drug",
         "16",
         null,
         null,
         "No",
         "0"
        ],
        [
         "4",
         "62",
         "male",
         "Drug",
         "2",
         "6.5999999",
         "5.0999999",
         "No",
         "0"
        ]
       ],
       "shape": {
        "columns": 8,
        "rows": 5
       }
      },
      "text/html": [
       "<div>\n",
       "<style scoped>\n",
       "    .dataframe tbody tr th:only-of-type {\n",
       "        vertical-align: middle;\n",
       "    }\n",
       "\n",
       "    .dataframe tbody tr th {\n",
       "        vertical-align: top;\n",
       "    }\n",
       "\n",
       "    .dataframe thead th {\n",
       "        text-align: right;\n",
       "    }\n",
       "</style>\n",
       "<table border=\"1\" class=\"dataframe\">\n",
       "  <thead>\n",
       "    <tr style=\"text-align: right;\">\n",
       "      <th></th>\n",
       "      <th>age</th>\n",
       "      <th>sex</th>\n",
       "      <th>trx</th>\n",
       "      <th>week</th>\n",
       "      <th>wbc</th>\n",
       "      <th>rbc</th>\n",
       "      <th>adverse_effects</th>\n",
       "      <th>num_effects</th>\n",
       "    </tr>\n",
       "  </thead>\n",
       "  <tbody>\n",
       "    <tr>\n",
       "      <th>0</th>\n",
       "      <td>62</td>\n",
       "      <td>male</td>\n",
       "      <td>Drug</td>\n",
       "      <td>0</td>\n",
       "      <td>7.3</td>\n",
       "      <td>5.1</td>\n",
       "      <td>No</td>\n",
       "      <td>0</td>\n",
       "    </tr>\n",
       "    <tr>\n",
       "      <th>1</th>\n",
       "      <td>62</td>\n",
       "      <td>male</td>\n",
       "      <td>Drug</td>\n",
       "      <td>1</td>\n",
       "      <td>NaN</td>\n",
       "      <td>NaN</td>\n",
       "      <td>No</td>\n",
       "      <td>0</td>\n",
       "    </tr>\n",
       "    <tr>\n",
       "      <th>2</th>\n",
       "      <td>62</td>\n",
       "      <td>male</td>\n",
       "      <td>Drug</td>\n",
       "      <td>12</td>\n",
       "      <td>5.6</td>\n",
       "      <td>5.0</td>\n",
       "      <td>No</td>\n",
       "      <td>0</td>\n",
       "    </tr>\n",
       "    <tr>\n",
       "      <th>3</th>\n",
       "      <td>62</td>\n",
       "      <td>male</td>\n",
       "      <td>Drug</td>\n",
       "      <td>16</td>\n",
       "      <td>NaN</td>\n",
       "      <td>NaN</td>\n",
       "      <td>No</td>\n",
       "      <td>0</td>\n",
       "    </tr>\n",
       "    <tr>\n",
       "      <th>4</th>\n",
       "      <td>62</td>\n",
       "      <td>male</td>\n",
       "      <td>Drug</td>\n",
       "      <td>2</td>\n",
       "      <td>6.6</td>\n",
       "      <td>5.1</td>\n",
       "      <td>No</td>\n",
       "      <td>0</td>\n",
       "    </tr>\n",
       "  </tbody>\n",
       "</table>\n",
       "</div>"
      ],
      "text/plain": [
       "   age   sex   trx  week  wbc  rbc adverse_effects  num_effects\n",
       "0   62  male  Drug     0  7.3  5.1              No            0\n",
       "1   62  male  Drug     1  NaN  NaN              No            0\n",
       "2   62  male  Drug    12  5.6  5.0              No            0\n",
       "3   62  male  Drug    16  NaN  NaN              No            0\n",
       "4   62  male  Drug     2  6.6  5.1              No            0"
      ]
     },
     "execution_count": 6,
     "metadata": {},
     "output_type": "execute_result"
    }
   ],
   "source": [
    "df.head()"
   ]
  },
  {
   "cell_type": "markdown",
   "metadata": {},
   "source": [
    "## Remove nan values"
   ]
  },
  {
   "cell_type": "code",
   "execution_count": 7,
   "metadata": {},
   "outputs": [
    {
     "data": {
      "text/plain": [
       "age                   0\n",
       "sex                   0\n",
       "trx                   0\n",
       "week                  0\n",
       "wbc                6975\n",
       "rbc                6976\n",
       "adverse_effects       0\n",
       "num_effects           0\n",
       "dtype: int64"
      ]
     },
     "execution_count": 7,
     "metadata": {},
     "output_type": "execute_result"
    }
   ],
   "source": [
    "df.isna().sum()"
   ]
  },
  {
   "cell_type": "code",
   "execution_count": 8,
   "metadata": {},
   "outputs": [],
   "source": [
    "df.dropna(inplace=True)"
   ]
  },
  {
   "cell_type": "code",
   "execution_count": 9,
   "metadata": {},
   "outputs": [
    {
     "data": {
      "text/plain": [
       "9127"
      ]
     },
     "execution_count": 9,
     "metadata": {},
     "output_type": "execute_result"
    }
   ],
   "source": [
    "len(df)"
   ]
  },
  {
   "cell_type": "code",
   "execution_count": 10,
   "metadata": {},
   "outputs": [
    {
     "data": {
      "text/plain": [
       "age                0\n",
       "sex                0\n",
       "trx                0\n",
       "week               0\n",
       "wbc                0\n",
       "rbc                0\n",
       "adverse_effects    0\n",
       "num_effects        0\n",
       "dtype: int64"
      ]
     },
     "execution_count": 10,
     "metadata": {},
     "output_type": "execute_result"
    }
   ],
   "source": [
    "df.isna().sum()"
   ]
  },
  {
   "cell_type": "markdown",
   "metadata": {},
   "source": [
    "##  basic statistics for numeric columns."
   ]
  },
  {
   "cell_type": "code",
   "execution_count": 11,
   "metadata": {},
   "outputs": [
    {
     "data": {
      "application/vnd.microsoft.datawrangler.viewer.v0+json": {
       "columns": [
        {
         "name": "index",
         "rawType": "object",
         "type": "string"
        },
        {
         "name": "age",
         "rawType": "float64",
         "type": "float"
        },
        {
         "name": "week",
         "rawType": "float64",
         "type": "float"
        },
        {
         "name": "wbc",
         "rawType": "float64",
         "type": "float"
        },
        {
         "name": "rbc",
         "rawType": "float64",
         "type": "float"
        },
        {
         "name": "num_effects",
         "rawType": "float64",
         "type": "float"
        }
       ],
       "conversionMethod": "pd.DataFrame",
       "ref": "30ca6371-601d-4adf-8ca9-5e68c856f4f9",
       "rows": [
        [
         "count",
         "9127.0",
         "9127.0",
         "9127.0",
         "9127.0",
         "9127.0"
        ],
        [
         "mean",
         "64.00766955187905",
         "4.985427851429824",
         "7.3403308946346",
         "4.672784046011833",
         "0.10079982469595705"
        ],
        [
         "std",
         "8.84771114207396",
         "4.375397191252801",
         "1.9966447939675158",
         "0.45852015872064467",
         "0.32217758446619127"
        ],
        [
         "min",
         "39.0",
         "0.0",
         "1.79999995",
         "2.0999999",
         "0.0"
        ],
        [
         "25%",
         "58.0",
         "2.0",
         "6.0",
         "4.4000001",
         "0.0"
        ],
        [
         "50%",
         "65.0",
         "4.0",
         "7.0999999",
         "4.69999981",
         "0.0"
        ],
        [
         "75%",
         "71.0",
         "8.0",
         "8.39999962",
         "5.0",
         "0.0"
        ],
        [
         "max",
         "84.0",
         "20.0",
         "26.5",
         "7.5999999",
         "3.0"
        ]
       ],
       "shape": {
        "columns": 5,
        "rows": 8
       }
      },
      "text/html": [
       "<div>\n",
       "<style scoped>\n",
       "    .dataframe tbody tr th:only-of-type {\n",
       "        vertical-align: middle;\n",
       "    }\n",
       "\n",
       "    .dataframe tbody tr th {\n",
       "        vertical-align: top;\n",
       "    }\n",
       "\n",
       "    .dataframe thead th {\n",
       "        text-align: right;\n",
       "    }\n",
       "</style>\n",
       "<table border=\"1\" class=\"dataframe\">\n",
       "  <thead>\n",
       "    <tr style=\"text-align: right;\">\n",
       "      <th></th>\n",
       "      <th>age</th>\n",
       "      <th>week</th>\n",
       "      <th>wbc</th>\n",
       "      <th>rbc</th>\n",
       "      <th>num_effects</th>\n",
       "    </tr>\n",
       "  </thead>\n",
       "  <tbody>\n",
       "    <tr>\n",
       "      <th>count</th>\n",
       "      <td>9127.000000</td>\n",
       "      <td>9127.000000</td>\n",
       "      <td>9127.000000</td>\n",
       "      <td>9127.000000</td>\n",
       "      <td>9127.000000</td>\n",
       "    </tr>\n",
       "    <tr>\n",
       "      <th>mean</th>\n",
       "      <td>64.007670</td>\n",
       "      <td>4.985428</td>\n",
       "      <td>7.340331</td>\n",
       "      <td>4.672784</td>\n",
       "      <td>0.100800</td>\n",
       "    </tr>\n",
       "    <tr>\n",
       "      <th>std</th>\n",
       "      <td>8.847711</td>\n",
       "      <td>4.375397</td>\n",
       "      <td>1.996645</td>\n",
       "      <td>0.458520</td>\n",
       "      <td>0.322178</td>\n",
       "    </tr>\n",
       "    <tr>\n",
       "      <th>min</th>\n",
       "      <td>39.000000</td>\n",
       "      <td>0.000000</td>\n",
       "      <td>1.800000</td>\n",
       "      <td>2.100000</td>\n",
       "      <td>0.000000</td>\n",
       "    </tr>\n",
       "    <tr>\n",
       "      <th>25%</th>\n",
       "      <td>58.000000</td>\n",
       "      <td>2.000000</td>\n",
       "      <td>6.000000</td>\n",
       "      <td>4.400000</td>\n",
       "      <td>0.000000</td>\n",
       "    </tr>\n",
       "    <tr>\n",
       "      <th>50%</th>\n",
       "      <td>65.000000</td>\n",
       "      <td>4.000000</td>\n",
       "      <td>7.100000</td>\n",
       "      <td>4.700000</td>\n",
       "      <td>0.000000</td>\n",
       "    </tr>\n",
       "    <tr>\n",
       "      <th>75%</th>\n",
       "      <td>71.000000</td>\n",
       "      <td>8.000000</td>\n",
       "      <td>8.400000</td>\n",
       "      <td>5.000000</td>\n",
       "      <td>0.000000</td>\n",
       "    </tr>\n",
       "    <tr>\n",
       "      <th>max</th>\n",
       "      <td>84.000000</td>\n",
       "      <td>20.000000</td>\n",
       "      <td>26.500000</td>\n",
       "      <td>7.600000</td>\n",
       "      <td>3.000000</td>\n",
       "    </tr>\n",
       "  </tbody>\n",
       "</table>\n",
       "</div>"
      ],
      "text/plain": [
       "               age         week          wbc          rbc  num_effects\n",
       "count  9127.000000  9127.000000  9127.000000  9127.000000  9127.000000\n",
       "mean     64.007670     4.985428     7.340331     4.672784     0.100800\n",
       "std       8.847711     4.375397     1.996645     0.458520     0.322178\n",
       "min      39.000000     0.000000     1.800000     2.100000     0.000000\n",
       "25%      58.000000     2.000000     6.000000     4.400000     0.000000\n",
       "50%      65.000000     4.000000     7.100000     4.700000     0.000000\n",
       "75%      71.000000     8.000000     8.400000     5.000000     0.000000\n",
       "max      84.000000    20.000000    26.500000     7.600000     3.000000"
      ]
     },
     "execution_count": 11,
     "metadata": {},
     "output_type": "execute_result"
    }
   ],
   "source": [
    "df.describe()"
   ]
  },
  {
   "cell_type": "markdown",
   "metadata": {},
   "source": [
    "## Group the dataset by trx and summarize key statistics"
   ]
  },
  {
   "cell_type": "code",
   "execution_count": 12,
   "metadata": {},
   "outputs": [
    {
     "data": {
      "application/vnd.microsoft.datawrangler.viewer.v0+json": {
       "columns": [
        {
         "name": "trx",
         "rawType": "object",
         "type": "string"
        },
        {
         "name": "count",
         "rawType": "float64",
         "type": "float"
        },
        {
         "name": "mean",
         "rawType": "float64",
         "type": "float"
        },
        {
         "name": "std",
         "rawType": "float64",
         "type": "float"
        },
        {
         "name": "min",
         "rawType": "float64",
         "type": "float"
        },
        {
         "name": "25%",
         "rawType": "float64",
         "type": "float"
        },
        {
         "name": "50%",
         "rawType": "float64",
         "type": "float"
        },
        {
         "name": "75%",
         "rawType": "float64",
         "type": "float"
        },
        {
         "name": "max",
         "rawType": "float64",
         "type": "float"
        }
       ],
       "conversionMethod": "pd.DataFrame",
       "ref": "dbc52825-567d-4d61-8c76-b6893eecc0e2",
       "rows": [
        [
         "Drug",
         "6011.0",
         "7.33",
         "2.01",
         "1.8",
         "6.0",
         "7.0",
         "8.4",
         "26.5"
        ],
        [
         "Placebo",
         "3116.0",
         "7.36",
         "1.97",
         "3.0",
         "6.0",
         "7.15",
         "8.4",
         "23.8"
        ]
       ],
       "shape": {
        "columns": 8,
        "rows": 2
       }
      },
      "text/html": [
       "<div>\n",
       "<style scoped>\n",
       "    .dataframe tbody tr th:only-of-type {\n",
       "        vertical-align: middle;\n",
       "    }\n",
       "\n",
       "    .dataframe tbody tr th {\n",
       "        vertical-align: top;\n",
       "    }\n",
       "\n",
       "    .dataframe thead th {\n",
       "        text-align: right;\n",
       "    }\n",
       "</style>\n",
       "<table border=\"1\" class=\"dataframe\">\n",
       "  <thead>\n",
       "    <tr style=\"text-align: right;\">\n",
       "      <th></th>\n",
       "      <th>count</th>\n",
       "      <th>mean</th>\n",
       "      <th>std</th>\n",
       "      <th>min</th>\n",
       "      <th>25%</th>\n",
       "      <th>50%</th>\n",
       "      <th>75%</th>\n",
       "      <th>max</th>\n",
       "    </tr>\n",
       "    <tr>\n",
       "      <th>trx</th>\n",
       "      <th></th>\n",
       "      <th></th>\n",
       "      <th></th>\n",
       "      <th></th>\n",
       "      <th></th>\n",
       "      <th></th>\n",
       "      <th></th>\n",
       "      <th></th>\n",
       "    </tr>\n",
       "  </thead>\n",
       "  <tbody>\n",
       "    <tr>\n",
       "      <th>Drug</th>\n",
       "      <td>6011.0</td>\n",
       "      <td>7.33</td>\n",
       "      <td>2.01</td>\n",
       "      <td>1.8</td>\n",
       "      <td>6.0</td>\n",
       "      <td>7.00</td>\n",
       "      <td>8.4</td>\n",
       "      <td>26.5</td>\n",
       "    </tr>\n",
       "    <tr>\n",
       "      <th>Placebo</th>\n",
       "      <td>3116.0</td>\n",
       "      <td>7.36</td>\n",
       "      <td>1.97</td>\n",
       "      <td>3.0</td>\n",
       "      <td>6.0</td>\n",
       "      <td>7.15</td>\n",
       "      <td>8.4</td>\n",
       "      <td>23.8</td>\n",
       "    </tr>\n",
       "  </tbody>\n",
       "</table>\n",
       "</div>"
      ],
      "text/plain": [
       "          count  mean   std  min  25%   50%  75%   max\n",
       "trx                                                   \n",
       "Drug     6011.0  7.33  2.01  1.8  6.0  7.00  8.4  26.5\n",
       "Placebo  3116.0  7.36  1.97  3.0  6.0  7.15  8.4  23.8"
      ]
     },
     "execution_count": 12,
     "metadata": {},
     "output_type": "execute_result"
    }
   ],
   "source": [
    "df.groupby('trx')['wbc'].describe().round(2)"
   ]
  },
  {
   "cell_type": "code",
   "execution_count": 13,
   "metadata": {},
   "outputs": [
    {
     "data": {
      "application/vnd.microsoft.datawrangler.viewer.v0+json": {
       "columns": [
        {
         "name": "trx",
         "rawType": "object",
         "type": "string"
        },
        {
         "name": "count",
         "rawType": "float64",
         "type": "float"
        },
        {
         "name": "mean",
         "rawType": "float64",
         "type": "float"
        },
        {
         "name": "std",
         "rawType": "float64",
         "type": "float"
        },
        {
         "name": "min",
         "rawType": "float64",
         "type": "float"
        },
        {
         "name": "25%",
         "rawType": "float64",
         "type": "float"
        },
        {
         "name": "50%",
         "rawType": "float64",
         "type": "float"
        },
        {
         "name": "75%",
         "rawType": "float64",
         "type": "float"
        },
        {
         "name": "max",
         "rawType": "float64",
         "type": "float"
        }
       ],
       "conversionMethod": "pd.DataFrame",
       "ref": "8926449d-da2f-4f6c-b498-6c1cc33010b2",
       "rows": [
        [
         "Drug",
         "6011.0",
         "4.68",
         "0.45",
         "2.7",
         "4.4",
         "4.7",
         "5.0",
         "7.5"
        ],
        [
         "Placebo",
         "3116.0",
         "4.66",
         "0.47",
         "2.1",
         "4.4",
         "4.7",
         "5.0",
         "7.6"
        ]
       ],
       "shape": {
        "columns": 8,
        "rows": 2
       }
      },
      "text/html": [
       "<div>\n",
       "<style scoped>\n",
       "    .dataframe tbody tr th:only-of-type {\n",
       "        vertical-align: middle;\n",
       "    }\n",
       "\n",
       "    .dataframe tbody tr th {\n",
       "        vertical-align: top;\n",
       "    }\n",
       "\n",
       "    .dataframe thead th {\n",
       "        text-align: right;\n",
       "    }\n",
       "</style>\n",
       "<table border=\"1\" class=\"dataframe\">\n",
       "  <thead>\n",
       "    <tr style=\"text-align: right;\">\n",
       "      <th></th>\n",
       "      <th>count</th>\n",
       "      <th>mean</th>\n",
       "      <th>std</th>\n",
       "      <th>min</th>\n",
       "      <th>25%</th>\n",
       "      <th>50%</th>\n",
       "      <th>75%</th>\n",
       "      <th>max</th>\n",
       "    </tr>\n",
       "    <tr>\n",
       "      <th>trx</th>\n",
       "      <th></th>\n",
       "      <th></th>\n",
       "      <th></th>\n",
       "      <th></th>\n",
       "      <th></th>\n",
       "      <th></th>\n",
       "      <th></th>\n",
       "      <th></th>\n",
       "    </tr>\n",
       "  </thead>\n",
       "  <tbody>\n",
       "    <tr>\n",
       "      <th>Drug</th>\n",
       "      <td>6011.0</td>\n",
       "      <td>4.68</td>\n",
       "      <td>0.45</td>\n",
       "      <td>2.7</td>\n",
       "      <td>4.4</td>\n",
       "      <td>4.7</td>\n",
       "      <td>5.0</td>\n",
       "      <td>7.5</td>\n",
       "    </tr>\n",
       "    <tr>\n",
       "      <th>Placebo</th>\n",
       "      <td>3116.0</td>\n",
       "      <td>4.66</td>\n",
       "      <td>0.47</td>\n",
       "      <td>2.1</td>\n",
       "      <td>4.4</td>\n",
       "      <td>4.7</td>\n",
       "      <td>5.0</td>\n",
       "      <td>7.6</td>\n",
       "    </tr>\n",
       "  </tbody>\n",
       "</table>\n",
       "</div>"
      ],
      "text/plain": [
       "          count  mean   std  min  25%  50%  75%  max\n",
       "trx                                                 \n",
       "Drug     6011.0  4.68  0.45  2.7  4.4  4.7  5.0  7.5\n",
       "Placebo  3116.0  4.66  0.47  2.1  4.4  4.7  5.0  7.6"
      ]
     },
     "execution_count": 13,
     "metadata": {},
     "output_type": "execute_result"
    }
   ],
   "source": [
    "df.groupby('trx')['rbc'].describe().round(2)"
   ]
  },
  {
   "cell_type": "code",
   "execution_count": 14,
   "metadata": {},
   "outputs": [
    {
     "data": {
      "application/vnd.microsoft.datawrangler.viewer.v0+json": {
       "columns": [
        {
         "name": "trx",
         "rawType": "object",
         "type": "string"
        },
        {
         "name": "count",
         "rawType": "float64",
         "type": "float"
        },
        {
         "name": "mean",
         "rawType": "float64",
         "type": "float"
        },
        {
         "name": "std",
         "rawType": "float64",
         "type": "float"
        },
        {
         "name": "min",
         "rawType": "float64",
         "type": "float"
        },
        {
         "name": "25%",
         "rawType": "float64",
         "type": "float"
        },
        {
         "name": "50%",
         "rawType": "float64",
         "type": "float"
        },
        {
         "name": "75%",
         "rawType": "float64",
         "type": "float"
        },
        {
         "name": "max",
         "rawType": "float64",
         "type": "float"
        }
       ],
       "conversionMethod": "pd.DataFrame",
       "ref": "ac61e1c5-028e-425a-b608-9b3ecb4d9afb",
       "rows": [
        [
         "Drug",
         "6011.0",
         "0.1",
         "0.33",
         "0.0",
         "0.0",
         "0.0",
         "0.0",
         "3.0"
        ],
        [
         "Placebo",
         "3116.0",
         "0.1",
         "0.32",
         "0.0",
         "0.0",
         "0.0",
         "0.0",
         "3.0"
        ]
       ],
       "shape": {
        "columns": 8,
        "rows": 2
       }
      },
      "text/html": [
       "<div>\n",
       "<style scoped>\n",
       "    .dataframe tbody tr th:only-of-type {\n",
       "        vertical-align: middle;\n",
       "    }\n",
       "\n",
       "    .dataframe tbody tr th {\n",
       "        vertical-align: top;\n",
       "    }\n",
       "\n",
       "    .dataframe thead th {\n",
       "        text-align: right;\n",
       "    }\n",
       "</style>\n",
       "<table border=\"1\" class=\"dataframe\">\n",
       "  <thead>\n",
       "    <tr style=\"text-align: right;\">\n",
       "      <th></th>\n",
       "      <th>count</th>\n",
       "      <th>mean</th>\n",
       "      <th>std</th>\n",
       "      <th>min</th>\n",
       "      <th>25%</th>\n",
       "      <th>50%</th>\n",
       "      <th>75%</th>\n",
       "      <th>max</th>\n",
       "    </tr>\n",
       "    <tr>\n",
       "      <th>trx</th>\n",
       "      <th></th>\n",
       "      <th></th>\n",
       "      <th></th>\n",
       "      <th></th>\n",
       "      <th></th>\n",
       "      <th></th>\n",
       "      <th></th>\n",
       "      <th></th>\n",
       "    </tr>\n",
       "  </thead>\n",
       "  <tbody>\n",
       "    <tr>\n",
       "      <th>Drug</th>\n",
       "      <td>6011.0</td>\n",
       "      <td>0.1</td>\n",
       "      <td>0.33</td>\n",
       "      <td>0.0</td>\n",
       "      <td>0.0</td>\n",
       "      <td>0.0</td>\n",
       "      <td>0.0</td>\n",
       "      <td>3.0</td>\n",
       "    </tr>\n",
       "    <tr>\n",
       "      <th>Placebo</th>\n",
       "      <td>3116.0</td>\n",
       "      <td>0.1</td>\n",
       "      <td>0.32</td>\n",
       "      <td>0.0</td>\n",
       "      <td>0.0</td>\n",
       "      <td>0.0</td>\n",
       "      <td>0.0</td>\n",
       "      <td>3.0</td>\n",
       "    </tr>\n",
       "  </tbody>\n",
       "</table>\n",
       "</div>"
      ],
      "text/plain": [
       "          count  mean   std  min  25%  50%  75%  max\n",
       "trx                                                 \n",
       "Drug     6011.0   0.1  0.33  0.0  0.0  0.0  0.0  3.0\n",
       "Placebo  3116.0   0.1  0.32  0.0  0.0  0.0  0.0  3.0"
      ]
     },
     "execution_count": 14,
     "metadata": {},
     "output_type": "execute_result"
    }
   ],
   "source": [
    "df.groupby('trx')['num_effects'].describe().round(2)"
   ]
  },
  {
   "cell_type": "markdown",
   "metadata": {},
   "source": [
    "## Convert adverse_effects column to numeric column"
   ]
  },
  {
   "cell_type": "code",
   "execution_count": 15,
   "metadata": {},
   "outputs": [],
   "source": [
    "label_encoder = LabelEncoder()\n",
    "#No : 0\n",
    "#Yes : 1\n",
    "df['adverse_effects'] = label_encoder.fit_transform(df['adverse_effects'])"
   ]
  },
  {
   "cell_type": "code",
   "execution_count": 16,
   "metadata": {},
   "outputs": [
    {
     "data": {
      "application/vnd.microsoft.datawrangler.viewer.v0+json": {
       "columns": [
        {
         "name": "index",
         "rawType": "int64",
         "type": "integer"
        },
        {
         "name": "age",
         "rawType": "int64",
         "type": "integer"
        },
        {
         "name": "sex",
         "rawType": "object",
         "type": "string"
        },
        {
         "name": "trx",
         "rawType": "object",
         "type": "string"
        },
        {
         "name": "week",
         "rawType": "int64",
         "type": "integer"
        },
        {
         "name": "wbc",
         "rawType": "float64",
         "type": "float"
        },
        {
         "name": "rbc",
         "rawType": "float64",
         "type": "float"
        },
        {
         "name": "adverse_effects",
         "rawType": "int64",
         "type": "integer"
        },
        {
         "name": "num_effects",
         "rawType": "int64",
         "type": "integer"
        }
       ],
       "conversionMethod": "pd.DataFrame",
       "ref": "22620e45-9966-4e55-aa02-278f067e1c18",
       "rows": [
        [
         "0",
         "62",
         "male",
         "Drug",
         "0",
         "7.30000019",
         "5.0999999",
         "0",
         "0"
        ],
        [
         "2",
         "62",
         "male",
         "Drug",
         "12",
         "5.5999999",
         "5.0",
         "0",
         "0"
        ],
        [
         "4",
         "62",
         "male",
         "Drug",
         "2",
         "6.5999999",
         "5.0999999",
         "0",
         "0"
        ],
        [
         "6",
         "62",
         "male",
         "Drug",
         "4",
         "6.9000001",
         "5.19999981",
         "1",
         "1"
        ],
        [
         "7",
         "62",
         "male",
         "Drug",
         "8",
         "7.0999999",
         "5.0",
         "1",
         "1"
        ]
       ],
       "shape": {
        "columns": 8,
        "rows": 5
       }
      },
      "text/html": [
       "<div>\n",
       "<style scoped>\n",
       "    .dataframe tbody tr th:only-of-type {\n",
       "        vertical-align: middle;\n",
       "    }\n",
       "\n",
       "    .dataframe tbody tr th {\n",
       "        vertical-align: top;\n",
       "    }\n",
       "\n",
       "    .dataframe thead th {\n",
       "        text-align: right;\n",
       "    }\n",
       "</style>\n",
       "<table border=\"1\" class=\"dataframe\">\n",
       "  <thead>\n",
       "    <tr style=\"text-align: right;\">\n",
       "      <th></th>\n",
       "      <th>age</th>\n",
       "      <th>sex</th>\n",
       "      <th>trx</th>\n",
       "      <th>week</th>\n",
       "      <th>wbc</th>\n",
       "      <th>rbc</th>\n",
       "      <th>adverse_effects</th>\n",
       "      <th>num_effects</th>\n",
       "    </tr>\n",
       "  </thead>\n",
       "  <tbody>\n",
       "    <tr>\n",
       "      <th>0</th>\n",
       "      <td>62</td>\n",
       "      <td>male</td>\n",
       "      <td>Drug</td>\n",
       "      <td>0</td>\n",
       "      <td>7.3</td>\n",
       "      <td>5.1</td>\n",
       "      <td>0</td>\n",
       "      <td>0</td>\n",
       "    </tr>\n",
       "    <tr>\n",
       "      <th>2</th>\n",
       "      <td>62</td>\n",
       "      <td>male</td>\n",
       "      <td>Drug</td>\n",
       "      <td>12</td>\n",
       "      <td>5.6</td>\n",
       "      <td>5.0</td>\n",
       "      <td>0</td>\n",
       "      <td>0</td>\n",
       "    </tr>\n",
       "    <tr>\n",
       "      <th>4</th>\n",
       "      <td>62</td>\n",
       "      <td>male</td>\n",
       "      <td>Drug</td>\n",
       "      <td>2</td>\n",
       "      <td>6.6</td>\n",
       "      <td>5.1</td>\n",
       "      <td>0</td>\n",
       "      <td>0</td>\n",
       "    </tr>\n",
       "    <tr>\n",
       "      <th>6</th>\n",
       "      <td>62</td>\n",
       "      <td>male</td>\n",
       "      <td>Drug</td>\n",
       "      <td>4</td>\n",
       "      <td>6.9</td>\n",
       "      <td>5.2</td>\n",
       "      <td>1</td>\n",
       "      <td>1</td>\n",
       "    </tr>\n",
       "    <tr>\n",
       "      <th>7</th>\n",
       "      <td>62</td>\n",
       "      <td>male</td>\n",
       "      <td>Drug</td>\n",
       "      <td>8</td>\n",
       "      <td>7.1</td>\n",
       "      <td>5.0</td>\n",
       "      <td>1</td>\n",
       "      <td>1</td>\n",
       "    </tr>\n",
       "  </tbody>\n",
       "</table>\n",
       "</div>"
      ],
      "text/plain": [
       "   age   sex   trx  week  wbc  rbc  adverse_effects  num_effects\n",
       "0   62  male  Drug     0  7.3  5.1                0            0\n",
       "2   62  male  Drug    12  5.6  5.0                0            0\n",
       "4   62  male  Drug     2  6.6  5.1                0            0\n",
       "6   62  male  Drug     4  6.9  5.2                1            1\n",
       "7   62  male  Drug     8  7.1  5.0                1            1"
      ]
     },
     "execution_count": 16,
     "metadata": {},
     "output_type": "execute_result"
    }
   ],
   "source": [
    "df.head()"
   ]
  },
  {
   "cell_type": "markdown",
   "metadata": {},
   "source": [
    "## Checking mean of wbc, rbc, num_effects and num_effects for each group"
   ]
  },
  {
   "cell_type": "code",
   "execution_count": 17,
   "metadata": {},
   "outputs": [
    {
     "data": {
      "application/vnd.microsoft.datawrangler.viewer.v0+json": {
       "columns": [
        {
         "name": "trx",
         "rawType": "object",
         "type": "string"
        },
        {
         "name": "('wbc', 'mean')",
         "rawType": "float64",
         "type": "float"
        },
        {
         "name": "('rbc', 'mean')",
         "rawType": "float64",
         "type": "float"
        },
        {
         "name": "('num_effects', 'mean')",
         "rawType": "float64",
         "type": "float"
        },
        {
         "name": "('adverse_effects', 'mean')",
         "rawType": "float64",
         "type": "float"
        }
       ],
       "conversionMethod": "pd.DataFrame",
       "ref": "b669b1a7-31d4-4a73-88ea-b7f2528f82e0",
       "rows": [
        [
         "Drug",
         "7.33",
         "4.679",
         "0.102",
         "0.096"
        ],
        [
         "Placebo",
         "7.359",
         "4.661",
         "0.098",
         "0.092"
        ]
       ],
       "shape": {
        "columns": 4,
        "rows": 2
       }
      },
      "text/html": [
       "<div>\n",
       "<style scoped>\n",
       "    .dataframe tbody tr th:only-of-type {\n",
       "        vertical-align: middle;\n",
       "    }\n",
       "\n",
       "    .dataframe tbody tr th {\n",
       "        vertical-align: top;\n",
       "    }\n",
       "\n",
       "    .dataframe thead tr th {\n",
       "        text-align: left;\n",
       "    }\n",
       "\n",
       "    .dataframe thead tr:last-of-type th {\n",
       "        text-align: right;\n",
       "    }\n",
       "</style>\n",
       "<table border=\"1\" class=\"dataframe\">\n",
       "  <thead>\n",
       "    <tr>\n",
       "      <th></th>\n",
       "      <th>wbc</th>\n",
       "      <th>rbc</th>\n",
       "      <th>num_effects</th>\n",
       "      <th>adverse_effects</th>\n",
       "    </tr>\n",
       "    <tr>\n",
       "      <th></th>\n",
       "      <th>mean</th>\n",
       "      <th>mean</th>\n",
       "      <th>mean</th>\n",
       "      <th>mean</th>\n",
       "    </tr>\n",
       "    <tr>\n",
       "      <th>trx</th>\n",
       "      <th></th>\n",
       "      <th></th>\n",
       "      <th></th>\n",
       "      <th></th>\n",
       "    </tr>\n",
       "  </thead>\n",
       "  <tbody>\n",
       "    <tr>\n",
       "      <th>Drug</th>\n",
       "      <td>7.330</td>\n",
       "      <td>4.679</td>\n",
       "      <td>0.102</td>\n",
       "      <td>0.096</td>\n",
       "    </tr>\n",
       "    <tr>\n",
       "      <th>Placebo</th>\n",
       "      <td>7.359</td>\n",
       "      <td>4.661</td>\n",
       "      <td>0.098</td>\n",
       "      <td>0.092</td>\n",
       "    </tr>\n",
       "  </tbody>\n",
       "</table>\n",
       "</div>"
      ],
      "text/plain": [
       "           wbc    rbc num_effects adverse_effects\n",
       "          mean   mean        mean            mean\n",
       "trx                                              \n",
       "Drug     7.330  4.679       0.102           0.096\n",
       "Placebo  7.359  4.661       0.098           0.092"
      ]
     },
     "execution_count": 17,
     "metadata": {},
     "output_type": "execute_result"
    }
   ],
   "source": [
    "grouped_stats = df.groupby(\"trx\")[[\"wbc\", \"rbc\", \"num_effects\", \"adverse_effects\"]].agg([\"mean\"]).round(3)\n",
    "grouped_stats\n"
   ]
  },
  {
   "cell_type": "markdown",
   "metadata": {},
   "source": [
    "## Hypotheses test"
   ]
  },
  {
   "cell_type": "code",
   "execution_count": 19,
   "metadata": {},
   "outputs": [
    {
     "name": "stdout",
     "output_type": "stream",
     "text": [
      "Drug Group - Mean: 4.68, Std Dev: 0.45\n",
      "Placebo Group - Mean: 4.66, Std Dev: 0.47\n",
      "T-statistic: 1.8367, P-value: 0.0663\n",
      "significant level : 0.05\n",
      "We fail to reject the null hypothesis: There is no significant difference between two groups.\n",
      "significant level : 0.1\n",
      "We reject the null hypothesis: There is a significant difference between two groups.\n"
     ]
    }
   ],
   "source": [
    "def hypothesis_test(df):\n",
    "    drug_group = df[df[\"trx\"] == \"Drug\"]['rbc']\n",
    "    placebo_group = df[df[\"trx\"] == \"Placebo\"]['rbc']\n",
    "\n",
    "    mean_drug_group = drug_group.mean()\n",
    "    std_drug_group = drug_group.std()\n",
    "    mean_placebo_group = placebo_group.mean()\n",
    "    std_placebo_group = placebo_group.std()\n",
    "\n",
    "    print(f\"Drug Group - Mean: {mean_drug_group:.2f}, Std Dev: {std_drug_group:.2f}\")\n",
    "    print(f\"Placebo Group - Mean: {mean_placebo_group:.2f}, Std Dev: {std_placebo_group:.2f}\")\n",
    "\n",
    "    t_stat, p_value = stats.ttest_ind(drug_group, placebo_group, alternative='two-sided', equal_var=True)\n",
    "\n",
    "    print(f\"T-statistic: {t_stat:.4f}, P-value: {p_value:.4f}\")\n",
    "\n",
    "    alpha = 0.05\n",
    "    print(\"significant level : 0.05\")\n",
    "    if p_value < alpha:\n",
    "        print(\"We reject the null hypothesis: There is a significant difference between two groups.\")\n",
    "    else:\n",
    "        print(\"We fail to reject the null hypothesis: There is no significant difference between two groups.\")\n",
    "\n",
    "    alpha = 0.1\n",
    "    print(\"significant level : 0.1\")\n",
    "    if p_value < alpha:\n",
    "        print(\"We reject the null hypothesis: There is a significant difference between two groups.\")\n",
    "    else:\n",
    "        print(\"We fail to reject the null hypothesis: There is no significant difference between two groups.\")\n",
    "\n",
    "\n",
    "hypothesis_test(df)"
   ]
  },
  {
   "cell_type": "markdown",
   "metadata": {},
   "source": [
    "## Alternative and equal_var argument"
   ]
  },
  {
   "cell_type": "markdown",
   "metadata": {},
   "source": [
    "### The alternative Argument\n",
    "The alternative argument specifies the alternative hypothesis. It can take three values:\n",
    "\n",
    "`two-sided` : Tests if the means of the two groups are significantly different from each other. In other words, it checks if the means of the two groups are different, but it doesn't specify which group is higher or lower. This is the most common approach when we don't have a specific direction in mind.\n",
    "\n",
    "`less` : Tests if the mean of the first group is significantly less than the mean of the second group.\n",
    "\n",
    "`greater` : Tests if the mean of the first group is significantly greater than the mean of the second group.\n",
    "\n",
    "We chose `two-sided` because we want to test for any significant difference between the Drug and Placebo groups, regardless of direction.\n",
    "\n",
    "### The equal_var Argument\n",
    "The equal_var argument specifies whether to assume that the two populations have equal variances. It can take two values:\n",
    "\n",
    "`True`: Assumes that the variances of the two groups are equal.\n",
    "\n",
    "`False`: Does not assume that the variances of the two groups are equal.\n",
    "\n",
    "We used `True` because both groups have the same standard deviation."
   ]
  }
 ],
 "metadata": {
  "kernelspec": {
   "display_name": "Project",
   "language": "python",
   "name": "python3"
  },
  "language_info": {
   "codemirror_mode": {
    "name": "ipython",
    "version": 3
   },
   "file_extension": ".py",
   "mimetype": "text/x-python",
   "name": "python",
   "nbconvert_exporter": "python",
   "pygments_lexer": "ipython3",
   "version": "3.11.11"
  }
 },
 "nbformat": 4,
 "nbformat_minor": 2
}
