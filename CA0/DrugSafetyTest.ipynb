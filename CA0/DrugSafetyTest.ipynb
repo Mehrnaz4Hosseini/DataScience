{
 "cells": [
  {
   "cell_type": "code",
   "execution_count": 73,
   "metadata": {},
   "outputs": [],
   "source": [
    "import pandas as pd\n",
    "import numpy as np\n",
    "import scipy.stats as stats\n",
    "from sklearn.preprocessing import LabelEncoder"
   ]
  },
  {
   "cell_type": "markdown",
   "metadata": {},
   "source": [
    "## Loading the dataset"
   ]
  },
  {
   "cell_type": "code",
   "execution_count": 74,
   "metadata": {},
   "outputs": [],
   "source": [
    "df = pd.read_csv('drug_safety.csv')"
   ]
  },
  {
   "cell_type": "code",
   "execution_count": 75,
   "metadata": {},
   "outputs": [
    {
     "data": {
      "text/html": [
       "<div>\n",
       "<style scoped>\n",
       "    .dataframe tbody tr th:only-of-type {\n",
       "        vertical-align: middle;\n",
       "    }\n",
       "\n",
       "    .dataframe tbody tr th {\n",
       "        vertical-align: top;\n",
       "    }\n",
       "\n",
       "    .dataframe thead th {\n",
       "        text-align: right;\n",
       "    }\n",
       "</style>\n",
       "<table border=\"1\" class=\"dataframe\">\n",
       "  <thead>\n",
       "    <tr style=\"text-align: right;\">\n",
       "      <th></th>\n",
       "      <th>age</th>\n",
       "      <th>sex</th>\n",
       "      <th>trx</th>\n",
       "      <th>week</th>\n",
       "      <th>wbc</th>\n",
       "      <th>rbc</th>\n",
       "      <th>adverse_effects</th>\n",
       "      <th>num_effects</th>\n",
       "    </tr>\n",
       "  </thead>\n",
       "  <tbody>\n",
       "    <tr>\n",
       "      <th>0</th>\n",
       "      <td>62</td>\n",
       "      <td>male</td>\n",
       "      <td>Drug</td>\n",
       "      <td>0</td>\n",
       "      <td>7.3</td>\n",
       "      <td>5.1</td>\n",
       "      <td>No</td>\n",
       "      <td>0</td>\n",
       "    </tr>\n",
       "    <tr>\n",
       "      <th>1</th>\n",
       "      <td>62</td>\n",
       "      <td>male</td>\n",
       "      <td>Drug</td>\n",
       "      <td>1</td>\n",
       "      <td>NaN</td>\n",
       "      <td>NaN</td>\n",
       "      <td>No</td>\n",
       "      <td>0</td>\n",
       "    </tr>\n",
       "    <tr>\n",
       "      <th>2</th>\n",
       "      <td>62</td>\n",
       "      <td>male</td>\n",
       "      <td>Drug</td>\n",
       "      <td>12</td>\n",
       "      <td>5.6</td>\n",
       "      <td>5.0</td>\n",
       "      <td>No</td>\n",
       "      <td>0</td>\n",
       "    </tr>\n",
       "    <tr>\n",
       "      <th>3</th>\n",
       "      <td>62</td>\n",
       "      <td>male</td>\n",
       "      <td>Drug</td>\n",
       "      <td>16</td>\n",
       "      <td>NaN</td>\n",
       "      <td>NaN</td>\n",
       "      <td>No</td>\n",
       "      <td>0</td>\n",
       "    </tr>\n",
       "    <tr>\n",
       "      <th>4</th>\n",
       "      <td>62</td>\n",
       "      <td>male</td>\n",
       "      <td>Drug</td>\n",
       "      <td>2</td>\n",
       "      <td>6.6</td>\n",
       "      <td>5.1</td>\n",
       "      <td>No</td>\n",
       "      <td>0</td>\n",
       "    </tr>\n",
       "  </tbody>\n",
       "</table>\n",
       "</div>"
      ],
      "text/plain": [
       "   age   sex   trx  week  wbc  rbc adverse_effects  num_effects\n",
       "0   62  male  Drug     0  7.3  5.1              No            0\n",
       "1   62  male  Drug     1  NaN  NaN              No            0\n",
       "2   62  male  Drug    12  5.6  5.0              No            0\n",
       "3   62  male  Drug    16  NaN  NaN              No            0\n",
       "4   62  male  Drug     2  6.6  5.1              No            0"
      ]
     },
     "execution_count": 75,
     "metadata": {},
     "output_type": "execute_result"
    }
   ],
   "source": [
    "df.head()"
   ]
  },
  {
   "cell_type": "markdown",
   "metadata": {},
   "source": [
    "## Remove nan values"
   ]
  },
  {
   "cell_type": "code",
   "execution_count": 76,
   "metadata": {},
   "outputs": [
    {
     "data": {
      "text/plain": [
       "age                   0\n",
       "sex                   0\n",
       "trx                   0\n",
       "week                  0\n",
       "wbc                6975\n",
       "rbc                6976\n",
       "adverse_effects       0\n",
       "num_effects           0\n",
       "dtype: int64"
      ]
     },
     "execution_count": 76,
     "metadata": {},
     "output_type": "execute_result"
    }
   ],
   "source": [
    "df.isna().sum()"
   ]
  },
  {
   "cell_type": "code",
   "execution_count": 77,
   "metadata": {},
   "outputs": [],
   "source": [
    "df.dropna(inplace=True)"
   ]
  },
  {
   "cell_type": "code",
   "execution_count": 78,
   "metadata": {},
   "outputs": [
    {
     "data": {
      "text/plain": [
       "9127"
      ]
     },
     "execution_count": 78,
     "metadata": {},
     "output_type": "execute_result"
    }
   ],
   "source": [
    "len(df)"
   ]
  },
  {
   "cell_type": "code",
   "execution_count": 79,
   "metadata": {},
   "outputs": [
    {
     "data": {
      "text/plain": [
       "age                0\n",
       "sex                0\n",
       "trx                0\n",
       "week               0\n",
       "wbc                0\n",
       "rbc                0\n",
       "adverse_effects    0\n",
       "num_effects        0\n",
       "dtype: int64"
      ]
     },
     "execution_count": 79,
     "metadata": {},
     "output_type": "execute_result"
    }
   ],
   "source": [
    "df.isna().sum()"
   ]
  },
  {
   "cell_type": "markdown",
   "metadata": {},
   "source": [
    "##  basic statistics for numeric columns."
   ]
  },
  {
   "cell_type": "code",
   "execution_count": 80,
   "metadata": {},
   "outputs": [
    {
     "data": {
      "text/html": [
       "<div>\n",
       "<style scoped>\n",
       "    .dataframe tbody tr th:only-of-type {\n",
       "        vertical-align: middle;\n",
       "    }\n",
       "\n",
       "    .dataframe tbody tr th {\n",
       "        vertical-align: top;\n",
       "    }\n",
       "\n",
       "    .dataframe thead th {\n",
       "        text-align: right;\n",
       "    }\n",
       "</style>\n",
       "<table border=\"1\" class=\"dataframe\">\n",
       "  <thead>\n",
       "    <tr style=\"text-align: right;\">\n",
       "      <th></th>\n",
       "      <th>age</th>\n",
       "      <th>week</th>\n",
       "      <th>wbc</th>\n",
       "      <th>rbc</th>\n",
       "      <th>num_effects</th>\n",
       "    </tr>\n",
       "  </thead>\n",
       "  <tbody>\n",
       "    <tr>\n",
       "      <th>count</th>\n",
       "      <td>9127.000000</td>\n",
       "      <td>9127.000000</td>\n",
       "      <td>9127.000000</td>\n",
       "      <td>9127.000000</td>\n",
       "      <td>9127.000000</td>\n",
       "    </tr>\n",
       "    <tr>\n",
       "      <th>mean</th>\n",
       "      <td>64.007670</td>\n",
       "      <td>4.985428</td>\n",
       "      <td>7.340331</td>\n",
       "      <td>4.672784</td>\n",
       "      <td>0.100800</td>\n",
       "    </tr>\n",
       "    <tr>\n",
       "      <th>std</th>\n",
       "      <td>8.847711</td>\n",
       "      <td>4.375397</td>\n",
       "      <td>1.996645</td>\n",
       "      <td>0.458520</td>\n",
       "      <td>0.322178</td>\n",
       "    </tr>\n",
       "    <tr>\n",
       "      <th>min</th>\n",
       "      <td>39.000000</td>\n",
       "      <td>0.000000</td>\n",
       "      <td>1.800000</td>\n",
       "      <td>2.100000</td>\n",
       "      <td>0.000000</td>\n",
       "    </tr>\n",
       "    <tr>\n",
       "      <th>25%</th>\n",
       "      <td>58.000000</td>\n",
       "      <td>2.000000</td>\n",
       "      <td>6.000000</td>\n",
       "      <td>4.400000</td>\n",
       "      <td>0.000000</td>\n",
       "    </tr>\n",
       "    <tr>\n",
       "      <th>50%</th>\n",
       "      <td>65.000000</td>\n",
       "      <td>4.000000</td>\n",
       "      <td>7.100000</td>\n",
       "      <td>4.700000</td>\n",
       "      <td>0.000000</td>\n",
       "    </tr>\n",
       "    <tr>\n",
       "      <th>75%</th>\n",
       "      <td>71.000000</td>\n",
       "      <td>8.000000</td>\n",
       "      <td>8.400000</td>\n",
       "      <td>5.000000</td>\n",
       "      <td>0.000000</td>\n",
       "    </tr>\n",
       "    <tr>\n",
       "      <th>max</th>\n",
       "      <td>84.000000</td>\n",
       "      <td>20.000000</td>\n",
       "      <td>26.500000</td>\n",
       "      <td>7.600000</td>\n",
       "      <td>3.000000</td>\n",
       "    </tr>\n",
       "  </tbody>\n",
       "</table>\n",
       "</div>"
      ],
      "text/plain": [
       "               age         week          wbc          rbc  num_effects\n",
       "count  9127.000000  9127.000000  9127.000000  9127.000000  9127.000000\n",
       "mean     64.007670     4.985428     7.340331     4.672784     0.100800\n",
       "std       8.847711     4.375397     1.996645     0.458520     0.322178\n",
       "min      39.000000     0.000000     1.800000     2.100000     0.000000\n",
       "25%      58.000000     2.000000     6.000000     4.400000     0.000000\n",
       "50%      65.000000     4.000000     7.100000     4.700000     0.000000\n",
       "75%      71.000000     8.000000     8.400000     5.000000     0.000000\n",
       "max      84.000000    20.000000    26.500000     7.600000     3.000000"
      ]
     },
     "execution_count": 80,
     "metadata": {},
     "output_type": "execute_result"
    }
   ],
   "source": [
    "df.describe()"
   ]
  },
  {
   "cell_type": "markdown",
   "metadata": {},
   "source": [
    "## Group the dataset by trx and summarize key statistics"
   ]
  },
  {
   "cell_type": "code",
   "execution_count": 81,
   "metadata": {},
   "outputs": [
    {
     "data": {
      "text/html": [
       "<div>\n",
       "<style scoped>\n",
       "    .dataframe tbody tr th:only-of-type {\n",
       "        vertical-align: middle;\n",
       "    }\n",
       "\n",
       "    .dataframe tbody tr th {\n",
       "        vertical-align: top;\n",
       "    }\n",
       "\n",
       "    .dataframe thead th {\n",
       "        text-align: right;\n",
       "    }\n",
       "</style>\n",
       "<table border=\"1\" class=\"dataframe\">\n",
       "  <thead>\n",
       "    <tr style=\"text-align: right;\">\n",
       "      <th></th>\n",
       "      <th>count</th>\n",
       "      <th>mean</th>\n",
       "      <th>std</th>\n",
       "      <th>min</th>\n",
       "      <th>25%</th>\n",
       "      <th>50%</th>\n",
       "      <th>75%</th>\n",
       "      <th>max</th>\n",
       "    </tr>\n",
       "    <tr>\n",
       "      <th>trx</th>\n",
       "      <th></th>\n",
       "      <th></th>\n",
       "      <th></th>\n",
       "      <th></th>\n",
       "      <th></th>\n",
       "      <th></th>\n",
       "      <th></th>\n",
       "      <th></th>\n",
       "    </tr>\n",
       "  </thead>\n",
       "  <tbody>\n",
       "    <tr>\n",
       "      <th>Drug</th>\n",
       "      <td>6011.0</td>\n",
       "      <td>7.33</td>\n",
       "      <td>2.01</td>\n",
       "      <td>1.8</td>\n",
       "      <td>6.0</td>\n",
       "      <td>7.00</td>\n",
       "      <td>8.4</td>\n",
       "      <td>26.5</td>\n",
       "    </tr>\n",
       "    <tr>\n",
       "      <th>Placebo</th>\n",
       "      <td>3116.0</td>\n",
       "      <td>7.36</td>\n",
       "      <td>1.97</td>\n",
       "      <td>3.0</td>\n",
       "      <td>6.0</td>\n",
       "      <td>7.15</td>\n",
       "      <td>8.4</td>\n",
       "      <td>23.8</td>\n",
       "    </tr>\n",
       "  </tbody>\n",
       "</table>\n",
       "</div>"
      ],
      "text/plain": [
       "          count  mean   std  min  25%   50%  75%   max\n",
       "trx                                                   \n",
       "Drug     6011.0  7.33  2.01  1.8  6.0  7.00  8.4  26.5\n",
       "Placebo  3116.0  7.36  1.97  3.0  6.0  7.15  8.4  23.8"
      ]
     },
     "execution_count": 81,
     "metadata": {},
     "output_type": "execute_result"
    }
   ],
   "source": [
    "df.groupby('trx')['wbc'].describe().round(2)"
   ]
  },
  {
   "cell_type": "code",
   "execution_count": 82,
   "metadata": {},
   "outputs": [
    {
     "data": {
      "text/html": [
       "<div>\n",
       "<style scoped>\n",
       "    .dataframe tbody tr th:only-of-type {\n",
       "        vertical-align: middle;\n",
       "    }\n",
       "\n",
       "    .dataframe tbody tr th {\n",
       "        vertical-align: top;\n",
       "    }\n",
       "\n",
       "    .dataframe thead th {\n",
       "        text-align: right;\n",
       "    }\n",
       "</style>\n",
       "<table border=\"1\" class=\"dataframe\">\n",
       "  <thead>\n",
       "    <tr style=\"text-align: right;\">\n",
       "      <th></th>\n",
       "      <th>count</th>\n",
       "      <th>mean</th>\n",
       "      <th>std</th>\n",
       "      <th>min</th>\n",
       "      <th>25%</th>\n",
       "      <th>50%</th>\n",
       "      <th>75%</th>\n",
       "      <th>max</th>\n",
       "    </tr>\n",
       "    <tr>\n",
       "      <th>trx</th>\n",
       "      <th></th>\n",
       "      <th></th>\n",
       "      <th></th>\n",
       "      <th></th>\n",
       "      <th></th>\n",
       "      <th></th>\n",
       "      <th></th>\n",
       "      <th></th>\n",
       "    </tr>\n",
       "  </thead>\n",
       "  <tbody>\n",
       "    <tr>\n",
       "      <th>Drug</th>\n",
       "      <td>6011.0</td>\n",
       "      <td>4.68</td>\n",
       "      <td>0.45</td>\n",
       "      <td>2.7</td>\n",
       "      <td>4.4</td>\n",
       "      <td>4.7</td>\n",
       "      <td>5.0</td>\n",
       "      <td>7.5</td>\n",
       "    </tr>\n",
       "    <tr>\n",
       "      <th>Placebo</th>\n",
       "      <td>3116.0</td>\n",
       "      <td>4.66</td>\n",
       "      <td>0.47</td>\n",
       "      <td>2.1</td>\n",
       "      <td>4.4</td>\n",
       "      <td>4.7</td>\n",
       "      <td>5.0</td>\n",
       "      <td>7.6</td>\n",
       "    </tr>\n",
       "  </tbody>\n",
       "</table>\n",
       "</div>"
      ],
      "text/plain": [
       "          count  mean   std  min  25%  50%  75%  max\n",
       "trx                                                 \n",
       "Drug     6011.0  4.68  0.45  2.7  4.4  4.7  5.0  7.5\n",
       "Placebo  3116.0  4.66  0.47  2.1  4.4  4.7  5.0  7.6"
      ]
     },
     "execution_count": 82,
     "metadata": {},
     "output_type": "execute_result"
    }
   ],
   "source": [
    "df.groupby('trx')['rbc'].describe().round(2)"
   ]
  },
  {
   "cell_type": "code",
   "execution_count": 83,
   "metadata": {},
   "outputs": [
    {
     "data": {
      "text/html": [
       "<div>\n",
       "<style scoped>\n",
       "    .dataframe tbody tr th:only-of-type {\n",
       "        vertical-align: middle;\n",
       "    }\n",
       "\n",
       "    .dataframe tbody tr th {\n",
       "        vertical-align: top;\n",
       "    }\n",
       "\n",
       "    .dataframe thead th {\n",
       "        text-align: right;\n",
       "    }\n",
       "</style>\n",
       "<table border=\"1\" class=\"dataframe\">\n",
       "  <thead>\n",
       "    <tr style=\"text-align: right;\">\n",
       "      <th></th>\n",
       "      <th>count</th>\n",
       "      <th>mean</th>\n",
       "      <th>std</th>\n",
       "      <th>min</th>\n",
       "      <th>25%</th>\n",
       "      <th>50%</th>\n",
       "      <th>75%</th>\n",
       "      <th>max</th>\n",
       "    </tr>\n",
       "    <tr>\n",
       "      <th>trx</th>\n",
       "      <th></th>\n",
       "      <th></th>\n",
       "      <th></th>\n",
       "      <th></th>\n",
       "      <th></th>\n",
       "      <th></th>\n",
       "      <th></th>\n",
       "      <th></th>\n",
       "    </tr>\n",
       "  </thead>\n",
       "  <tbody>\n",
       "    <tr>\n",
       "      <th>Drug</th>\n",
       "      <td>6011.0</td>\n",
       "      <td>0.1</td>\n",
       "      <td>0.33</td>\n",
       "      <td>0.0</td>\n",
       "      <td>0.0</td>\n",
       "      <td>0.0</td>\n",
       "      <td>0.0</td>\n",
       "      <td>3.0</td>\n",
       "    </tr>\n",
       "    <tr>\n",
       "      <th>Placebo</th>\n",
       "      <td>3116.0</td>\n",
       "      <td>0.1</td>\n",
       "      <td>0.32</td>\n",
       "      <td>0.0</td>\n",
       "      <td>0.0</td>\n",
       "      <td>0.0</td>\n",
       "      <td>0.0</td>\n",
       "      <td>3.0</td>\n",
       "    </tr>\n",
       "  </tbody>\n",
       "</table>\n",
       "</div>"
      ],
      "text/plain": [
       "          count  mean   std  min  25%  50%  75%  max\n",
       "trx                                                 \n",
       "Drug     6011.0   0.1  0.33  0.0  0.0  0.0  0.0  3.0\n",
       "Placebo  3116.0   0.1  0.32  0.0  0.0  0.0  0.0  3.0"
      ]
     },
     "execution_count": 83,
     "metadata": {},
     "output_type": "execute_result"
    }
   ],
   "source": [
    "df.groupby('trx')['num_effects'].describe().round(2)"
   ]
  },
  {
   "cell_type": "markdown",
   "metadata": {},
   "source": [
    "## Convert adverse_effects column to numeric column"
   ]
  },
  {
   "cell_type": "code",
   "execution_count": null,
   "metadata": {},
   "outputs": [],
   "source": [
    "label_encoder = LabelEncoder()\n",
    "#No : 0\n",
    "#Yes : 1\n",
    "df['adverse_effects'] = label_encoder.fit_transform(df['adverse_effects'])"
   ]
  },
  {
   "cell_type": "code",
   "execution_count": 85,
   "metadata": {},
   "outputs": [
    {
     "data": {
      "text/html": [
       "<div>\n",
       "<style scoped>\n",
       "    .dataframe tbody tr th:only-of-type {\n",
       "        vertical-align: middle;\n",
       "    }\n",
       "\n",
       "    .dataframe tbody tr th {\n",
       "        vertical-align: top;\n",
       "    }\n",
       "\n",
       "    .dataframe thead th {\n",
       "        text-align: right;\n",
       "    }\n",
       "</style>\n",
       "<table border=\"1\" class=\"dataframe\">\n",
       "  <thead>\n",
       "    <tr style=\"text-align: right;\">\n",
       "      <th></th>\n",
       "      <th>age</th>\n",
       "      <th>sex</th>\n",
       "      <th>trx</th>\n",
       "      <th>week</th>\n",
       "      <th>wbc</th>\n",
       "      <th>rbc</th>\n",
       "      <th>adverse_effects</th>\n",
       "      <th>num_effects</th>\n",
       "    </tr>\n",
       "  </thead>\n",
       "  <tbody>\n",
       "    <tr>\n",
       "      <th>0</th>\n",
       "      <td>62</td>\n",
       "      <td>male</td>\n",
       "      <td>Drug</td>\n",
       "      <td>0</td>\n",
       "      <td>7.3</td>\n",
       "      <td>5.1</td>\n",
       "      <td>0</td>\n",
       "      <td>0</td>\n",
       "    </tr>\n",
       "    <tr>\n",
       "      <th>2</th>\n",
       "      <td>62</td>\n",
       "      <td>male</td>\n",
       "      <td>Drug</td>\n",
       "      <td>12</td>\n",
       "      <td>5.6</td>\n",
       "      <td>5.0</td>\n",
       "      <td>0</td>\n",
       "      <td>0</td>\n",
       "    </tr>\n",
       "    <tr>\n",
       "      <th>4</th>\n",
       "      <td>62</td>\n",
       "      <td>male</td>\n",
       "      <td>Drug</td>\n",
       "      <td>2</td>\n",
       "      <td>6.6</td>\n",
       "      <td>5.1</td>\n",
       "      <td>0</td>\n",
       "      <td>0</td>\n",
       "    </tr>\n",
       "    <tr>\n",
       "      <th>6</th>\n",
       "      <td>62</td>\n",
       "      <td>male</td>\n",
       "      <td>Drug</td>\n",
       "      <td>4</td>\n",
       "      <td>6.9</td>\n",
       "      <td>5.2</td>\n",
       "      <td>1</td>\n",
       "      <td>1</td>\n",
       "    </tr>\n",
       "    <tr>\n",
       "      <th>7</th>\n",
       "      <td>62</td>\n",
       "      <td>male</td>\n",
       "      <td>Drug</td>\n",
       "      <td>8</td>\n",
       "      <td>7.1</td>\n",
       "      <td>5.0</td>\n",
       "      <td>1</td>\n",
       "      <td>1</td>\n",
       "    </tr>\n",
       "  </tbody>\n",
       "</table>\n",
       "</div>"
      ],
      "text/plain": [
       "   age   sex   trx  week  wbc  rbc  adverse_effects  num_effects\n",
       "0   62  male  Drug     0  7.3  5.1                0            0\n",
       "2   62  male  Drug    12  5.6  5.0                0            0\n",
       "4   62  male  Drug     2  6.6  5.1                0            0\n",
       "6   62  male  Drug     4  6.9  5.2                1            1\n",
       "7   62  male  Drug     8  7.1  5.0                1            1"
      ]
     },
     "execution_count": 85,
     "metadata": {},
     "output_type": "execute_result"
    }
   ],
   "source": [
    "df.head()"
   ]
  },
  {
   "cell_type": "markdown",
   "metadata": {},
   "source": [
    "## Checking mean of wbc, rbc, num_effects and num_effects for each group"
   ]
  },
  {
   "cell_type": "code",
   "execution_count": 86,
   "metadata": {},
   "outputs": [
    {
     "data": {
      "text/html": [
       "<div>\n",
       "<style scoped>\n",
       "    .dataframe tbody tr th:only-of-type {\n",
       "        vertical-align: middle;\n",
       "    }\n",
       "\n",
       "    .dataframe tbody tr th {\n",
       "        vertical-align: top;\n",
       "    }\n",
       "\n",
       "    .dataframe thead tr th {\n",
       "        text-align: left;\n",
       "    }\n",
       "\n",
       "    .dataframe thead tr:last-of-type th {\n",
       "        text-align: right;\n",
       "    }\n",
       "</style>\n",
       "<table border=\"1\" class=\"dataframe\">\n",
       "  <thead>\n",
       "    <tr>\n",
       "      <th></th>\n",
       "      <th>wbc</th>\n",
       "      <th>rbc</th>\n",
       "      <th>num_effects</th>\n",
       "      <th>adverse_effects</th>\n",
       "    </tr>\n",
       "    <tr>\n",
       "      <th></th>\n",
       "      <th>mean</th>\n",
       "      <th>mean</th>\n",
       "      <th>mean</th>\n",
       "      <th>mean</th>\n",
       "    </tr>\n",
       "    <tr>\n",
       "      <th>trx</th>\n",
       "      <th></th>\n",
       "      <th></th>\n",
       "      <th></th>\n",
       "      <th></th>\n",
       "    </tr>\n",
       "  </thead>\n",
       "  <tbody>\n",
       "    <tr>\n",
       "      <th>Drug</th>\n",
       "      <td>7.330</td>\n",
       "      <td>4.679</td>\n",
       "      <td>0.102</td>\n",
       "      <td>0.096</td>\n",
       "    </tr>\n",
       "    <tr>\n",
       "      <th>Placebo</th>\n",
       "      <td>7.359</td>\n",
       "      <td>4.661</td>\n",
       "      <td>0.098</td>\n",
       "      <td>0.092</td>\n",
       "    </tr>\n",
       "  </tbody>\n",
       "</table>\n",
       "</div>"
      ],
      "text/plain": [
       "           wbc    rbc num_effects adverse_effects\n",
       "          mean   mean        mean            mean\n",
       "trx                                              \n",
       "Drug     7.330  4.679       0.102           0.096\n",
       "Placebo  7.359  4.661       0.098           0.092"
      ]
     },
     "execution_count": 86,
     "metadata": {},
     "output_type": "execute_result"
    }
   ],
   "source": [
    "grouped_stats = df.groupby(\"trx\")[[\"wbc\", \"rbc\", \"num_effects\", \"adverse_effects\"]].agg([\"mean\"]).round(3)\n",
    "grouped_stats\n"
   ]
  },
  {
   "cell_type": "markdown",
   "metadata": {},
   "source": [
    "## Hypotheses test"
   ]
  },
  {
   "cell_type": "code",
   "execution_count": null,
   "metadata": {},
   "outputs": [
    {
     "name": "stdout",
     "output_type": "stream",
     "text": [
      "Drug Group - Mean: 0.10, Std Dev: 0.29\n",
      "Placebo Group - Mean: 0.09, Std Dev: 0.29\n",
      "T-statistic: 0.6012, P-value: 0.5477\n",
      "significant level : 0.05\n",
      "We fail to reject the null hypothesis: There is no significant difference between two groups.\n",
      "significant level : 0.1\n",
      "We fail to reject the null hypothesis: There is no significant difference between two groups.\n"
     ]
    }
   ],
   "source": [
    "def hypothesis_test(df):\n",
    "    drug_group = df[df[\"trx\"] == \"Drug\"]['adverse_effects']\n",
    "    placebo_group = df[df[\"trx\"] == \"Placebo\"]['adverse_effects']\n",
    "\n",
    "    mean_drug_group = drug_group.mean()\n",
    "    std_drug_group = drug_group.std()\n",
    "    mean_placebo_group = placebo_group.mean()\n",
    "    std_placebo_group = placebo_group.std()\n",
    "\n",
    "    print(f\"Drug Group - Mean: {mean_drug_group:.2f}, Std Dev: {std_drug_group:.2f}\")\n",
    "    print(f\"Placebo Group - Mean: {mean_placebo_group:.2f}, Std Dev: {std_placebo_group:.2f}\")\n",
    "\n",
    "    t_stat, p_value = stats.ttest_ind(drug_group, placebo_group, alternative='two-sided', equal_var=True)\n",
    "\n",
    "    print(f\"T-statistic: {t_stat:.4f}, P-value: {p_value:.4f}\")\n",
    "\n",
    "    alpha = 0.05\n",
    "    print(\"significant level : 0.05\")\n",
    "    if p_value < alpha:\n",
    "        print(\"We reject the null hypothesis: There is a significant difference between two groups.\")\n",
    "    else:\n",
    "        print(\"We fail to reject the null hypothesis: There is no significant difference between two groups.\")\n",
    "\n",
    "    alpha = 0.1\n",
    "    print(\"significant level : 0.1\")\n",
    "    if p_value < alpha:\n",
    "        print(\"We reject the null hypothesis: There is a significant difference between two groups.\")\n",
    "    else:\n",
    "        print(\"We fail to reject the null hypothesis: There is no significant difference between two groups.\")\n",
    "\n",
    "\n",
    "hypothesis_test(df)"
   ]
  },
  {
   "cell_type": "markdown",
   "metadata": {},
   "source": [
    "## Alternative and equal_var argument"
   ]
  },
  {
   "cell_type": "markdown",
   "metadata": {},
   "source": [
    "### The alternative Argument\n",
    "The alternative argument specifies the alternative hypothesis. It can take three values:\n",
    "\n",
    "`two-sided` : Tests if the means of the two groups are significantly different from each other. In other words, it checks if the means of the two groups are different, but it doesn't specify which group is higher or lower. This is the most common approach when we don't have a specific direction in mind.\n",
    "\n",
    "`less` : Tests if the mean of the first group is significantly less than the mean of the second group.\n",
    "\n",
    "`greater` : Tests if the mean of the first group is significantly greater than the mean of the second group.\n",
    "\n",
    "We chose `two-sided` because we want to test for any significant difference between the Drug and Placebo groups, regardless of direction.\n",
    "\n",
    "### The equal_var Argument\n",
    "The equal_var argument specifies whether to assume that the two populations have equal variances. It can take two values:\n",
    "\n",
    "`True`: Assumes that the variances of the two groups are equal.\n",
    "\n",
    "`False`: Does not assume that the variances of the two groups are equal.\n",
    "\n",
    "We used `True` because both groups have the same standard deviation."
   ]
  }
 ],
 "metadata": {
  "kernelspec": {
   "display_name": "Python 3",
   "language": "python",
   "name": "python3"
  },
  "language_info": {
   "codemirror_mode": {
    "name": "ipython",
    "version": 3
   },
   "file_extension": ".py",
   "mimetype": "text/x-python",
   "name": "python",
   "nbconvert_exporter": "python",
   "pygments_lexer": "ipython3",
   "version": "3.9.12"
  }
 },
 "nbformat": 4,
 "nbformat_minor": 2
}
